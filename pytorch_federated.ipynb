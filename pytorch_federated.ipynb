{
 "cells": [
  {
   "cell_type": "code",
   "execution_count": 1,
   "id": "f41c3db8",
   "metadata": {},
   "outputs": [],
   "source": [
    "# pytorch mlp for regression\n",
    "from numpy import vstack\n",
    "from numpy import sqrt\n",
    "from pandas import read_csv\n",
    "from sklearn.metrics import mean_squared_error\n",
    "from torch.utils.data import Dataset\n",
    "from torch.utils.data import DataLoader\n",
    "from torch.utils.data import random_split\n",
    "from torch import Tensor\n",
    "from torch.nn import Linear\n",
    "from torch.nn import Sigmoid\n",
    "from torch.nn import Module\n",
    "from torch.optim import SGD\n",
    "from torch.nn import MSELoss\n",
    "from torch.nn.init import xavier_uniform_\n"
   ]
  },
  {
   "cell_type": "code",
   "execution_count": 28,
   "id": "6e1c96fe",
   "metadata": {},
   "outputs": [],
   "source": [
    "# dataset definition\n",
    "class CSVDataset(Dataset):\n",
    "    # load the dataset\n",
    "    def __init__(self, path):\n",
    "        # load the csv file as a dataframe\n",
    "        df = read_csv(path, header=None)\n",
    "        # store the inputs and outputs\n",
    "        self.X = df.values[:, :-1].astype('float32')\n",
    "        self.y = df.values[:, -1].astype('float32')\n",
    "    \n",
    "        # ensure target has the right shape\n",
    "        self.y = self.y.reshape((len(self.y), 1))\n",
    "\n",
    "    # number of rows in the dataset\n",
    "    def __len__(self):\n",
    "        return len(self.X)\n",
    "\n",
    "    # get a row at an index\n",
    "    def __getitem__(self, idx):\n",
    "        return [self.X[idx], self.y[idx]]\n",
    "\n",
    "    # get indexes for train and test rows\n",
    "    def get_splits(self, n_test=0.33):\n",
    "        # determine sizes\n",
    "        test_size = round(n_test * len(self.X))\n",
    "        train_size = len(self.X) - test_size\n",
    "        # calculate the split\n",
    "        return random_split(self, [train_size, test_size])\n",
    "\n",
    "# model definition\n",
    "class MLP(Module):\n",
    "    # define model elements\n",
    "    def __init__(self, n_inputs):\n",
    "        super(MLP, self).__init__()\n",
    "        # input to first hidden layer\n",
    "        self.hidden1 = Linear(n_inputs, 32)\n",
    "        xavier_uniform_(self.hidden1.weight)\n",
    "        self.act1 = Sigmoid()\n",
    "        # second hidden layer\n",
    "        self.hidden2 = Linear(32, 16)\n",
    "        xavier_uniform_(self.hidden2.weight)\n",
    "        self.act2 = Sigmoid()\n",
    "        # third hidden layer and output\n",
    "        self.hidden3 = Linear(16, 1)\n",
    "        xavier_uniform_(self.hidden3.weight)\n",
    "\n",
    "    # forward propagate input\n",
    "    def forward(self, X):\n",
    "        # input to first hidden layer\n",
    "        X = self.hidden1(X)\n",
    "        X = self.act1(X)\n",
    "         # second hidden layer\n",
    "        X = self.hidden2(X)\n",
    "        X = self.act2(X)\n",
    "        # third hidden layer and output\n",
    "        X = self.hidden3(X)\n",
    "        return X\n",
    "\n",
    "# prepare the dataset\n",
    "def prepare_data(path):\n",
    "    # load the dataset\n",
    "    dataset = CSVDataset(path)\n",
    "    # calculate split\n",
    "    train, test = dataset.get_splits()\n",
    "    # prepare data loaders\n",
    "    train_dl = DataLoader(train, batch_size=32, shuffle=False)\n",
    "    test_dl = DataLoader(test, batch_size=32, shuffle=False)\n",
    "    return train_dl, test_dl\n",
    "\n",
    "# train the model\n",
    "def train_model(train_dl, model):\n",
    "    # define the optimization\n",
    "    criterion = MSELoss()\n",
    "    optimizer = SGD(model.parameters(), lr=0.01, momentum=0.9)\n",
    "    # enumerate epochs\n",
    "    for epoch in range(100):\n",
    "        # enumerate mini batches\n",
    "        for i, (inputs, targets) in enumerate(train_dl):\n",
    "            # clear the gradients\n",
    "            optimizer.zero_grad()\n",
    "            # compute the model output\n",
    "            yhat = model(inputs)\n",
    "            # calculate loss\n",
    "            loss = criterion(yhat, targets)\n",
    "            # credit assignment\n",
    "            loss.backward()\n",
    "            # update model weights\n",
    "            optimizer.step()\n",
    "\n",
    "# evaluate the model\n",
    "def evaluate_model(test_dl, model):\n",
    "    predictions, actuals = list(), list()\n",
    "    for i, (inputs, targets) in enumerate(test_dl):\n",
    "        # evaluate the model on the test set\n",
    "        yhat = model(inputs)\n",
    "        # retrieve numpy array\n",
    "        yhat = yhat.detach().numpy()\n",
    "        actual = targets.numpy()\n",
    "        actual = actual.reshape((len(actual), 1))\n",
    "        # store\n",
    "        predictions.append(yhat)\n",
    "        actuals.append(actual)\n",
    "    predictions, actuals = vstack(predictions), vstack(actuals)\n",
    "    # calculate mse\n",
    "    mse = mean_squared_error(actuals, predictions)\n",
    "    return mse\n",
    "\n",
    "# make a class prediction for one row of data\n",
    "def predict(row, model):\n",
    "    # convert row to data\n",
    "    row = Tensor([row])\n",
    "    # make prediction\n",
    "    yhat = model(row)\n",
    "    # retrieve numpy array\n",
    "    yhat = yhat.detach().numpy()\n",
    "    return yhat"
   ]
  },
  {
   "cell_type": "code",
   "execution_count": 29,
   "id": "530db8bd",
   "metadata": {},
   "outputs": [
    {
     "name": "stdout",
     "output_type": "stream",
     "text": [
      "670 330\n",
      "MSE: 0.245, RMSE: 0.495\n",
      "Predicted: 3.838\n"
     ]
    }
   ],
   "source": [
    "path = './data/qoe/Client1_2.csv'\n",
    "train_dl, test_dl = prepare_data(path)\n",
    "print(len(train_dl.dataset), len(test_dl.dataset))\n",
    "# define the network\n",
    "model = MLP(13)\n",
    "# train the model\n",
    "train_model(train_dl, model)\n",
    "# evaluate the model\n",
    "mse = evaluate_model(test_dl, model)\n",
    "print('MSE: %.3f, RMSE: %.3f' % (mse, sqrt(mse)))\n",
    "# make a single prediction (expect class=1)\n",
    "#row = [0.00632,18.00,2.310,0,0.5380,6.5750,65.20,4.0900,1,296.0,15.30,396.90,4.98]\n",
    "row = [34011,50,5699,1035,0,6015,0,30003,30003,0,2903,1544292,4.33]\n",
    "yhat = predict(row, model)\n",
    "print('Predicted: %.3f' % yhat)"
   ]
  },
  {
   "cell_type": "code",
   "execution_count": 30,
   "id": "cc733f54",
   "metadata": {},
   "outputs": [
    {
     "name": "stdout",
     "output_type": "stream",
     "text": [
      "670 330\n",
      "MSE: 0.245, RMSE: 0.495\n",
      "Predicted: 3.838\n"
     ]
    }
   ],
   "source": [
    "path2 = './data/qoe/Client2_2.csv'\n",
    "train_dl2, test_dl2 = prepare_data(path2)\n",
    "print(len(train_dl2.dataset), len(test_dl2.dataset))\n",
    "# define the network\n",
    "model2 = MLP(13)\n",
    "# train the model\n",
    "train_model(train_dl2, model2)\n",
    "# evaluate the model\n",
    "mse2 = evaluate_model(test_dl2, model2)\n",
    "print('MSE: %.3f, RMSE: %.3f' % (mse, sqrt(mse)))\n",
    "# make a single prediction (expect class=1)\n",
    "#row = [0.00632,18.00,2.310,0,0.5380,6.5750,65.20,4.0900,1,296.0,15.30,396.90,4.98]\n",
    "row2 = [34011,50,5699,1035,0,6015,0,30003,30003,0,2903,1544292,4.33]\n",
    "yhat2 = predict(row2, model2)\n",
    "print('Predicted: %.3f' % yhat)"
   ]
  },
  {
   "cell_type": "code",
   "execution_count": 31,
   "id": "20a2574e",
   "metadata": {},
   "outputs": [],
   "source": [
    "import torch \n",
    "torch.save(model.state_dict(), './model/model_client1.pt')"
   ]
  },
  {
   "cell_type": "code",
   "execution_count": null,
   "id": "ede6fac6",
   "metadata": {},
   "outputs": [],
   "source": []
  },
  {
   "cell_type": "code",
   "execution_count": 32,
   "id": "e4be8d79",
   "metadata": {},
   "outputs": [],
   "source": [
    "import torch \n",
    "torch.save(model.state_dict(), './model/model_client2.pt')"
   ]
  },
  {
   "cell_type": "code",
   "execution_count": 33,
   "id": "fb519507",
   "metadata": {},
   "outputs": [
    {
     "name": "stderr",
     "output_type": "stream",
     "text": [
      "WARNING:root:Torch was already hooked... skipping hooking process\n"
     ]
    }
   ],
   "source": [
    "\n",
    "import torch\n",
    "import torch.nn as nn\n",
    "import torch.nn.functional as F\n",
    "import torch.optim as optim\n",
    "from torchvision import datasets, transforms\n",
    "import logging\n",
    "from pandas import read_csv\n",
    "\n",
    "# import Pysyft to help us to simulate federated leraning\n",
    "import syft as sy\n",
    "\n",
    "# hook PyTorch to PySyft i.e. add extra functionalities to support Federated Learning\n",
    "# and other private AI tools\n",
    "hook = sy.TorchHook(torch) "
   ]
  },
  {
   "cell_type": "code",
   "execution_count": 34,
   "id": "0e247aaf",
   "metadata": {},
   "outputs": [],
   "source": [
    "bob = sy.VirtualWorker(hook, id=\"bob\")\n",
    "anne = sy.VirtualWorker(hook, id=\"anne\")"
   ]
  },
  {
   "cell_type": "code",
   "execution_count": 35,
   "id": "83b758c5",
   "metadata": {},
   "outputs": [],
   "source": [
    "from torch.nn import Linear\n",
    "from torch.nn import Sigmoid\n",
    "from torch.nn import Module\n",
    "from torch.optim import SGD\n",
    "from torch.nn import MSELoss\n",
    "from torch.nn.init import xavier_uniform_\n",
    "from torch import Tensor\n",
    "# model definition\n",
    "class MLP(Module):\n",
    "    # define model elements\n",
    "    def __init__(self, n_inputs):\n",
    "        super(MLP, self).__init__()\n",
    "        # input to first hidden layer\n",
    "        self.hidden1 = Linear(n_inputs, 10)\n",
    "        xavier_uniform_(self.hidden1.weight)\n",
    "        self.act1 = Sigmoid()\n",
    "        # second hidden layer\n",
    "        self.hidden2 = Linear(10, 8)\n",
    "        xavier_uniform_(self.hidden2.weight)\n",
    "        self.act2 = Sigmoid()\n",
    "        # third hidden layer and output\n",
    "        self.hidden3 = Linear(8, 1)\n",
    "        xavier_uniform_(self.hidden3.weight)\n",
    "\n",
    "    # forward propagate input\n",
    "    def forward(self, X):\n",
    "        # input to first hidden layer\n",
    "        X = self.hidden1(X)\n",
    "        X = self.act1(X)\n",
    "         # second hidden layer\n",
    "        X = self.hidden2(X)\n",
    "        X = self.act2(X)\n",
    "        # third hidden layer and output\n",
    "        X = self.hidden3(X)\n",
    "        return X\n"
   ]
  },
  {
   "cell_type": "code",
   "execution_count": 36,
   "id": "c8029d01",
   "metadata": {},
   "outputs": [],
   "source": [
    "import pandas as pd\n",
    "import torch\n",
    "\n",
    "# determine the supported device\n",
    "def get_device():\n",
    "    if torch.cuda.is_available():\n",
    "        device = torch.device('cuda:0')\n",
    "    else:\n",
    "        device = torch.device('cpu') # don't have GPU \n",
    "    return device\n",
    "\n",
    "# convert a df to tensor to be used in pytorch\n",
    "def df_to_tensor(df):\n",
    "    device = get_device()\n",
    "    return torch.from_numpy(df.values).float().to(device)"
   ]
  },
  {
   "cell_type": "code",
   "execution_count": 37,
   "id": "2f304387",
   "metadata": {},
   "outputs": [],
   "source": [
    "path = './data/qoe/Client1_2.csv'\n",
    "df = read_csv(path, header=None)\n",
    "        # store the inputs and outputs\n",
    "    \n",
    "train_set=df.sample(frac=0.8,random_state=200) #random state is a seed value\n",
    "test_set=df.drop(train_set.index)\n",
    "\n",
    "train_set_data  = train_set.iloc[:, :-1]\n",
    "target_set_data = train_set.iloc[:,13]\n",
    "\n",
    "train_tensor = torch.from_numpy(train_set_data.to_numpy()).float()\n",
    "target_tensor  = torch.from_numpy(target_set_data.to_numpy()).float()\n",
    "\n",
    "test_tensor = torch.from_numpy(test_set.to_numpy()).float()\n"
   ]
  },
  {
   "cell_type": "code",
   "execution_count": 38,
   "id": "b7c5f872",
   "metadata": {},
   "outputs": [],
   "source": [
    "path2 = './data/qoe/Client2_2.csv'\n",
    "df2 = read_csv(path2, header=None)\n",
    "\n",
    "\n",
    "train_set_2=df2.sample(frac=0.8,random_state=200) #random state is a seed value\n",
    "test_set_2=df2.drop(train_set.index)\n",
    "\n",
    "train_set_data2  = train_set_2.iloc[:, :-1]\n",
    "target_set_data2 = train_set_2.iloc[:,13]\n",
    "\n",
    "\n",
    "\n",
    "train_tensor_2 = df_to_tensor(train_set_data2)\n",
    "target_tensor_2 =  df_to_tensor(target_set_data2)\n",
    "test_tensor_2 = df_to_tensor(test_set_2)"
   ]
  },
  {
   "cell_type": "code",
   "execution_count": 39,
   "id": "6069f064",
   "metadata": {},
   "outputs": [],
   "source": [
    "device = torch.device(\"cuda:0\" if torch.cuda.is_available() else \"cpu\")\n",
    "import numpy as np"
   ]
  },
  {
   "cell_type": "code",
   "execution_count": 40,
   "id": "d854b7a2",
   "metadata": {},
   "outputs": [
    {
     "name": "stderr",
     "output_type": "stream",
     "text": [
      "WARNING:root:Torch was already hooked... skipping hooking process\n"
     ]
    }
   ],
   "source": [
    "hook = sy.TorchHook(torch)\n",
    "\n",
    "bob = sy.VirtualWorker(hook, id=\"bob\")\n",
    "alice = sy.VirtualWorker(hook, id=\"alice\")"
   ]
  },
  {
   "cell_type": "code",
   "execution_count": 41,
   "id": "46b52608",
   "metadata": {},
   "outputs": [],
   "source": [
    "target_tensor = target_tensor.type(torch.LongTensor)\n",
    "target_tensor_2 = target_tensor_2.type(torch.LongTensor)\n",
    "\n",
    "bob_train_dataset = sy.BaseDataset(train_tensor,target_tensor).send(bob) \n",
    "anne_train_dataset = sy.BaseDataset(train_tensor_2, target_tensor_2).send(alice)\n",
    "\n",
    "#bob_train_dataset = sy.BaseDataset(train_inputs[:train_idx], train_labels[:train_idx]).send(bob)\n",
    "\n",
    "#anne_train_dataset = sy.BaseDataset(train_inputs[train_idx:], train_labels[train_idx:]).send(anne)\n",
    "\n",
    "federated_train_dataset = sy.FederatedDataset([bob_train_dataset, anne_train_dataset]) \n",
    "federated_train_loader = sy.FederatedDataLoader(federated_train_dataset, shuffle=False, batch_size=32)"
   ]
  },
  {
   "cell_type": "code",
   "execution_count": 47,
   "id": "7a9098e2",
   "metadata": {},
   "outputs": [
    {
     "name": "stdout",
     "output_type": "stream",
     "text": [
      "FederatedDataset\n",
      "    Distributed accross: bob, alice\n",
      "    Number of datapoints: 1600\n",
      "\n"
     ]
    }
   ],
   "source": [
    "print(federated_train_dataset)"
   ]
  },
  {
   "cell_type": "code",
   "execution_count": 42,
   "id": "3ffff460",
   "metadata": {},
   "outputs": [],
   "source": [
    "model3 = MLP(13).to(device)"
   ]
  },
  {
   "cell_type": "code",
   "execution_count": 43,
   "id": "fb021cff",
   "metadata": {},
   "outputs": [
    {
     "name": "stdout",
     "output_type": "stream",
     "text": [
      "<syft.frameworks.torch.fl.dataloader.FederatedDataLoader object at 0x7fa1fb6e7f40>\n"
     ]
    }
   ],
   "source": [
    "print(federated_train_loader)"
   ]
  },
  {
   "cell_type": "code",
   "execution_count": 60,
   "id": "632e974e",
   "metadata": {},
   "outputs": [],
   "source": [
    "def train(model, federate_train_loader, optimizer, epoch):\n",
    "    model.train()\n",
    "    criterion = MSELoss()\n",
    "    for batch_idx, (data, target) in enumerate(federate_train_loader):\n",
    "        model.send(data.location)\n",
    "        data, target = data.to(device), target.to(device)\n",
    "        optimizer.zero_grad()\n",
    "        output = model(data)\n",
    "        #loss = F.nll_loss(output, target.float())\n",
    "        loss = criterion(output, target.float())\n",
    "        loss.backward()\n",
    "        optimizer.step()\n",
    "        model.get()\n",
    "        if batch_idx % 10 == 0:\n",
    "            loss = loss.get()\n",
    "            #print(f'Train Epoch: {epoch} [{batch_idx*32}/{len(federate_train_loader)*32} ({100. * batch_idx / len(federated_train_loader)}%)] \\t Loss: {loss.item()}')\n",
    "            print('Train Epoch: {} [{}/{} ({:.0f}%)]\\tLoss: {:.6f}'.format(\n",
    "                    epoch, \n",
    "                    batch_idx * 32 , # no of images done\n",
    "                    len(federate_train_loader) * 32, # total images left\n",
    "                    100. * batch_idx / len(federate_train_loader), \n",
    "                    loss.item()\n",
    "                 )\n",
    "            )\n",
    "                  \n"
   ]
  },
  {
   "cell_type": "code",
   "execution_count": 61,
   "id": "93b64ec2",
   "metadata": {},
   "outputs": [],
   "source": [
    "def test(model, device, test_loader):\n",
    "    model.eval()\n",
    "    test_loss = 0\n",
    "    correct = 0\n",
    "    with torch.no_grad():\n",
    "        for data, target in test_loader:\n",
    "            data, target = data.to(device), target.to(device)\n",
    "            output = model(data)\n",
    "            # add losses together\n",
    "            test_loss += F.mse_loss(output, target.float(), reduction='sum').item() \n",
    "\n",
    "            # get the index of the max probability class\n",
    "            pred = output.argmax(dim=1, keepdim=True)  \n",
    "            correct += pred.eq(target.view_as(pred)).sum().item()\n",
    "\n",
    "    test_loss /= len(test_loader.dataset)\n",
    "\n",
    "    print('\\nTest set: Average loss: {:.4f}, Accuracy: {}/{} ({:.0f}%)\\n'.format(\n",
    "        test_loss, correct, len(test_loader.dataset),\n",
    "        100. * correct / len(test_loader.dataset)))"
   ]
  },
  {
   "cell_type": "code",
   "execution_count": 62,
   "id": "ce4b93b7",
   "metadata": {},
   "outputs": [
    {
     "name": "stdout",
     "output_type": "stream",
     "text": [
      "Train Epoch: 1 [0/1600 (0%)]\tLoss: 0.346924\n",
      "Train Epoch: 1 [320/1600 (20%)]\tLoss: 0.251998\n",
      "Train Epoch: 1 [640/1600 (40%)]\tLoss: 0.390009\n",
      "Train Epoch: 1 [960/1600 (60%)]\tLoss: 0.444696\n",
      "Train Epoch: 1 [1280/1600 (80%)]\tLoss: 0.440440\n",
      "Train Epoch: 2 [0/1600 (0%)]\tLoss: 0.360719\n",
      "Train Epoch: 2 [320/1600 (20%)]\tLoss: 0.249385\n",
      "Train Epoch: 2 [640/1600 (40%)]\tLoss: 0.390217\n",
      "Train Epoch: 2 [960/1600 (60%)]\tLoss: 0.444326\n",
      "Train Epoch: 2 [1280/1600 (80%)]\tLoss: 0.440334\n",
      "Train Epoch: 3 [0/1600 (0%)]\tLoss: 0.360813\n",
      "Train Epoch: 3 [320/1600 (20%)]\tLoss: 0.249369\n",
      "Train Epoch: 3 [640/1600 (40%)]\tLoss: 0.390219\n",
      "Train Epoch: 3 [960/1600 (60%)]\tLoss: 0.444324\n",
      "Train Epoch: 3 [1280/1600 (80%)]\tLoss: 0.440334\n",
      "Train Epoch: 4 [0/1600 (0%)]\tLoss: 0.360813\n",
      "Train Epoch: 4 [320/1600 (20%)]\tLoss: 0.249369\n",
      "Train Epoch: 4 [640/1600 (40%)]\tLoss: 0.390219\n",
      "Train Epoch: 4 [960/1600 (60%)]\tLoss: 0.444324\n",
      "Train Epoch: 4 [1280/1600 (80%)]\tLoss: 0.440334\n",
      "Train Epoch: 5 [0/1600 (0%)]\tLoss: 0.360813\n",
      "Train Epoch: 5 [320/1600 (20%)]\tLoss: 0.249369\n",
      "Train Epoch: 5 [640/1600 (40%)]\tLoss: 0.390219\n",
      "Train Epoch: 5 [960/1600 (60%)]\tLoss: 0.444324\n",
      "Train Epoch: 5 [1280/1600 (80%)]\tLoss: 0.440334\n",
      "Train Epoch: 6 [0/1600 (0%)]\tLoss: 0.360813\n",
      "Train Epoch: 6 [320/1600 (20%)]\tLoss: 0.249369\n",
      "Train Epoch: 6 [640/1600 (40%)]\tLoss: 0.390219\n",
      "Train Epoch: 6 [960/1600 (60%)]\tLoss: 0.444324\n",
      "Train Epoch: 6 [1280/1600 (80%)]\tLoss: 0.440334\n",
      "Train Epoch: 7 [0/1600 (0%)]\tLoss: 0.360813\n",
      "Train Epoch: 7 [320/1600 (20%)]\tLoss: 0.249369\n",
      "Train Epoch: 7 [640/1600 (40%)]\tLoss: 0.390219\n",
      "Train Epoch: 7 [960/1600 (60%)]\tLoss: 0.444325\n",
      "Train Epoch: 7 [1280/1600 (80%)]\tLoss: 0.440334\n",
      "Train Epoch: 8 [0/1600 (0%)]\tLoss: 0.360813\n",
      "Train Epoch: 8 [320/1600 (20%)]\tLoss: 0.249369\n",
      "Train Epoch: 8 [640/1600 (40%)]\tLoss: 0.390219\n",
      "Train Epoch: 8 [960/1600 (60%)]\tLoss: 0.444324\n",
      "Train Epoch: 8 [1280/1600 (80%)]\tLoss: 0.440334\n",
      "Train Epoch: 9 [0/1600 (0%)]\tLoss: 0.360813\n",
      "Train Epoch: 9 [320/1600 (20%)]\tLoss: 0.249368\n",
      "Train Epoch: 9 [640/1600 (40%)]\tLoss: 0.390219\n",
      "Train Epoch: 9 [960/1600 (60%)]\tLoss: 0.444325\n",
      "Train Epoch: 9 [1280/1600 (80%)]\tLoss: 0.440334\n",
      "Train Epoch: 10 [0/1600 (0%)]\tLoss: 0.360813\n",
      "Train Epoch: 10 [320/1600 (20%)]\tLoss: 0.249368\n",
      "Train Epoch: 10 [640/1600 (40%)]\tLoss: 0.390219\n",
      "Train Epoch: 10 [960/1600 (60%)]\tLoss: 0.444325\n",
      "Train Epoch: 10 [1280/1600 (80%)]\tLoss: 0.440334\n",
      "Train Epoch: 11 [0/1600 (0%)]\tLoss: 0.360813\n",
      "Train Epoch: 11 [320/1600 (20%)]\tLoss: 0.249368\n",
      "Train Epoch: 11 [640/1600 (40%)]\tLoss: 0.390219\n",
      "Train Epoch: 11 [960/1600 (60%)]\tLoss: 0.444325\n",
      "Train Epoch: 11 [1280/1600 (80%)]\tLoss: 0.440334\n",
      "Train Epoch: 12 [0/1600 (0%)]\tLoss: 0.360813\n",
      "Train Epoch: 12 [320/1600 (20%)]\tLoss: 0.249368\n",
      "Train Epoch: 12 [640/1600 (40%)]\tLoss: 0.390219\n",
      "Train Epoch: 12 [960/1600 (60%)]\tLoss: 0.444325\n",
      "Train Epoch: 12 [1280/1600 (80%)]\tLoss: 0.440334\n",
      "Train Epoch: 13 [0/1600 (0%)]\tLoss: 0.360813\n",
      "Train Epoch: 13 [320/1600 (20%)]\tLoss: 0.249368\n",
      "Train Epoch: 13 [640/1600 (40%)]\tLoss: 0.390219\n",
      "Train Epoch: 13 [960/1600 (60%)]\tLoss: 0.444325\n",
      "Train Epoch: 13 [1280/1600 (80%)]\tLoss: 0.440334\n",
      "Train Epoch: 14 [0/1600 (0%)]\tLoss: 0.360812\n",
      "Train Epoch: 14 [320/1600 (20%)]\tLoss: 0.249368\n",
      "Train Epoch: 14 [640/1600 (40%)]\tLoss: 0.390219\n",
      "Train Epoch: 14 [960/1600 (60%)]\tLoss: 0.444325\n",
      "Train Epoch: 14 [1280/1600 (80%)]\tLoss: 0.440334\n",
      "Train Epoch: 15 [0/1600 (0%)]\tLoss: 0.360813\n",
      "Train Epoch: 15 [320/1600 (20%)]\tLoss: 0.249368\n",
      "Train Epoch: 15 [640/1600 (40%)]\tLoss: 0.390219\n",
      "Train Epoch: 15 [960/1600 (60%)]\tLoss: 0.444325\n",
      "Train Epoch: 15 [1280/1600 (80%)]\tLoss: 0.440334\n",
      "Train Epoch: 16 [0/1600 (0%)]\tLoss: 0.360813\n",
      "Train Epoch: 16 [320/1600 (20%)]\tLoss: 0.249368\n",
      "Train Epoch: 16 [640/1600 (40%)]\tLoss: 0.390219\n",
      "Train Epoch: 16 [960/1600 (60%)]\tLoss: 0.444325\n",
      "Train Epoch: 16 [1280/1600 (80%)]\tLoss: 0.440334\n",
      "Train Epoch: 17 [0/1600 (0%)]\tLoss: 0.360812\n",
      "Train Epoch: 17 [320/1600 (20%)]\tLoss: 0.249367\n",
      "Train Epoch: 17 [640/1600 (40%)]\tLoss: 0.390219\n",
      "Train Epoch: 17 [960/1600 (60%)]\tLoss: 0.444325\n",
      "Train Epoch: 17 [1280/1600 (80%)]\tLoss: 0.440334\n",
      "Train Epoch: 18 [0/1600 (0%)]\tLoss: 0.360812\n",
      "Train Epoch: 18 [320/1600 (20%)]\tLoss: 0.249367\n",
      "Train Epoch: 18 [640/1600 (40%)]\tLoss: 0.390219\n",
      "Train Epoch: 18 [960/1600 (60%)]\tLoss: 0.444325\n",
      "Train Epoch: 18 [1280/1600 (80%)]\tLoss: 0.440334\n",
      "Train Epoch: 19 [0/1600 (0%)]\tLoss: 0.360812\n",
      "Train Epoch: 19 [320/1600 (20%)]\tLoss: 0.249367\n",
      "Train Epoch: 19 [640/1600 (40%)]\tLoss: 0.390219\n",
      "Train Epoch: 19 [960/1600 (60%)]\tLoss: 0.444326\n",
      "Train Epoch: 19 [1280/1600 (80%)]\tLoss: 0.440334\n",
      "Train Epoch: 20 [0/1600 (0%)]\tLoss: 0.360812\n",
      "Train Epoch: 20 [320/1600 (20%)]\tLoss: 0.249367\n",
      "Train Epoch: 20 [640/1600 (40%)]\tLoss: 0.390219\n",
      "Train Epoch: 20 [960/1600 (60%)]\tLoss: 0.444326\n",
      "Train Epoch: 20 [1280/1600 (80%)]\tLoss: 0.440334\n"
     ]
    }
   ],
   "source": [
    "optimizer = optim.SGD(model3.parameters(), lr=0.01) \n",
    "#optimizer = SGD(model3.parameters(), lr=0.01, momentum=0.9)\n",
    "    \n",
    "epoch = 20\n",
    "for epoch in range(1, epoch + 1):\n",
    "    train(model3, federated_train_loader, optimizer, epoch)\n",
    "    #test(model3, test_loader)\n",
    "\n",
    "#th.save(model.state_dict(), \"mnist_cnn.pt\")"
   ]
  },
  {
   "cell_type": "code",
   "execution_count": 63,
   "id": "b99bc2c3",
   "metadata": {},
   "outputs": [],
   "source": [
    "import torch \n",
    "torch.save(model3.state_dict(), './model/master_model.pt')"
   ]
  },
  {
   "cell_type": "code",
   "execution_count": 64,
   "id": "bb36dc6e",
   "metadata": {},
   "outputs": [],
   "source": [
    "# make a class prediction for one row of data\n",
    "def predict(row, model):\n",
    "    # convert row to data\n",
    "    row = Tensor([row])\n",
    "    # make prediction\n",
    "    yhat = model(row)\n",
    "    # retrieve numpy array\n",
    "    yhat = yhat.detach().numpy()\n",
    "    return yhat"
   ]
  },
  {
   "cell_type": "code",
   "execution_count": 65,
   "id": "fde63618",
   "metadata": {},
   "outputs": [],
   "source": [
    "#row2 = [34011,50,5699,1035,0,6015,0,30003,30003,0,2903,1544292,4.33]\n",
    "row =  [57400,57,6023,1051,0,6128,0,30003,30003,0,2903,1565292,4.33]\n",
    "\n",
    "client = predict(row, model)"
   ]
  },
  {
   "cell_type": "code",
   "execution_count": 66,
   "id": "c612c258",
   "metadata": {},
   "outputs": [
    {
     "name": "stdout",
     "output_type": "stream",
     "text": [
      "Predicted: 3.838\n"
     ]
    }
   ],
   "source": [
    "print('Predicted: %.3f' % client)"
   ]
  },
  {
   "cell_type": "code",
   "execution_count": 67,
   "id": "1e165c57",
   "metadata": {},
   "outputs": [],
   "source": [
    "row2 = [34011,50,5699,1035,0,6015,0,30003,30003,0,2903,1544292,4.33]\n",
    "#row2 =  [57400,57,6023,1051,0,6128,0,30003,30003,0,2903,1565292,4.33]\n",
    "\n",
    "master = predict(row2, model3)"
   ]
  },
  {
   "cell_type": "code",
   "execution_count": 68,
   "id": "63e1ade5",
   "metadata": {},
   "outputs": [
    {
     "name": "stdout",
     "output_type": "stream",
     "text": [
      "Predicted: 3.360\n"
     ]
    }
   ],
   "source": [
    "print('Predicted: %.3f' % master)"
   ]
  },
  {
   "cell_type": "code",
   "execution_count": 69,
   "id": "83d932f5",
   "metadata": {},
   "outputs": [
    {
     "ename": "NameError",
     "evalue": "name 'test_loader' is not defined",
     "output_type": "error",
     "traceback": [
      "\u001b[0;31m---------------------------------------------------------------------------\u001b[0m",
      "\u001b[0;31mNameError\u001b[0m                                 Traceback (most recent call last)",
      "Input \u001b[0;32mIn [69]\u001b[0m, in \u001b[0;36m<cell line: 4>\u001b[0;34m()\u001b[0m\n\u001b[1;32m      3\u001b[0m correct \u001b[38;5;241m=\u001b[39m \u001b[38;5;241m0\u001b[39m\n\u001b[1;32m      4\u001b[0m \u001b[38;5;28;01mwith\u001b[39;00m torch\u001b[38;5;241m.\u001b[39mno_grad():\n\u001b[0;32m----> 5\u001b[0m     \u001b[38;5;28;01mfor\u001b[39;00m data, target \u001b[38;5;129;01min\u001b[39;00m \u001b[43mtest_loader\u001b[49m:\n\u001b[1;32m      6\u001b[0m         output \u001b[38;5;241m=\u001b[39m model(data)\n\u001b[1;32m      7\u001b[0m         test_loss \u001b[38;5;241m+\u001b[39m\u001b[38;5;241m=\u001b[39m F\u001b[38;5;241m.\u001b[39mnll_loss(\n\u001b[1;32m      8\u001b[0m             output, target, reduction\u001b[38;5;241m=\u001b[39m\u001b[38;5;124m'\u001b[39m\u001b[38;5;124msum\u001b[39m\u001b[38;5;124m'\u001b[39m)\u001b[38;5;241m.\u001b[39mitem()\n",
      "\u001b[0;31mNameError\u001b[0m: name 'test_loader' is not defined"
     ]
    }
   ],
   "source": [
    "model.eval()\n",
    "test_loss = 0\n",
    "correct = 0\n",
    "with torch.no_grad():\n",
    "    for data, target in test_loader:\n",
    "        output = model(data)\n",
    "        test_loss += F.nll_loss(\n",
    "            output, target, reduction='sum').item()\n",
    "        # get the index of the max log-probability\n",
    "        pred = output.argmax(1, keepdim=True)\n",
    "        correct += pred.eq(target.view_as(pred)).sum().item()\n",
    "\n",
    "test_loss /= len(test_loader.dataset)\n",
    "\n",
    "print('\\nTest set: Average loss: {:.4f}, Accuracy: {}/{} ({:.0f}%)\\n'.format(\n",
    "    test_loss,\n",
    "    correct,\n",
    "    len(test_loader.dataset),\n",
    "    100. * correct / len(test_loader.dataset)))"
   ]
  },
  {
   "cell_type": "code",
   "execution_count": null,
   "id": "d994cd25",
   "metadata": {},
   "outputs": [],
   "source": []
  },
  {
   "cell_type": "code",
   "execution_count": null,
   "id": "f4e7286d",
   "metadata": {},
   "outputs": [],
   "source": []
  }
 ],
 "metadata": {
  "kernelspec": {
   "display_name": "Python 3 (ipykernel)",
   "language": "python",
   "name": "python3"
  },
  "language_info": {
   "codemirror_mode": {
    "name": "ipython",
    "version": 3
   },
   "file_extension": ".py",
   "mimetype": "text/x-python",
   "name": "python",
   "nbconvert_exporter": "python",
   "pygments_lexer": "ipython3",
   "version": "3.8.10"
  }
 },
 "nbformat": 4,
 "nbformat_minor": 5
}
