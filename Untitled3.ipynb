{
 "cells": [
  {
   "cell_type": "code",
   "execution_count": 1,
   "id": "6430e55c",
   "metadata": {},
   "outputs": [],
   "source": [
    "import torch as torch\n",
    "import syft as sy\n",
    "import torch.nn as nn\n",
    "import torch.nn.functional as F\n",
    "import torch.optim as optim\n",
    "from torchvision import datasets, transforms\n",
    "import logging\n",
    "from pandas import read_csv\n",
    "\n",
    "hook = sy.TorchHook(torch)"
   ]
  },
  {
   "cell_type": "code",
   "execution_count": 2,
   "id": "a3eeade3",
   "metadata": {},
   "outputs": [
    {
     "name": "stdout",
     "output_type": "stream",
     "text": [
      "Jake has: {}\n"
     ]
    }
   ],
   "source": [
    "jake = sy.VirtualWorker(hook, id=\"jake\")\n",
    "print(\"Jake has: \" + str(jake._objects))\n"
   ]
  },
  {
   "cell_type": "code",
   "execution_count": 3,
   "id": "1b182167",
   "metadata": {},
   "outputs": [
    {
     "name": "stdout",
     "output_type": "stream",
     "text": [
      "Jon has: {}\n"
     ]
    }
   ],
   "source": [
    "john = sy.VirtualWorker(hook, id=\"john\")\n",
    "print(\"Jon has: \" + str(john._objects))"
   ]
  },
  {
   "cell_type": "code",
   "execution_count": null,
   "id": "39a7b4d9",
   "metadata": {},
   "outputs": [],
   "source": [
    "x = torch.tensor([1, 2, 3, 4, 5])\n",
    "x = x.send(jake)\n",
    "print(\"x: \" + str(x))\n",
    "print(\"Jake has: \" + str(jake._objects))"
   ]
  },
  {
   "cell_type": "code",
   "execution_count": null,
   "id": "d6df3cf7",
   "metadata": {},
   "outputs": [],
   "source": [
    "x = x.get()\n",
    "print(\"x: \" + str(x))\n",
    "print(\"Jake has: \" + str(jake._objects))"
   ]
  },
  {
   "cell_type": "code",
   "execution_count": null,
   "id": "4e8e079f",
   "metadata": {},
   "outputs": [],
   "source": [
    "\n",
    "x = x.send(jake)\n",
    "x = x.send(john)\n",
    "print(\"x: \" + str(x))\n",
    "print(\"John has: \" + str(john._objects))\n",
    "print(\"Jake has: \" + str(jake._objects))"
   ]
  },
  {
   "cell_type": "code",
   "execution_count": null,
   "id": "a5267567",
   "metadata": {},
   "outputs": [],
   "source": [
    "jake.clear_objects()\n",
    "john.clear_objects()\n",
    "print(\"Jake has: \" + str(jake._objects))\n",
    "print(\"John has: \" + str(john._objects))"
   ]
  },
  {
   "cell_type": "code",
   "execution_count": null,
   "id": "868ef881",
   "metadata": {},
   "outputs": [],
   "source": [
    "y = torch.tensor([6, 7, 8, 9, 10]).send(jake)\n",
    "y = y.move(john)\n",
    "print(y)\n",
    "print(\"Jake has: \" + str(jake._objects))\n",
    "print(\"John has: \" + str(john._objects))"
   ]
  },
  {
   "cell_type": "code",
   "execution_count": 4,
   "id": "f20ff809",
   "metadata": {},
   "outputs": [],
   "source": [
    "from pandas import read_csv"
   ]
  },
  {
   "cell_type": "code",
   "execution_count": 5,
   "id": "d5d33584",
   "metadata": {},
   "outputs": [
    {
     "data": {
      "text/html": [
       "<div>\n",
       "<style scoped>\n",
       "    .dataframe tbody tr th:only-of-type {\n",
       "        vertical-align: middle;\n",
       "    }\n",
       "\n",
       "    .dataframe tbody tr th {\n",
       "        vertical-align: top;\n",
       "    }\n",
       "\n",
       "    .dataframe thead th {\n",
       "        text-align: right;\n",
       "    }\n",
       "</style>\n",
       "<table border=\"1\" class=\"dataframe\">\n",
       "  <thead>\n",
       "    <tr style=\"text-align: right;\">\n",
       "      <th></th>\n",
       "      <th>0</th>\n",
       "      <th>1</th>\n",
       "      <th>2</th>\n",
       "      <th>3</th>\n",
       "      <th>4</th>\n",
       "      <th>5</th>\n",
       "      <th>6</th>\n",
       "      <th>7</th>\n",
       "      <th>8</th>\n",
       "      <th>9</th>\n",
       "      <th>10</th>\n",
       "      <th>11</th>\n",
       "      <th>12</th>\n",
       "      <th>13</th>\n",
       "    </tr>\n",
       "  </thead>\n",
       "  <tbody>\n",
       "    <tr>\n",
       "      <th>0</th>\n",
       "      <td>49450</td>\n",
       "      <td>54</td>\n",
       "      <td>3719</td>\n",
       "      <td>1108</td>\n",
       "      <td>0.0</td>\n",
       "      <td>3795</td>\n",
       "      <td>0</td>\n",
       "      <td>30013</td>\n",
       "      <td>30013</td>\n",
       "      <td>0</td>\n",
       "      <td>2934</td>\n",
       "      <td>1645944</td>\n",
       "      <td>4.33</td>\n",
       "      <td>3.96</td>\n",
       "    </tr>\n",
       "    <tr>\n",
       "      <th>1</th>\n",
       "      <td>50517</td>\n",
       "      <td>52</td>\n",
       "      <td>5902</td>\n",
       "      <td>1095</td>\n",
       "      <td>0.0</td>\n",
       "      <td>5859</td>\n",
       "      <td>0</td>\n",
       "      <td>30006</td>\n",
       "      <td>30006</td>\n",
       "      <td>0</td>\n",
       "      <td>2903</td>\n",
       "      <td>1555356</td>\n",
       "      <td>4.33</td>\n",
       "      <td>3.96</td>\n",
       "    </tr>\n",
       "    <tr>\n",
       "      <th>2</th>\n",
       "      <td>47988</td>\n",
       "      <td>47</td>\n",
       "      <td>5806</td>\n",
       "      <td>1051</td>\n",
       "      <td>0.0</td>\n",
       "      <td>5857</td>\n",
       "      <td>0</td>\n",
       "      <td>30006</td>\n",
       "      <td>30006</td>\n",
       "      <td>0</td>\n",
       "      <td>2903</td>\n",
       "      <td>1535444</td>\n",
       "      <td>4.33</td>\n",
       "      <td>3.98</td>\n",
       "    </tr>\n",
       "    <tr>\n",
       "      <th>3</th>\n",
       "      <td>56457</td>\n",
       "      <td>55</td>\n",
       "      <td>5978</td>\n",
       "      <td>1099</td>\n",
       "      <td>0.0</td>\n",
       "      <td>5989</td>\n",
       "      <td>0</td>\n",
       "      <td>30003</td>\n",
       "      <td>30003</td>\n",
       "      <td>0</td>\n",
       "      <td>2903</td>\n",
       "      <td>1534092</td>\n",
       "      <td>4.33</td>\n",
       "      <td>3.96</td>\n",
       "    </tr>\n",
       "    <tr>\n",
       "      <th>4</th>\n",
       "      <td>56690</td>\n",
       "      <td>54</td>\n",
       "      <td>5931</td>\n",
       "      <td>1133</td>\n",
       "      <td>0.0</td>\n",
       "      <td>5932</td>\n",
       "      <td>0</td>\n",
       "      <td>30005</td>\n",
       "      <td>30005</td>\n",
       "      <td>0</td>\n",
       "      <td>2934</td>\n",
       "      <td>1582192</td>\n",
       "      <td>4.33</td>\n",
       "      <td>3.95</td>\n",
       "    </tr>\n",
       "  </tbody>\n",
       "</table>\n",
       "</div>"
      ],
      "text/plain": [
       "      0   1     2     3    4     5   6      7      8   9     10       11  \\\n",
       "0  49450  54  3719  1108  0.0  3795   0  30013  30013   0  2934  1645944   \n",
       "1  50517  52  5902  1095  0.0  5859   0  30006  30006   0  2903  1555356   \n",
       "2  47988  47  5806  1051  0.0  5857   0  30006  30006   0  2903  1535444   \n",
       "3  56457  55  5978  1099  0.0  5989   0  30003  30003   0  2903  1534092   \n",
       "4  56690  54  5931  1133  0.0  5932   0  30005  30005   0  2934  1582192   \n",
       "\n",
       "     12    13  \n",
       "0  4.33  3.96  \n",
       "1  4.33  3.96  \n",
       "2  4.33  3.98  \n",
       "3  4.33  3.96  \n",
       "4  4.33  3.95  "
      ]
     },
     "execution_count": 5,
     "metadata": {},
     "output_type": "execute_result"
    }
   ],
   "source": [
    "path = './data/qoe/Client1_2.csv'\n",
    "df = read_csv(path, header=None)\n",
    "df.head()\n",
    "\n",
    "\n",
    "\n"
   ]
  },
  {
   "cell_type": "code",
   "execution_count": 6,
   "id": "157c68f5",
   "metadata": {},
   "outputs": [
    {
     "data": {
      "text/html": [
       "<div>\n",
       "<style scoped>\n",
       "    .dataframe tbody tr th:only-of-type {\n",
       "        vertical-align: middle;\n",
       "    }\n",
       "\n",
       "    .dataframe tbody tr th {\n",
       "        vertical-align: top;\n",
       "    }\n",
       "\n",
       "    .dataframe thead th {\n",
       "        text-align: right;\n",
       "    }\n",
       "</style>\n",
       "<table border=\"1\" class=\"dataframe\">\n",
       "  <thead>\n",
       "    <tr style=\"text-align: right;\">\n",
       "      <th></th>\n",
       "      <th>0</th>\n",
       "      <th>1</th>\n",
       "      <th>2</th>\n",
       "      <th>3</th>\n",
       "      <th>4</th>\n",
       "      <th>5</th>\n",
       "      <th>6</th>\n",
       "      <th>7</th>\n",
       "      <th>8</th>\n",
       "      <th>9</th>\n",
       "      <th>10</th>\n",
       "      <th>11</th>\n",
       "      <th>12</th>\n",
       "      <th>13</th>\n",
       "    </tr>\n",
       "  </thead>\n",
       "  <tbody>\n",
       "    <tr>\n",
       "      <th>0</th>\n",
       "      <td>43859</td>\n",
       "      <td>48</td>\n",
       "      <td>5867</td>\n",
       "      <td>926</td>\n",
       "      <td>0.0</td>\n",
       "      <td>6086</td>\n",
       "      <td>0</td>\n",
       "      <td>30003</td>\n",
       "      <td>30003</td>\n",
       "      <td>0</td>\n",
       "      <td>2966</td>\n",
       "      <td>1603835</td>\n",
       "      <td>4.34</td>\n",
       "      <td>4.02</td>\n",
       "    </tr>\n",
       "    <tr>\n",
       "      <th>1</th>\n",
       "      <td>39312</td>\n",
       "      <td>34</td>\n",
       "      <td>5489</td>\n",
       "      <td>986</td>\n",
       "      <td>0.0</td>\n",
       "      <td>5617</td>\n",
       "      <td>0</td>\n",
       "      <td>30005</td>\n",
       "      <td>30005</td>\n",
       "      <td>0</td>\n",
       "      <td>2903</td>\n",
       "      <td>1545792</td>\n",
       "      <td>4.33</td>\n",
       "      <td>4.00</td>\n",
       "    </tr>\n",
       "    <tr>\n",
       "      <th>2</th>\n",
       "      <td>22275</td>\n",
       "      <td>30</td>\n",
       "      <td>5481</td>\n",
       "      <td>1060</td>\n",
       "      <td>0.0</td>\n",
       "      <td>5585</td>\n",
       "      <td>0</td>\n",
       "      <td>30004</td>\n",
       "      <td>30004</td>\n",
       "      <td>0</td>\n",
       "      <td>2966</td>\n",
       "      <td>1568252</td>\n",
       "      <td>4.34</td>\n",
       "      <td>3.98</td>\n",
       "    </tr>\n",
       "    <tr>\n",
       "      <th>3</th>\n",
       "      <td>21921</td>\n",
       "      <td>34</td>\n",
       "      <td>5421</td>\n",
       "      <td>1080</td>\n",
       "      <td>0.0</td>\n",
       "      <td>5575</td>\n",
       "      <td>0</td>\n",
       "      <td>30002</td>\n",
       "      <td>30002</td>\n",
       "      <td>0</td>\n",
       "      <td>2903</td>\n",
       "      <td>1560092</td>\n",
       "      <td>4.33</td>\n",
       "      <td>3.97</td>\n",
       "    </tr>\n",
       "    <tr>\n",
       "      <th>4</th>\n",
       "      <td>16148</td>\n",
       "      <td>43</td>\n",
       "      <td>4341</td>\n",
       "      <td>1545</td>\n",
       "      <td>0.0</td>\n",
       "      <td>4309</td>\n",
       "      <td>0</td>\n",
       "      <td>30007</td>\n",
       "      <td>30007</td>\n",
       "      <td>0</td>\n",
       "      <td>2966</td>\n",
       "      <td>1576992</td>\n",
       "      <td>4.34</td>\n",
       "      <td>3.83</td>\n",
       "    </tr>\n",
       "  </tbody>\n",
       "</table>\n",
       "</div>"
      ],
      "text/plain": [
       "      0   1     2     3    4     5   6      7      8   9     10       11  \\\n",
       "0  43859  48  5867   926  0.0  6086   0  30003  30003   0  2966  1603835   \n",
       "1  39312  34  5489   986  0.0  5617   0  30005  30005   0  2903  1545792   \n",
       "2  22275  30  5481  1060  0.0  5585   0  30004  30004   0  2966  1568252   \n",
       "3  21921  34  5421  1080  0.0  5575   0  30002  30002   0  2903  1560092   \n",
       "4  16148  43  4341  1545  0.0  4309   0  30007  30007   0  2966  1576992   \n",
       "\n",
       "     12    13  \n",
       "0  4.34  4.02  \n",
       "1  4.33  4.00  \n",
       "2  4.34  3.98  \n",
       "3  4.33  3.97  \n",
       "4  4.34  3.83  "
      ]
     },
     "execution_count": 6,
     "metadata": {},
     "output_type": "execute_result"
    }
   ],
   "source": [
    "path2 = './data/qoe/Client2_2.csv'\n",
    "df2 = read_csv(path2, header=None)\n",
    "df2.head()"
   ]
  },
  {
   "cell_type": "code",
   "execution_count": 7,
   "id": "4a55070d",
   "metadata": {},
   "outputs": [],
   "source": [
    "train_set=df.sample(frac=0.8,random_state=200) #random state is a seed value\n",
    "test_set=df.drop(train_set.index)\n",
    "\n",
    "train_set2=df2.sample(frac=0.8,random_state=200) #random state is a seed value\n",
    "test_set2=df.drop(train_set2.index)"
   ]
  },
  {
   "cell_type": "code",
   "execution_count": 8,
   "id": "4d37c628",
   "metadata": {},
   "outputs": [],
   "source": [
    "x  = train_set.iloc[: , :-1]\n",
    "y = train_set.iloc[: , -1]\n",
    "\n",
    "y = y.values.reshape((len(y), 1))\n",
    "    \n",
    "\n",
    "x_test  = test_set.iloc[: , :-1]\n",
    "y_test = test_set.iloc[: , -1]\n",
    "\n",
    "train_set_data = torch.from_numpy(x.to_numpy()).float()\n",
    "target_set_data  = torch.from_numpy(y).float()\n",
    "\n",
    "test_set_data = torch.from_numpy(x_test.to_numpy()).float()\n",
    "target_test_set_data = torch.from_numpy(y_test.to_numpy()).float()\n",
    "\n",
    "\n"
   ]
  },
  {
   "cell_type": "code",
   "execution_count": 9,
   "id": "972af7be",
   "metadata": {},
   "outputs": [],
   "source": [
    "x2  = train_set2.iloc[: , :-1]\n",
    "y2 = train_set2.iloc[: , -1]\n",
    "\n",
    "y2 = y2.values.reshape((len(y2), 1))\n",
    "    \n",
    "x_test2  = test_set2.iloc[: , :-1]\n",
    "y_test2 = test_set2.iloc[: , -1]\n",
    "\n",
    "train_set_data2 = torch.from_numpy(x2.to_numpy()).float()\n",
    "target_set_data2  = torch.from_numpy(y2).float()\n",
    "\n",
    "test_set_data2 = torch.from_numpy(x_test2.to_numpy()).float()\n",
    "target_test_set_data2 = torch.from_numpy(y_test2.to_numpy()).float()\n"
   ]
  },
  {
   "cell_type": "code",
   "execution_count": 10,
   "id": "f2fdce68",
   "metadata": {},
   "outputs": [],
   "source": [
    "x2  = train_set2.iloc[: , :-1]\n",
    "y2 = train_set2.iloc[: , -1]\n",
    "\n",
    "y2 = y2.values.reshape((len(y2), 1))"
   ]
  },
  {
   "cell_type": "code",
   "execution_count": 11,
   "id": "995027f4",
   "metadata": {},
   "outputs": [
    {
     "data": {
      "text/plain": [
       "torch.Size([800, 13])"
      ]
     },
     "execution_count": 11,
     "metadata": {},
     "output_type": "execute_result"
    }
   ],
   "source": [
    "train_set_data.shape"
   ]
  },
  {
   "cell_type": "code",
   "execution_count": 12,
   "id": "79042305",
   "metadata": {},
   "outputs": [
    {
     "data": {
      "text/plain": [
       "torch.Size([800, 13])"
      ]
     },
     "execution_count": 12,
     "metadata": {},
     "output_type": "execute_result"
    }
   ],
   "source": [
    "train_set_data2.shape"
   ]
  },
  {
   "cell_type": "code",
   "execution_count": 13,
   "id": "be02ef14",
   "metadata": {},
   "outputs": [],
   "source": [
    "from torch.utils.data import Dataset\n",
    "from torch.utils.data import DataLoader\n",
    "from torch.utils.data import random_split\n",
    "from torch import Tensor\n",
    "from torch.nn import Linear\n",
    "from torch.nn import Sigmoid\n",
    "from torch.nn import Module\n",
    "from torch.optim import SGD\n",
    "from torch.nn import MSELoss\n",
    "from torch.nn.init import xavier_uniform_"
   ]
  },
  {
   "cell_type": "code",
   "execution_count": 14,
   "id": "9dbc2863",
   "metadata": {},
   "outputs": [],
   "source": [
    "import pandas as pd\n",
    "import torch\n",
    "\n",
    "# determine the supported device\n",
    "def get_device():\n",
    "    if torch.cuda.is_available():\n",
    "        device = torch.device('cuda:0')\n",
    "    else:\n",
    "        device = torch.device('cpu') # don't have GPU \n",
    "    return device\n",
    "\n",
    "# convert a df to tensor to be used in pytorch\n",
    "def df_to_tensor(df):\n",
    "    device = get_device()\n",
    "    return torch.from_numpy(df.values).float().to(device)\n",
    "\n"
   ]
  },
  {
   "cell_type": "code",
   "execution_count": 15,
   "id": "ea0632be",
   "metadata": {},
   "outputs": [],
   "source": [
    "test_tensor = df_to_tensor(test_set)\n"
   ]
  },
  {
   "cell_type": "code",
   "execution_count": 16,
   "id": "0682f6c8",
   "metadata": {},
   "outputs": [
    {
     "name": "stdout",
     "output_type": "stream",
     "text": [
      "(Wrapper)>[PointerTensor | me:38997561080 -> jake:39272455151]\n",
      "(Wrapper)>[PointerTensor | me:23584415392 -> jake:94810660389]\n",
      "(Wrapper)>[PointerTensor | me:29769326873 -> john:64477919302]\n",
      "(Wrapper)>[PointerTensor | me:89963901483 -> john:74489372243]\n"
     ]
    }
   ],
   "source": [
    "bob_train_dataset = sy.BaseDataset(train_set_data,target_set_data).send(jake)\n",
    "anne_train_dataset = sy.BaseDataset(train_set_data2, target_set_data2).send(john)\n",
    "\n",
    "\n",
    "print(bob_train_dataset.data)\n",
    "print(bob_train_dataset.targets)\n",
    "print(anne_train_dataset.data)\n",
    "print(anne_train_dataset.targets)\n",
    "\n",
    "\n",
    "\n",
    "\n",
    "\n",
    "\n",
    "\n"
   ]
  },
  {
   "cell_type": "code",
   "execution_count": 17,
   "id": "eb0eeab7",
   "metadata": {},
   "outputs": [],
   "source": [
    "federated_train_dataset = sy.FederatedDataset([bob_train_dataset, anne_train_dataset])"
   ]
  },
  {
   "cell_type": "code",
   "execution_count": 18,
   "id": "a62922bf",
   "metadata": {},
   "outputs": [
    {
     "name": "stdout",
     "output_type": "stream",
     "text": [
      "FederatedDataset\n",
      "    Distributed accross: jake, john\n",
      "    Number of datapoints: 1600\n",
      "\n"
     ]
    }
   ],
   "source": [
    "print(federated_train_dataset)"
   ]
  },
  {
   "cell_type": "code",
   "execution_count": 19,
   "id": "d86b105f",
   "metadata": {},
   "outputs": [],
   "source": [
    "\n",
    "\n",
    "class Net(nn.Module):\n",
    "    def __init__(self):\n",
    "        super(Net, self).__init__()\n",
    "        self.fc1 = nn.Linear(13, 32)\n",
    "        self.fc2 = nn.Linear(32, 24)\n",
    "        self.fc4 = nn.Linear(24, 16)\n",
    "        self.fc3 = nn.Linear(16, 1)\n",
    "\n",
    "    def forward(self, x):\n",
    "        x = x.view(-1, 13)\n",
    "        x = F.relu(self.fc1(x))\n",
    "        x = F.relu(self.fc2(x))\n",
    "        x = F.relu(self.fc4(x))\n",
    "        x = self.fc3(x)\n",
    "        return x"
   ]
  },
  {
   "cell_type": "code",
   "execution_count": 20,
   "id": "d5006f5c",
   "metadata": {},
   "outputs": [],
   "source": [
    "federated_train_loader = sy.FederatedDataLoader(federated_train_dataset, shuffle=True, batch_size=32)"
   ]
  },
  {
   "cell_type": "code",
   "execution_count": 21,
   "id": "4ba956a3",
   "metadata": {},
   "outputs": [],
   "source": [
    "\n",
    "# model definition\n",
    "class MLP(Module):\n",
    "    # define model elements\n",
    "    def __init__(self, n_inputs):\n",
    "        super(MLP, self).__init__()\n",
    "        # input to first hidden layer\n",
    "        self.hidden1 = Linear(n_inputs, 32)\n",
    "        xavier_uniform_(self.hidden1.weight)\n",
    "        self.act1 = Sigmoid()\n",
    "        # second hidden layer\n",
    "        self.hidden2 = Linear(32, 16)\n",
    "        xavier_uniform_(self.hidden2.weight)\n",
    "        self.act2 = Sigmoid()\n",
    "        # third hidden layer and output\n",
    "        self.hidden3 = Linear(16, 1)\n",
    "        xavier_uniform_(self.hidden3.weight)\n",
    "        self.custom = Custom(weights=1)\n",
    "\n",
    "    # forward propagate input\n",
    "    def forward(self, X):\n",
    "        # input to first hidden layer\n",
    "        X = self.hidden1(X)\n",
    "        X = self.act1(X)\n",
    "         # second hidden layer\n",
    "        X = self.hidden2(X)\n",
    "        X = self.act2(X)\n",
    "        # third hidden layer and output\n",
    "        X = self.hidden3(X)\n",
    "        return X"
   ]
  },
  {
   "cell_type": "code",
   "execution_count": 22,
   "id": "2b3af3e1",
   "metadata": {},
   "outputs": [],
   "source": [
    "model = Net()\n",
    "optimizer = optim.SGD(model.parameters(), lr=0.01)"
   ]
  },
  {
   "cell_type": "code",
   "execution_count": 23,
   "id": "891bd9b4",
   "metadata": {},
   "outputs": [
    {
     "ename": "RuntimeError",
     "evalue": "1D target tensor expected, multi-target not supported",
     "output_type": "error",
     "traceback": [
      "\u001b[0;31m---------------------------------------------------------------------------\u001b[0m",
      "\u001b[0;31mPureFrameworkTensorFoundError\u001b[0m             Traceback (most recent call last)",
      "File \u001b[0;32m/Library/Frameworks/Python.framework/Versions/3.8/lib/python3.8/site-packages/syft/frameworks/torch/tensors/interpreters/native.py:336\u001b[0m, in \u001b[0;36mTorchTensor.handle_func_command\u001b[0;34m(cls, command)\u001b[0m\n\u001b[1;32m    333\u001b[0m \u001b[38;5;28;01mtry\u001b[39;00m:  \u001b[38;5;66;03m# will work if tensors are wrappers\u001b[39;00m\n\u001b[1;32m    334\u001b[0m     \u001b[38;5;66;03m# Replace all torch tensor with their child attribute\u001b[39;00m\n\u001b[1;32m    335\u001b[0m     \u001b[38;5;66;03m# Note that we return also args_type which helps handling case 3 in the docstring\u001b[39;00m\n\u001b[0;32m--> 336\u001b[0m     new_args, new_kwargs, new_type, args_type \u001b[38;5;241m=\u001b[39m \u001b[43mhook_args\u001b[49m\u001b[38;5;241;43m.\u001b[39;49m\u001b[43munwrap_args_from_function\u001b[49m\u001b[43m(\u001b[49m\n\u001b[1;32m    337\u001b[0m \u001b[43m        \u001b[49m\u001b[43mcmd\u001b[49m\u001b[43m,\u001b[49m\u001b[43m \u001b[49m\u001b[43margs_\u001b[49m\u001b[43m,\u001b[49m\u001b[43m \u001b[49m\u001b[43mkwargs_\u001b[49m\u001b[43m,\u001b[49m\u001b[43m \u001b[49m\u001b[43mreturn_args_type\u001b[49m\u001b[38;5;241;43m=\u001b[39;49m\u001b[38;5;28;43;01mTrue\u001b[39;49;00m\n\u001b[1;32m    338\u001b[0m \u001b[43m    \u001b[49m\u001b[43m)\u001b[49m\n\u001b[1;32m    339\u001b[0m     \u001b[38;5;66;03m# This handles case 3: it redirects the command to the appropriate class depending\u001b[39;00m\n\u001b[1;32m    340\u001b[0m     \u001b[38;5;66;03m# of the syft type of the arguments and returns\u001b[39;00m\n",
      "File \u001b[0;32m/Library/Frameworks/Python.framework/Versions/3.8/lib/python3.8/site-packages/syft/generic/frameworks/hook/hook_args.py:157\u001b[0m, in \u001b[0;36munwrap_args_from_function\u001b[0;34m(attr, args_, kwargs_, return_args_type)\u001b[0m\n\u001b[1;32m    156\u001b[0m     \u001b[38;5;66;03m# Try running it\u001b[39;00m\n\u001b[0;32m--> 157\u001b[0m     new_args \u001b[38;5;241m=\u001b[39m \u001b[43mhook_args\u001b[49m\u001b[43m(\u001b[49m\u001b[43margs_\u001b[49m\u001b[43m)\u001b[49m\n\u001b[1;32m    159\u001b[0m \u001b[38;5;28;01mexcept\u001b[39;00m (\u001b[38;5;167;01mIndexError\u001b[39;00m, \u001b[38;5;167;01mKeyError\u001b[39;00m, \u001b[38;5;167;01mAssertionError\u001b[39;00m):  \u001b[38;5;66;03m# Update the function in case of an error\u001b[39;00m\n",
      "File \u001b[0;32m/Library/Frameworks/Python.framework/Versions/3.8/lib/python3.8/site-packages/syft/generic/frameworks/hook/hook_args.py:356\u001b[0m, in \u001b[0;36mbuild_unwrap_args_with_rules.<locals>.<lambda>\u001b[0;34m(x)\u001b[0m\n\u001b[1;32m    354\u001b[0m     \u001b[38;5;28;01mreturn\u001b[39;00m \u001b[38;5;28;01mlambda\u001b[39;00m x: \u001b[38;5;28mlist\u001b[39m(f(lambdas, x))\n\u001b[0;32m--> 356\u001b[0m \u001b[38;5;28;01mreturn\u001b[39;00m \u001b[38;5;28;01mlambda\u001b[39;00m x: \u001b[43mf\u001b[49m\u001b[43m(\u001b[49m\u001b[43mlambdas\u001b[49m\u001b[43m,\u001b[49m\u001b[43m \u001b[49m\u001b[43mx\u001b[49m\u001b[43m)\u001b[49m\n",
      "File \u001b[0;32m/Library/Frameworks/Python.framework/Versions/3.8/lib/python3.8/site-packages/syft/generic/frameworks/hook/hook_args.py:529\u001b[0m, in \u001b[0;36mtwo_fold\u001b[0;34m(lambdas, args_, **kwargs)\u001b[0m\n\u001b[1;32m    528\u001b[0m \u001b[38;5;28;01mdef\u001b[39;00m \u001b[38;5;21mtwo_fold\u001b[39m(lambdas, args_, \u001b[38;5;241m*\u001b[39m\u001b[38;5;241m*\u001b[39mkwargs):\n\u001b[0;32m--> 529\u001b[0m     \u001b[38;5;28;01mreturn\u001b[39;00m \u001b[43mlambdas\u001b[49m\u001b[43m[\u001b[49m\u001b[38;5;241;43m0\u001b[39;49m\u001b[43m]\u001b[49m\u001b[43m(\u001b[49m\u001b[43margs_\u001b[49m\u001b[43m[\u001b[49m\u001b[38;5;241;43m0\u001b[39;49m\u001b[43m]\u001b[49m\u001b[43m,\u001b[49m\u001b[43m \u001b[49m\u001b[38;5;241;43m*\u001b[39;49m\u001b[38;5;241;43m*\u001b[39;49m\u001b[43mkwargs\u001b[49m\u001b[43m)\u001b[49m, lambdas[\u001b[38;5;241m1\u001b[39m](args_[\u001b[38;5;241m1\u001b[39m], \u001b[38;5;241m*\u001b[39m\u001b[38;5;241m*\u001b[39mkwargs)\n",
      "File \u001b[0;32m/Library/Frameworks/Python.framework/Versions/3.8/lib/python3.8/site-packages/syft/generic/frameworks/hook/hook_args.py:331\u001b[0m, in \u001b[0;36mbuild_unwrap_args_with_rules.<locals>.<lambda>\u001b[0;34m(i)\u001b[0m\n\u001b[1;32m    320\u001b[0m \u001b[38;5;66;03m# get the transformation lambda for each args\u001b[39;00m\n\u001b[1;32m    321\u001b[0m lambdas \u001b[38;5;241m=\u001b[39m [\n\u001b[1;32m    322\u001b[0m     typed_identity(a)  \u001b[38;5;66;03m# return the same obj with an identity fct with a type check if needed\u001b[39;00m\n\u001b[1;32m    323\u001b[0m     \u001b[38;5;28;01mif\u001b[39;00m \u001b[38;5;129;01mnot\u001b[39;00m r  \u001b[38;5;66;03m# if the rule is a number == 0.\u001b[39;00m\n\u001b[1;32m    324\u001b[0m     \u001b[38;5;28;01melse\u001b[39;00m build_unwrap_args_with_rules(a, r, \u001b[38;5;28;01mTrue\u001b[39;00m, \u001b[38;5;28;01mTrue\u001b[39;00m)\n\u001b[1;32m    325\u001b[0m     \u001b[38;5;28;01mif\u001b[39;00m \u001b[38;5;28misinstance\u001b[39m(r, \u001b[38;5;28mlist\u001b[39m)\n\u001b[1;32m    326\u001b[0m     \u001b[38;5;28;01melse\u001b[39;00m build_unwrap_args_with_rules(\n\u001b[1;32m    327\u001b[0m         a, r, \u001b[38;5;28;01mTrue\u001b[39;00m\n\u001b[1;32m    328\u001b[0m     )  \u001b[38;5;66;03m# If not, call recursively build_unwrap_args_with_rules\u001b[39;00m\n\u001b[1;32m    329\u001b[0m     \u001b[38;5;28;01mif\u001b[39;00m \u001b[38;5;28misinstance\u001b[39m(r, \u001b[38;5;28mtuple\u001b[39m)\n\u001b[1;32m    330\u001b[0m     \u001b[38;5;66;03m# Last if not, rule is probably == 1 so use type to return the right transformation.\u001b[39;00m\n\u001b[0;32m--> 331\u001b[0m     \u001b[38;5;28;01melse\u001b[39;00m \u001b[38;5;28;01mlambda\u001b[39;00m i: \u001b[43mforward_func\u001b[49m\u001b[43m[\u001b[49m\u001b[38;5;28;43mtype\u001b[39;49m\u001b[43m(\u001b[49m\u001b[43mi\u001b[49m\u001b[43m)\u001b[49m\u001b[43m]\u001b[49m\u001b[43m(\u001b[49m\u001b[43mi\u001b[49m\u001b[43m)\u001b[49m\n\u001b[1;32m    332\u001b[0m     \u001b[38;5;28;01mfor\u001b[39;00m a, r \u001b[38;5;129;01min\u001b[39;00m \u001b[38;5;28mzip\u001b[39m(args_, rules)  \u001b[38;5;66;03m# And do this for all the args / rules provided\u001b[39;00m\n\u001b[1;32m    333\u001b[0m ]\n\u001b[1;32m    335\u001b[0m \u001b[38;5;66;03m# Instead of iterating which is slow, we use trick to efficiently\u001b[39;00m\n\u001b[1;32m    336\u001b[0m \u001b[38;5;66;03m# apply each lambda to each arg\u001b[39;00m\n",
      "File \u001b[0;32m/Library/Frameworks/Python.framework/Versions/3.8/lib/python3.8/site-packages/syft/frameworks/torch/hook/hook_args.py:24\u001b[0m, in \u001b[0;36m<lambda>\u001b[0;34m(i)\u001b[0m\n\u001b[1;32m     16\u001b[0m type_rule \u001b[38;5;241m=\u001b[39m {\n\u001b[1;32m     17\u001b[0m     torch\u001b[38;5;241m.\u001b[39mTensor: one,\n\u001b[1;32m     18\u001b[0m     torch\u001b[38;5;241m.\u001b[39mnn\u001b[38;5;241m.\u001b[39mParameter: one,\n\u001b[1;32m     19\u001b[0m }\n\u001b[1;32m     21\u001b[0m forward_func \u001b[38;5;241m=\u001b[39m {\n\u001b[1;32m     22\u001b[0m     torch\u001b[38;5;241m.\u001b[39mTensor: \u001b[38;5;28;01mlambda\u001b[39;00m i: i\u001b[38;5;241m.\u001b[39mchild\n\u001b[1;32m     23\u001b[0m     \u001b[38;5;28;01mif\u001b[39;00m \u001b[38;5;28mhasattr\u001b[39m(i, \u001b[38;5;124m\"\u001b[39m\u001b[38;5;124mchild\u001b[39m\u001b[38;5;124m\"\u001b[39m)\n\u001b[0;32m---> 24\u001b[0m     \u001b[38;5;28;01melse\u001b[39;00m \u001b[43m(\u001b[49m\u001b[43m_\u001b[49m\u001b[43m \u001b[49m\u001b[38;5;28;43;01mfor\u001b[39;49;00m\u001b[43m \u001b[49m\u001b[43m_\u001b[49m\u001b[43m \u001b[49m\u001b[38;5;129;43;01min\u001b[39;49;00m\u001b[43m \u001b[49m\u001b[43m(\u001b[49m\u001b[43m)\u001b[49m\u001b[43m)\u001b[49m\u001b[38;5;241;43m.\u001b[39;49m\u001b[43mthrow\u001b[49m\u001b[43m(\u001b[49m\u001b[43mPureFrameworkTensorFoundError\u001b[49m\u001b[43m)\u001b[49m,\n\u001b[1;32m     25\u001b[0m     torch\u001b[38;5;241m.\u001b[39mnn\u001b[38;5;241m.\u001b[39mParameter: \u001b[38;5;28;01mlambda\u001b[39;00m i: i\u001b[38;5;241m.\u001b[39mchild\n\u001b[1;32m     26\u001b[0m     \u001b[38;5;28;01mif\u001b[39;00m \u001b[38;5;28mhasattr\u001b[39m(i, \u001b[38;5;124m\"\u001b[39m\u001b[38;5;124mchild\u001b[39m\u001b[38;5;124m\"\u001b[39m)\n\u001b[1;32m     27\u001b[0m     \u001b[38;5;28;01melse\u001b[39;00m (_ \u001b[38;5;28;01mfor\u001b[39;00m _ \u001b[38;5;129;01min\u001b[39;00m ())\u001b[38;5;241m.\u001b[39mthrow(PureFrameworkTensorFoundError),\n\u001b[1;32m     28\u001b[0m }\n\u001b[1;32m     30\u001b[0m backward_func \u001b[38;5;241m=\u001b[39m {\n\u001b[1;32m     31\u001b[0m     TorchTensor: \u001b[38;5;28;01mlambda\u001b[39;00m i, \u001b[38;5;241m*\u001b[39m\u001b[38;5;241m*\u001b[39mkwargs: i\u001b[38;5;241m.\u001b[39mwrap(\u001b[38;5;241m*\u001b[39m\u001b[38;5;241m*\u001b[39mkwargs),\n\u001b[1;32m     32\u001b[0m     torch\u001b[38;5;241m.\u001b[39mTensor: \u001b[38;5;28;01mlambda\u001b[39;00m i, \u001b[38;5;241m*\u001b[39m\u001b[38;5;241m*\u001b[39mkwargs: i\u001b[38;5;241m.\u001b[39mwrap(\u001b[38;5;241m*\u001b[39m\u001b[38;5;241m*\u001b[39mkwargs),\n\u001b[1;32m     33\u001b[0m     torch\u001b[38;5;241m.\u001b[39mnn\u001b[38;5;241m.\u001b[39mParameter: \u001b[38;5;28;01mlambda\u001b[39;00m i, \u001b[38;5;241m*\u001b[39m\u001b[38;5;241m*\u001b[39mkwargs: torch\u001b[38;5;241m.\u001b[39mnn\u001b[38;5;241m.\u001b[39mParameter(data\u001b[38;5;241m=\u001b[39mi),\n\u001b[1;32m     34\u001b[0m }\n",
      "File \u001b[0;32m/Library/Frameworks/Python.framework/Versions/3.8/lib/python3.8/site-packages/syft/frameworks/torch/hook/hook_args.py:24\u001b[0m, in \u001b[0;36m<genexpr>\u001b[0;34m(.0)\u001b[0m\n\u001b[1;32m     16\u001b[0m type_rule \u001b[38;5;241m=\u001b[39m {\n\u001b[1;32m     17\u001b[0m     torch\u001b[38;5;241m.\u001b[39mTensor: one,\n\u001b[1;32m     18\u001b[0m     torch\u001b[38;5;241m.\u001b[39mnn\u001b[38;5;241m.\u001b[39mParameter: one,\n\u001b[1;32m     19\u001b[0m }\n\u001b[1;32m     21\u001b[0m forward_func \u001b[38;5;241m=\u001b[39m {\n\u001b[1;32m     22\u001b[0m     torch\u001b[38;5;241m.\u001b[39mTensor: \u001b[38;5;28;01mlambda\u001b[39;00m i: i\u001b[38;5;241m.\u001b[39mchild\n\u001b[1;32m     23\u001b[0m     \u001b[38;5;28;01mif\u001b[39;00m \u001b[38;5;28mhasattr\u001b[39m(i, \u001b[38;5;124m\"\u001b[39m\u001b[38;5;124mchild\u001b[39m\u001b[38;5;124m\"\u001b[39m)\n\u001b[0;32m---> 24\u001b[0m     \u001b[38;5;28;01melse\u001b[39;00m (_ \u001b[38;5;28;01mfor\u001b[39;00m _ \u001b[38;5;129;01min\u001b[39;00m ())\u001b[38;5;241m.\u001b[39mthrow(PureFrameworkTensorFoundError),\n\u001b[1;32m     25\u001b[0m     torch\u001b[38;5;241m.\u001b[39mnn\u001b[38;5;241m.\u001b[39mParameter: \u001b[38;5;28;01mlambda\u001b[39;00m i: i\u001b[38;5;241m.\u001b[39mchild\n\u001b[1;32m     26\u001b[0m     \u001b[38;5;28;01mif\u001b[39;00m \u001b[38;5;28mhasattr\u001b[39m(i, \u001b[38;5;124m\"\u001b[39m\u001b[38;5;124mchild\u001b[39m\u001b[38;5;124m\"\u001b[39m)\n\u001b[1;32m     27\u001b[0m     \u001b[38;5;28;01melse\u001b[39;00m (_ \u001b[38;5;28;01mfor\u001b[39;00m _ \u001b[38;5;129;01min\u001b[39;00m ())\u001b[38;5;241m.\u001b[39mthrow(PureFrameworkTensorFoundError),\n\u001b[1;32m     28\u001b[0m }\n\u001b[1;32m     30\u001b[0m backward_func \u001b[38;5;241m=\u001b[39m {\n\u001b[1;32m     31\u001b[0m     TorchTensor: \u001b[38;5;28;01mlambda\u001b[39;00m i, \u001b[38;5;241m*\u001b[39m\u001b[38;5;241m*\u001b[39mkwargs: i\u001b[38;5;241m.\u001b[39mwrap(\u001b[38;5;241m*\u001b[39m\u001b[38;5;241m*\u001b[39mkwargs),\n\u001b[1;32m     32\u001b[0m     torch\u001b[38;5;241m.\u001b[39mTensor: \u001b[38;5;28;01mlambda\u001b[39;00m i, \u001b[38;5;241m*\u001b[39m\u001b[38;5;241m*\u001b[39mkwargs: i\u001b[38;5;241m.\u001b[39mwrap(\u001b[38;5;241m*\u001b[39m\u001b[38;5;241m*\u001b[39mkwargs),\n\u001b[1;32m     33\u001b[0m     torch\u001b[38;5;241m.\u001b[39mnn\u001b[38;5;241m.\u001b[39mParameter: \u001b[38;5;28;01mlambda\u001b[39;00m i, \u001b[38;5;241m*\u001b[39m\u001b[38;5;241m*\u001b[39mkwargs: torch\u001b[38;5;241m.\u001b[39mnn\u001b[38;5;241m.\u001b[39mParameter(data\u001b[38;5;241m=\u001b[39mi),\n\u001b[1;32m     34\u001b[0m }\n",
      "\u001b[0;31mPureFrameworkTensorFoundError\u001b[0m: ",
      "\nDuring handling of the above exception, another exception occurred:\n",
      "\u001b[0;31mRuntimeError\u001b[0m                              Traceback (most recent call last)",
      "Input \u001b[0;32mIn [23]\u001b[0m, in \u001b[0;36m<cell line: 2>\u001b[0;34m()\u001b[0m\n\u001b[1;32m      9\u001b[0m optimizer\u001b[38;5;241m.\u001b[39mzero_grad()\n\u001b[1;32m     10\u001b[0m output \u001b[38;5;241m=\u001b[39m model(data)\n\u001b[0;32m---> 11\u001b[0m loss \u001b[38;5;241m=\u001b[39m \u001b[43mF\u001b[49m\u001b[38;5;241;43m.\u001b[39;49m\u001b[43mnll_loss\u001b[49m\u001b[43m(\u001b[49m\u001b[43moutput\u001b[49m\u001b[43m,\u001b[49m\u001b[43m \u001b[49m\u001b[43mtarget\u001b[49m\u001b[43m)\u001b[49m\n\u001b[1;32m     12\u001b[0m loss \u001b[38;5;241m=\u001b[39m criterion(output, target\u001b[38;5;241m.\u001b[39mfloat())\n\u001b[1;32m     13\u001b[0m loss\u001b[38;5;241m.\u001b[39mbackward()\n",
      "File \u001b[0;32m/Library/Frameworks/Python.framework/Versions/3.8/lib/python3.8/site-packages/syft/generic/frameworks/hook/hook.py:335\u001b[0m, in \u001b[0;36mFrameworkHook._get_hooked_func.<locals>.overloaded_func\u001b[0;34m(*args, **kwargs)\u001b[0m\n\u001b[1;32m    332\u001b[0m \u001b[38;5;28;01mexcept\u001b[39;00m \u001b[38;5;167;01mAttributeError\u001b[39;00m:\n\u001b[1;32m    333\u001b[0m     handle_func_command \u001b[38;5;241m=\u001b[39m syft\u001b[38;5;241m.\u001b[39mframework\u001b[38;5;241m.\u001b[39mTensor\u001b[38;5;241m.\u001b[39mhandle_func_command\n\u001b[0;32m--> 335\u001b[0m response \u001b[38;5;241m=\u001b[39m \u001b[43mhandle_func_command\u001b[49m\u001b[43m(\u001b[49m\u001b[43mcommand\u001b[49m\u001b[43m)\u001b[49m\n\u001b[1;32m    337\u001b[0m \u001b[38;5;28;01mreturn\u001b[39;00m response\n",
      "File \u001b[0;32m/Library/Frameworks/Python.framework/Versions/3.8/lib/python3.8/site-packages/syft/frameworks/torch/tensors/interpreters/native.py:362\u001b[0m, in \u001b[0;36mTorchTensor.handle_func_command\u001b[0;34m(cls, command)\u001b[0m\n\u001b[1;32m    360\u001b[0m     list_new_command[\u001b[38;5;241m0\u001b[39m] \u001b[38;5;241m=\u001b[39m \u001b[38;5;28mcls\u001b[39m\u001b[38;5;241m.\u001b[39m_fix_torch_library(new_command[\u001b[38;5;241m0\u001b[39m])\n\u001b[1;32m    361\u001b[0m     new_command \u001b[38;5;241m=\u001b[39m \u001b[38;5;28mtuple\u001b[39m(list_new_command)\n\u001b[0;32m--> 362\u001b[0m     response \u001b[38;5;241m=\u001b[39m \u001b[43mnew_type\u001b[49m\u001b[38;5;241;43m.\u001b[39;49m\u001b[43mhandle_func_command\u001b[49m\u001b[43m(\u001b[49m\u001b[43mnew_command\u001b[49m\u001b[43m)\u001b[49m\n\u001b[1;32m    364\u001b[0m \u001b[38;5;66;03m# Put back the wrappers where needed\u001b[39;00m\n\u001b[1;32m    365\u001b[0m response \u001b[38;5;241m=\u001b[39m hook_args\u001b[38;5;241m.\u001b[39mhook_response(cmd, response, wrap_type\u001b[38;5;241m=\u001b[39margs_type)\n",
      "File \u001b[0;32m/Library/Frameworks/Python.framework/Versions/3.8/lib/python3.8/site-packages/syft/generic/pointers/object_pointer.py:211\u001b[0m, in \u001b[0;36mObjectPointer.handle_func_command\u001b[0;34m(cls, command)\u001b[0m\n\u001b[1;32m    208\u001b[0m cmd, _, args_, kwargs_ \u001b[38;5;241m=\u001b[39m command\n\u001b[1;32m    210\u001b[0m \u001b[38;5;66;03m# Send the command\u001b[39;00m\n\u001b[0;32m--> 211\u001b[0m response \u001b[38;5;241m=\u001b[39m \u001b[43mowner\u001b[49m\u001b[38;5;241;43m.\u001b[39;49m\u001b[43msend_command\u001b[49m\u001b[43m(\u001b[49m\u001b[43mlocation\u001b[49m\u001b[43m,\u001b[49m\u001b[43m \u001b[49m\u001b[43mcmd_name\u001b[49m\u001b[38;5;241;43m=\u001b[39;49m\u001b[43mcmd\u001b[49m\u001b[43m,\u001b[49m\u001b[43m \u001b[49m\u001b[43margs_\u001b[49m\u001b[38;5;241;43m=\u001b[39;49m\u001b[43margs_\u001b[49m\u001b[43m,\u001b[49m\u001b[43m \u001b[49m\u001b[43mkwargs_\u001b[49m\u001b[38;5;241;43m=\u001b[39;49m\u001b[43mkwargs_\u001b[49m\u001b[43m)\u001b[49m\n\u001b[1;32m    213\u001b[0m \u001b[38;5;28;01mreturn\u001b[39;00m response\n",
      "File \u001b[0;32m/Library/Frameworks/Python.framework/Versions/3.8/lib/python3.8/site-packages/syft/workers/base.py:525\u001b[0m, in \u001b[0;36mBaseWorker.send_command\u001b[0;34m(self, recipient, cmd_name, target, args_, kwargs_, return_ids, return_value)\u001b[0m\n\u001b[1;32m    521\u001b[0m \u001b[38;5;28;01mtry\u001b[39;00m:\n\u001b[1;32m    522\u001b[0m     message \u001b[38;5;241m=\u001b[39m TensorCommandMessage\u001b[38;5;241m.\u001b[39mcomputation(\n\u001b[1;32m    523\u001b[0m         cmd_name, target, args_, kwargs_, return_ids, return_value\n\u001b[1;32m    524\u001b[0m     )\n\u001b[0;32m--> 525\u001b[0m     ret_val \u001b[38;5;241m=\u001b[39m \u001b[38;5;28;43mself\u001b[39;49m\u001b[38;5;241;43m.\u001b[39;49m\u001b[43msend_msg\u001b[49m\u001b[43m(\u001b[49m\u001b[43mmessage\u001b[49m\u001b[43m,\u001b[49m\u001b[43m \u001b[49m\u001b[43mlocation\u001b[49m\u001b[38;5;241;43m=\u001b[39;49m\u001b[43mrecipient\u001b[49m\u001b[43m)\u001b[49m\n\u001b[1;32m    526\u001b[0m \u001b[38;5;28;01mexcept\u001b[39;00m ResponseSignatureError \u001b[38;5;28;01mas\u001b[39;00m e:\n\u001b[1;32m    527\u001b[0m     ret_val \u001b[38;5;241m=\u001b[39m \u001b[38;5;28;01mNone\u001b[39;00m\n",
      "File \u001b[0;32m/Library/Frameworks/Python.framework/Versions/3.8/lib/python3.8/site-packages/syft/workers/base.py:316\u001b[0m, in \u001b[0;36mBaseWorker.send_msg\u001b[0;34m(self, message, location)\u001b[0m\n\u001b[1;32m    313\u001b[0m bin_message \u001b[38;5;241m=\u001b[39m sy\u001b[38;5;241m.\u001b[39mserde\u001b[38;5;241m.\u001b[39mserialize(message, worker\u001b[38;5;241m=\u001b[39m\u001b[38;5;28mself\u001b[39m)\n\u001b[1;32m    315\u001b[0m \u001b[38;5;66;03m# Step 2: send the message and wait for a response\u001b[39;00m\n\u001b[0;32m--> 316\u001b[0m bin_response \u001b[38;5;241m=\u001b[39m \u001b[38;5;28;43mself\u001b[39;49m\u001b[38;5;241;43m.\u001b[39;49m\u001b[43m_send_msg\u001b[49m\u001b[43m(\u001b[49m\u001b[43mbin_message\u001b[49m\u001b[43m,\u001b[49m\u001b[43m \u001b[49m\u001b[43mlocation\u001b[49m\u001b[43m)\u001b[49m\n\u001b[1;32m    318\u001b[0m \u001b[38;5;66;03m# Step 3: deserialize the response\u001b[39;00m\n\u001b[1;32m    319\u001b[0m response \u001b[38;5;241m=\u001b[39m sy\u001b[38;5;241m.\u001b[39mserde\u001b[38;5;241m.\u001b[39mdeserialize(bin_response, worker\u001b[38;5;241m=\u001b[39m\u001b[38;5;28mself\u001b[39m)\n",
      "File \u001b[0;32m/Library/Frameworks/Python.framework/Versions/3.8/lib/python3.8/site-packages/syft/workers/virtual.py:12\u001b[0m, in \u001b[0;36mVirtualWorker._send_msg\u001b[0;34m(self, message, location)\u001b[0m\n\u001b[1;32m      9\u001b[0m \u001b[38;5;28;01mdef\u001b[39;00m \u001b[38;5;21m_send_msg\u001b[39m(\u001b[38;5;28mself\u001b[39m, message: \u001b[38;5;28mbin\u001b[39m, location: BaseWorker) \u001b[38;5;241m-\u001b[39m\u001b[38;5;241m>\u001b[39m \u001b[38;5;28mbin\u001b[39m:\n\u001b[1;32m     10\u001b[0m     \u001b[38;5;124;03m\"\"\"send message to worker location\"\"\"\u001b[39;00m\n\u001b[0;32m---> 12\u001b[0m     \u001b[38;5;28;01mreturn\u001b[39;00m \u001b[43mlocation\u001b[49m\u001b[38;5;241;43m.\u001b[39;49m\u001b[43m_recv_msg\u001b[49m\u001b[43m(\u001b[49m\u001b[43mmessage\u001b[49m\u001b[43m)\u001b[49m\n",
      "File \u001b[0;32m/Library/Frameworks/Python.framework/Versions/3.8/lib/python3.8/site-packages/syft/workers/virtual.py:22\u001b[0m, in \u001b[0;36mVirtualWorker._recv_msg\u001b[0;34m(self, message)\u001b[0m\n\u001b[1;32m     19\u001b[0m         \u001b[38;5;28mprint\u001b[39m(\u001b[38;5;124mf\u001b[39m\u001b[38;5;124m\"\u001b[39m\u001b[38;5;124mpending time of \u001b[39m\u001b[38;5;132;01m{\u001b[39;00m\u001b[38;5;28mself\u001b[39m\u001b[38;5;241m.\u001b[39mmessage_pending_time\u001b[38;5;132;01m}\u001b[39;00m\u001b[38;5;124m seconds to receive message...\u001b[39m\u001b[38;5;124m\"\u001b[39m)\n\u001b[1;32m     20\u001b[0m     sleep(\u001b[38;5;28mself\u001b[39m\u001b[38;5;241m.\u001b[39mmessage_pending_time)\n\u001b[0;32m---> 22\u001b[0m \u001b[38;5;28;01mreturn\u001b[39;00m \u001b[38;5;28;43mself\u001b[39;49m\u001b[38;5;241;43m.\u001b[39;49m\u001b[43mrecv_msg\u001b[49m\u001b[43m(\u001b[49m\u001b[43mmessage\u001b[49m\u001b[43m)\u001b[49m\n",
      "File \u001b[0;32m/Library/Frameworks/Python.framework/Versions/3.8/lib/python3.8/site-packages/syft/workers/base.py:356\u001b[0m, in \u001b[0;36mBaseWorker.recv_msg\u001b[0;34m(self, bin_message)\u001b[0m\n\u001b[1;32m    354\u001b[0m \u001b[38;5;28;01mfor\u001b[39;00m handler \u001b[38;5;129;01min\u001b[39;00m \u001b[38;5;28mself\u001b[39m\u001b[38;5;241m.\u001b[39mmessage_handlers:\n\u001b[1;32m    355\u001b[0m     \u001b[38;5;28;01mif\u001b[39;00m handler\u001b[38;5;241m.\u001b[39msupports(msg):\n\u001b[0;32m--> 356\u001b[0m         response \u001b[38;5;241m=\u001b[39m \u001b[43mhandler\u001b[49m\u001b[38;5;241;43m.\u001b[39;49m\u001b[43mhandle\u001b[49m\u001b[43m(\u001b[49m\u001b[43mmsg\u001b[49m\u001b[43m)\u001b[49m\n\u001b[1;32m    357\u001b[0m         \u001b[38;5;28;01mbreak\u001b[39;00m\n\u001b[1;32m    358\u001b[0m \u001b[38;5;66;03m# TODO(karlhigley): Raise an exception if no handler is found\u001b[39;00m\n\u001b[1;32m    359\u001b[0m \n\u001b[1;32m    360\u001b[0m \u001b[38;5;66;03m# Step 3: Serialize the message to simple python objects\u001b[39;00m\n",
      "File \u001b[0;32m/Library/Frameworks/Python.framework/Versions/3.8/lib/python3.8/site-packages/syft/generic/abstract/message_handler.py:20\u001b[0m, in \u001b[0;36mAbstractMessageHandler.handle\u001b[0;34m(self, msg)\u001b[0m\n\u001b[1;32m     19\u001b[0m \u001b[38;5;28;01mdef\u001b[39;00m \u001b[38;5;21mhandle\u001b[39m(\u001b[38;5;28mself\u001b[39m, msg):\n\u001b[0;32m---> 20\u001b[0m     \u001b[38;5;28;01mreturn\u001b[39;00m \u001b[38;5;28;43mself\u001b[39;49m\u001b[38;5;241;43m.\u001b[39;49m\u001b[43mrouting_table\u001b[49m\u001b[43m[\u001b[49m\u001b[38;5;28;43mtype\u001b[39;49m\u001b[43m(\u001b[49m\u001b[43mmsg\u001b[49m\u001b[43m)\u001b[49m\u001b[43m]\u001b[49m\u001b[43m(\u001b[49m\u001b[43mmsg\u001b[49m\u001b[43m)\u001b[49m\n",
      "File \u001b[0;32m/Library/Frameworks/Python.framework/Versions/3.8/lib/python3.8/site-packages/syft/workers/message_handler.py:55\u001b[0m, in \u001b[0;36mBaseMessageHandler.execute_tensor_command\u001b[0;34m(self, cmd)\u001b[0m\n\u001b[1;32m     53\u001b[0m \u001b[38;5;28;01mdef\u001b[39;00m \u001b[38;5;21mexecute_tensor_command\u001b[39m(\u001b[38;5;28mself\u001b[39m, cmd: TensorCommandMessage) \u001b[38;5;241m-\u001b[39m\u001b[38;5;241m>\u001b[39m PointerTensor:\n\u001b[1;32m     54\u001b[0m     \u001b[38;5;28;01mif\u001b[39;00m \u001b[38;5;28misinstance\u001b[39m(cmd\u001b[38;5;241m.\u001b[39maction, ComputationAction):\n\u001b[0;32m---> 55\u001b[0m         \u001b[38;5;28;01mreturn\u001b[39;00m \u001b[38;5;28;43mself\u001b[39;49m\u001b[38;5;241;43m.\u001b[39;49m\u001b[43mexecute_computation_action\u001b[49m\u001b[43m(\u001b[49m\u001b[43mcmd\u001b[49m\u001b[38;5;241;43m.\u001b[39;49m\u001b[43maction\u001b[49m\u001b[43m)\u001b[49m\n\u001b[1;32m     56\u001b[0m     \u001b[38;5;28;01melse\u001b[39;00m:\n\u001b[1;32m     57\u001b[0m         \u001b[38;5;28;01mreturn\u001b[39;00m \u001b[38;5;28mself\u001b[39m\u001b[38;5;241m.\u001b[39mexecute_communication_action(cmd\u001b[38;5;241m.\u001b[39maction)\n",
      "File \u001b[0;32m/Library/Frameworks/Python.framework/Versions/3.8/lib/python3.8/site-packages/syft/workers/message_handler.py:118\u001b[0m, in \u001b[0;36mBaseMessageHandler.execute_computation_action\u001b[0;34m(self, action)\u001b[0m\n\u001b[1;32m    115\u001b[0m     \u001b[38;5;28;01mfor\u001b[39;00m path \u001b[38;5;129;01min\u001b[39;00m paths:\n\u001b[1;32m    116\u001b[0m         command \u001b[38;5;241m=\u001b[39m \u001b[38;5;28mgetattr\u001b[39m(command, path)\n\u001b[0;32m--> 118\u001b[0m     response \u001b[38;5;241m=\u001b[39m \u001b[43mcommand\u001b[49m\u001b[43m(\u001b[49m\u001b[38;5;241;43m*\u001b[39;49m\u001b[43margs_\u001b[49m\u001b[43m,\u001b[49m\u001b[43m \u001b[49m\u001b[38;5;241;43m*\u001b[39;49m\u001b[38;5;241;43m*\u001b[39;49m\u001b[43mkwargs_\u001b[49m\u001b[43m)\u001b[49m\n\u001b[1;32m    120\u001b[0m \u001b[38;5;66;03m# some functions don't return anything (such as .backward())\u001b[39;00m\n\u001b[1;32m    121\u001b[0m \u001b[38;5;66;03m# so we need to check for that here.\u001b[39;00m\n\u001b[1;32m    122\u001b[0m \u001b[38;5;28;01mif\u001b[39;00m response \u001b[38;5;129;01mis\u001b[39;00m \u001b[38;5;129;01mnot\u001b[39;00m \u001b[38;5;28;01mNone\u001b[39;00m:\n\u001b[1;32m    123\u001b[0m     \u001b[38;5;66;03m# Register response and create pointers for tensor elements\u001b[39;00m\n",
      "File \u001b[0;32m/Library/Frameworks/Python.framework/Versions/3.8/lib/python3.8/site-packages/syft/generic/frameworks/hook/hook.py:335\u001b[0m, in \u001b[0;36mFrameworkHook._get_hooked_func.<locals>.overloaded_func\u001b[0;34m(*args, **kwargs)\u001b[0m\n\u001b[1;32m    332\u001b[0m \u001b[38;5;28;01mexcept\u001b[39;00m \u001b[38;5;167;01mAttributeError\u001b[39;00m:\n\u001b[1;32m    333\u001b[0m     handle_func_command \u001b[38;5;241m=\u001b[39m syft\u001b[38;5;241m.\u001b[39mframework\u001b[38;5;241m.\u001b[39mTensor\u001b[38;5;241m.\u001b[39mhandle_func_command\n\u001b[0;32m--> 335\u001b[0m response \u001b[38;5;241m=\u001b[39m \u001b[43mhandle_func_command\u001b[49m\u001b[43m(\u001b[49m\u001b[43mcommand\u001b[49m\u001b[43m)\u001b[49m\n\u001b[1;32m    337\u001b[0m \u001b[38;5;28;01mreturn\u001b[39;00m response\n",
      "File \u001b[0;32m/Library/Frameworks/Python.framework/Versions/3.8/lib/python3.8/site-packages/syft/frameworks/torch/tensors/interpreters/native.py:380\u001b[0m, in \u001b[0;36mTorchTensor.handle_func_command\u001b[0;34m(cls, command)\u001b[0m\n\u001b[1;32m    376\u001b[0m \u001b[38;5;66;03m# Run the native function with the new args\u001b[39;00m\n\u001b[1;32m    377\u001b[0m \u001b[38;5;66;03m# Note the the cmd should already be checked upon reception by the worker\u001b[39;00m\n\u001b[1;32m    378\u001b[0m \u001b[38;5;66;03m# in the execute_command function\u001b[39;00m\n\u001b[1;32m    379\u001b[0m \u001b[38;5;28;01mtry\u001b[39;00m:\n\u001b[0;32m--> 380\u001b[0m     response \u001b[38;5;241m=\u001b[39m \u001b[38;5;28;43mcls\u001b[39;49m\u001b[38;5;241;43m.\u001b[39;49m\u001b[43m_get_response\u001b[49m\u001b[43m(\u001b[49m\u001b[43mcmd\u001b[49m\u001b[43m,\u001b[49m\u001b[43m \u001b[49m\u001b[43margs_\u001b[49m\u001b[43m,\u001b[49m\u001b[43m \u001b[49m\u001b[43mkwargs_\u001b[49m\u001b[43m)\u001b[49m\n\u001b[1;32m    381\u001b[0m \u001b[38;5;28;01mexcept\u001b[39;00m \u001b[38;5;167;01mAttributeError\u001b[39;00m:\n\u001b[1;32m    382\u001b[0m     \u001b[38;5;66;03m# Change the library path to avoid errors on layers like AvgPooling\u001b[39;00m\n\u001b[1;32m    383\u001b[0m     cmd \u001b[38;5;241m=\u001b[39m \u001b[38;5;28mcls\u001b[39m\u001b[38;5;241m.\u001b[39m_fix_torch_library(cmd)\n",
      "File \u001b[0;32m/Library/Frameworks/Python.framework/Versions/3.8/lib/python3.8/site-packages/syft/frameworks/torch/tensors/interpreters/native.py:414\u001b[0m, in \u001b[0;36mTorchTensor._get_response\u001b[0;34m(cmd, args_, kwargs_)\u001b[0m\n\u001b[1;32m    411\u001b[0m command_method \u001b[38;5;241m=\u001b[39m TorchTensor\u001b[38;5;241m.\u001b[39m_get_method(cmd)\n\u001b[1;32m    413\u001b[0m \u001b[38;5;28;01mif\u001b[39;00m \u001b[38;5;28misinstance\u001b[39m(args_, \u001b[38;5;28mtuple\u001b[39m):\n\u001b[0;32m--> 414\u001b[0m     response \u001b[38;5;241m=\u001b[39m \u001b[43mcommand_method\u001b[49m\u001b[43m(\u001b[49m\u001b[38;5;241;43m*\u001b[39;49m\u001b[43margs_\u001b[49m\u001b[43m,\u001b[49m\u001b[43m \u001b[49m\u001b[38;5;241;43m*\u001b[39;49m\u001b[38;5;241;43m*\u001b[39;49m\u001b[43mkwargs_\u001b[49m\u001b[43m)\u001b[49m\n\u001b[1;32m    415\u001b[0m \u001b[38;5;28;01melse\u001b[39;00m:\n\u001b[1;32m    416\u001b[0m     response \u001b[38;5;241m=\u001b[39m command_method(args_, \u001b[38;5;241m*\u001b[39m\u001b[38;5;241m*\u001b[39mkwargs_)\n",
      "File \u001b[0;32m/Library/Frameworks/Python.framework/Versions/3.8/lib/python3.8/site-packages/torch/nn/functional.py:1838\u001b[0m, in \u001b[0;36mnll_loss\u001b[0;34m(input, target, weight, size_average, ignore_index, reduce, reduction)\u001b[0m\n\u001b[1;32m   1835\u001b[0m     \u001b[38;5;28;01mraise\u001b[39;00m \u001b[38;5;167;01mValueError\u001b[39;00m(\u001b[38;5;124m'\u001b[39m\u001b[38;5;124mExpected input batch_size (\u001b[39m\u001b[38;5;132;01m{}\u001b[39;00m\u001b[38;5;124m) to match target batch_size (\u001b[39m\u001b[38;5;132;01m{}\u001b[39;00m\u001b[38;5;124m).\u001b[39m\u001b[38;5;124m'\u001b[39m\n\u001b[1;32m   1836\u001b[0m                      \u001b[38;5;241m.\u001b[39mformat(\u001b[38;5;28minput\u001b[39m\u001b[38;5;241m.\u001b[39msize(\u001b[38;5;241m0\u001b[39m), target\u001b[38;5;241m.\u001b[39msize(\u001b[38;5;241m0\u001b[39m)))\n\u001b[1;32m   1837\u001b[0m \u001b[38;5;28;01mif\u001b[39;00m dim \u001b[38;5;241m==\u001b[39m \u001b[38;5;241m2\u001b[39m:\n\u001b[0;32m-> 1838\u001b[0m     ret \u001b[38;5;241m=\u001b[39m \u001b[43mtorch\u001b[49m\u001b[38;5;241;43m.\u001b[39;49m\u001b[43m_C\u001b[49m\u001b[38;5;241;43m.\u001b[39;49m\u001b[43m_nn\u001b[49m\u001b[38;5;241;43m.\u001b[39;49m\u001b[43mnll_loss\u001b[49m\u001b[43m(\u001b[49m\u001b[38;5;28;43minput\u001b[39;49m\u001b[43m,\u001b[49m\u001b[43m \u001b[49m\u001b[43mtarget\u001b[49m\u001b[43m,\u001b[49m\u001b[43m \u001b[49m\u001b[43mweight\u001b[49m\u001b[43m,\u001b[49m\u001b[43m \u001b[49m\u001b[43m_Reduction\u001b[49m\u001b[38;5;241;43m.\u001b[39;49m\u001b[43mget_enum\u001b[49m\u001b[43m(\u001b[49m\u001b[43mreduction\u001b[49m\u001b[43m)\u001b[49m\u001b[43m,\u001b[49m\u001b[43m \u001b[49m\u001b[43mignore_index\u001b[49m\u001b[43m)\u001b[49m\n\u001b[1;32m   1839\u001b[0m \u001b[38;5;28;01melif\u001b[39;00m dim \u001b[38;5;241m==\u001b[39m \u001b[38;5;241m4\u001b[39m:\n\u001b[1;32m   1840\u001b[0m     ret \u001b[38;5;241m=\u001b[39m torch\u001b[38;5;241m.\u001b[39m_C\u001b[38;5;241m.\u001b[39m_nn\u001b[38;5;241m.\u001b[39mnll_loss2d(\u001b[38;5;28minput\u001b[39m, target, weight, _Reduction\u001b[38;5;241m.\u001b[39mget_enum(reduction), ignore_index)\n",
      "\u001b[0;31mRuntimeError\u001b[0m: 1D target tensor expected, multi-target not supported"
     ]
    }
   ],
   "source": [
    "criterion = MSELoss()\n",
    "for epoch in range(0, 5):\n",
    "    model.train()\n",
    "    for batch_idx, (data, target) in enumerate(federated_train_loader):\n",
    "        # send the model to the client device where the data is present\n",
    "        model.send(data.location)\n",
    "        # training the model\n",
    "        #data, target = data.to(device), target.to(device)\n",
    "        optimizer.zero_grad()\n",
    "        output = model(data)\n",
    "        loss = F.nll_loss(output, target)\n",
    "        loss = criterion(output, target.float())\n",
    "        loss.backward()\n",
    "        optimizer.step()\n",
    "        # get back the improved model\n",
    "        model.get()\n",
    "        if batch_idx % 100 == 0:\n",
    "            # get back the loss\n",
    "            loss = loss.get()\n",
    "            print('Epoch: {:2d} [{:5d}/{:5d} ({:3.0f}%)]\\tLoss: {:.6f}'.format(\n",
    "                epoch+1,\n",
    "                batch_idx * 32,\n",
    "                len(federated_train_loader) * 32,\n",
    "                100. * batch_idx / len(federated_train_loader),\n",
    "                loss.item()))"
   ]
  },
  {
   "cell_type": "code",
   "execution_count": null,
   "id": "97ad1bb7",
   "metadata": {},
   "outputs": [],
   "source": []
  },
  {
   "cell_type": "code",
   "execution_count": null,
   "id": "ce2d70dd",
   "metadata": {},
   "outputs": [],
   "source": []
  }
 ],
 "metadata": {
  "kernelspec": {
   "display_name": "Python 3 (ipykernel)",
   "language": "python",
   "name": "python3"
  },
  "language_info": {
   "codemirror_mode": {
    "name": "ipython",
    "version": 3
   },
   "file_extension": ".py",
   "mimetype": "text/x-python",
   "name": "python",
   "nbconvert_exporter": "python",
   "pygments_lexer": "ipython3",
   "version": "3.8.10"
  }
 },
 "nbformat": 4,
 "nbformat_minor": 5
}
