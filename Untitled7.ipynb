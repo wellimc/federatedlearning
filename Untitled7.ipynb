{
 "cells": [
  {
   "cell_type": "code",
   "execution_count": 4,
   "id": "fe72f561",
   "metadata": {},
   "outputs": [],
   "source": [
    "import pandas as pd\n",
    "from keras.layers import Dense\n",
    "from keras.wrappers.scikit_learn import KerasClassifier\n",
    "from keras.utils import np_utils\n",
    "from sklearn.model_selection import cross_val_score\n",
    "from sklearn.model_selection import KFold\n",
    "from sklearn.preprocessing import LabelEncoder\n",
    "from sklearn.pipeline import Pipeline\n",
    "from keras.models import Sequential"
   ]
  },
  {
   "cell_type": "code",
   "execution_count": 25,
   "id": "ff0b491d",
   "metadata": {},
   "outputs": [
    {
     "name": "stdout",
     "output_type": "stream",
     "text": [
      "(300, 10)\n"
     ]
    },
    {
     "data": {
      "text/html": [
       "<div>\n",
       "<style scoped>\n",
       "    .dataframe tbody tr th:only-of-type {\n",
       "        vertical-align: middle;\n",
       "    }\n",
       "\n",
       "    .dataframe tbody tr th {\n",
       "        vertical-align: top;\n",
       "    }\n",
       "\n",
       "    .dataframe thead th {\n",
       "        text-align: right;\n",
       "    }\n",
       "</style>\n",
       "<table border=\"1\" class=\"dataframe\">\n",
       "  <thead>\n",
       "    <tr style=\"text-align: right;\">\n",
       "      <th></th>\n",
       "      <th>QoS_bandwidth</th>\n",
       "      <th>QoS_delay</th>\n",
       "      <th>QoS_jitter</th>\n",
       "      <th>V_content</th>\n",
       "      <th>V_complexity-class</th>\n",
       "      <th>QoA_resolution</th>\n",
       "      <th>QoA-bitrate</th>\n",
       "      <th>QoD_carte-class</th>\n",
       "      <th>QoD_ram-size</th>\n",
       "      <th>MOS</th>\n",
       "    </tr>\n",
       "  </thead>\n",
       "  <tbody>\n",
       "    <tr>\n",
       "      <th>count</th>\n",
       "      <td>300.000000</td>\n",
       "      <td>300.000000</td>\n",
       "      <td>300.000000</td>\n",
       "      <td>300.000000</td>\n",
       "      <td>300.000000</td>\n",
       "      <td>300.000000</td>\n",
       "      <td>300.000000</td>\n",
       "      <td>300.000000</td>\n",
       "      <td>300.000000</td>\n",
       "      <td>300.000000</td>\n",
       "    </tr>\n",
       "    <tr>\n",
       "      <th>mean</th>\n",
       "      <td>2324.480000</td>\n",
       "      <td>0.399090</td>\n",
       "      <td>0.051663</td>\n",
       "      <td>1.320000</td>\n",
       "      <td>0.640000</td>\n",
       "      <td>369.360000</td>\n",
       "      <td>734.608833</td>\n",
       "      <td>1.813333</td>\n",
       "      <td>3328.000000</td>\n",
       "      <td>3.203333</td>\n",
       "    </tr>\n",
       "    <tr>\n",
       "      <th>std</th>\n",
       "      <td>1031.047853</td>\n",
       "      <td>0.071311</td>\n",
       "      <td>0.016980</td>\n",
       "      <td>0.467256</td>\n",
       "      <td>0.934511</td>\n",
       "      <td>256.720695</td>\n",
       "      <td>736.684892</td>\n",
       "      <td>0.808704</td>\n",
       "      <td>1332.437603</td>\n",
       "      <td>1.314438</td>\n",
       "    </tr>\n",
       "    <tr>\n",
       "      <th>min</th>\n",
       "      <td>1024.000000</td>\n",
       "      <td>0.264000</td>\n",
       "      <td>0.018000</td>\n",
       "      <td>1.000000</td>\n",
       "      <td>0.000000</td>\n",
       "      <td>144.000000</td>\n",
       "      <td>78.400000</td>\n",
       "      <td>1.000000</td>\n",
       "      <td>1024.000000</td>\n",
       "      <td>1.000000</td>\n",
       "    </tr>\n",
       "    <tr>\n",
       "      <th>25%</th>\n",
       "      <td>1536.000000</td>\n",
       "      <td>0.330000</td>\n",
       "      <td>0.039000</td>\n",
       "      <td>1.000000</td>\n",
       "      <td>0.000000</td>\n",
       "      <td>240.000000</td>\n",
       "      <td>227.650000</td>\n",
       "      <td>1.000000</td>\n",
       "      <td>3328.000000</td>\n",
       "      <td>2.000000</td>\n",
       "    </tr>\n",
       "    <tr>\n",
       "      <th>50%</th>\n",
       "      <td>2048.000000</td>\n",
       "      <td>0.407000</td>\n",
       "      <td>0.049000</td>\n",
       "      <td>1.000000</td>\n",
       "      <td>0.000000</td>\n",
       "      <td>240.000000</td>\n",
       "      <td>573.300000</td>\n",
       "      <td>2.000000</td>\n",
       "      <td>4096.000000</td>\n",
       "      <td>3.000000</td>\n",
       "    </tr>\n",
       "    <tr>\n",
       "      <th>75%</th>\n",
       "      <td>3072.000000</td>\n",
       "      <td>0.465000</td>\n",
       "      <td>0.062250</td>\n",
       "      <td>2.000000</td>\n",
       "      <td>2.000000</td>\n",
       "      <td>480.000000</td>\n",
       "      <td>895.350000</td>\n",
       "      <td>2.250000</td>\n",
       "      <td>4096.000000</td>\n",
       "      <td>4.000000</td>\n",
       "    </tr>\n",
       "    <tr>\n",
       "      <th>max</th>\n",
       "      <td>4608.000000</td>\n",
       "      <td>0.534000</td>\n",
       "      <td>0.124000</td>\n",
       "      <td>2.000000</td>\n",
       "      <td>2.000000</td>\n",
       "      <td>1080.000000</td>\n",
       "      <td>3711.800000</td>\n",
       "      <td>3.000000</td>\n",
       "      <td>4096.000000</td>\n",
       "      <td>5.000000</td>\n",
       "    </tr>\n",
       "  </tbody>\n",
       "</table>\n",
       "</div>"
      ],
      "text/plain": [
       "       QoS_bandwidth   QoS_delay  QoS_jitter   V_content  V_complexity-class  \\\n",
       "count     300.000000  300.000000  300.000000  300.000000          300.000000   \n",
       "mean     2324.480000    0.399090    0.051663    1.320000            0.640000   \n",
       "std      1031.047853    0.071311    0.016980    0.467256            0.934511   \n",
       "min      1024.000000    0.264000    0.018000    1.000000            0.000000   \n",
       "25%      1536.000000    0.330000    0.039000    1.000000            0.000000   \n",
       "50%      2048.000000    0.407000    0.049000    1.000000            0.000000   \n",
       "75%      3072.000000    0.465000    0.062250    2.000000            2.000000   \n",
       "max      4608.000000    0.534000    0.124000    2.000000            2.000000   \n",
       "\n",
       "       QoA_resolution  QoA-bitrate  QoD_carte-class  QoD_ram-size         MOS  \n",
       "count      300.000000   300.000000       300.000000    300.000000  300.000000  \n",
       "mean       369.360000   734.608833         1.813333   3328.000000    3.203333  \n",
       "std        256.720695   736.684892         0.808704   1332.437603    1.314438  \n",
       "min        144.000000    78.400000         1.000000   1024.000000    1.000000  \n",
       "25%        240.000000   227.650000         1.000000   3328.000000    2.000000  \n",
       "50%        240.000000   573.300000         2.000000   4096.000000    3.000000  \n",
       "75%        480.000000   895.350000         2.250000   4096.000000    4.000000  \n",
       "max       1080.000000  3711.800000         3.000000   4096.000000    5.000000  "
      ]
     },
     "execution_count": 25,
     "metadata": {},
     "output_type": "execute_result"
    }
   ],
   "source": [
    "df = pd.read_csv('./data/qoe/qoe_changed.csv')\n",
    "\n",
    "print(df.shape)\n",
    "df.describe()"
   ]
  },
  {
   "cell_type": "code",
   "execution_count": 10,
   "id": "c6818362",
   "metadata": {},
   "outputs": [],
   "source": [
    "\n",
    "df = df.values\n",
    "X = df[:,0:9].astype(float)\n",
    "Y = df[:,9:10]"
   ]
  },
  {
   "cell_type": "code",
   "execution_count": 11,
   "id": "a53f150b",
   "metadata": {},
   "outputs": [
    {
     "data": {
      "text/plain": [
       "(300, 9)"
      ]
     },
     "execution_count": 11,
     "metadata": {},
     "output_type": "execute_result"
    }
   ],
   "source": [
    "X.shape"
   ]
  },
  {
   "cell_type": "code",
   "execution_count": 13,
   "id": "d35ed4c8",
   "metadata": {},
   "outputs": [
    {
     "data": {
      "text/plain": [
       "(300, 1)"
      ]
     },
     "execution_count": 13,
     "metadata": {},
     "output_type": "execute_result"
    }
   ],
   "source": [
    "Y.shape"
   ]
  },
  {
   "cell_type": "code",
   "execution_count": 19,
   "id": "11165277",
   "metadata": {},
   "outputs": [],
   "source": [
    "\n",
    "# define baseline model\n",
    "def baseline_model():\n",
    "\t# create model\n",
    "\tmodel = Sequential()\n",
    "\tmodel.add(Dense(8, input_dim=9, activation='relu'))\n",
    "\tmodel.add(Dense(1, activation='softmax'))\n",
    "\t# Compile model\n",
    "\tmodel.compile(loss='categorical_crossentropy', optimizer='adam', metrics=['accuracy'])\n",
    "\treturn model"
   ]
  },
  {
   "cell_type": "code",
   "execution_count": 23,
   "id": "0022902e",
   "metadata": {},
   "outputs": [
    {
     "ename": "NameError",
     "evalue": "name 'create_model' is not defined",
     "output_type": "error",
     "traceback": [
      "\u001b[0;31m---------------------------------------------------------------------------\u001b[0m",
      "\u001b[0;31mNameError\u001b[0m                                 Traceback (most recent call last)",
      "Input \u001b[0;32mIn [23]\u001b[0m, in \u001b[0;36m<cell line: 1>\u001b[0;34m()\u001b[0m\n\u001b[0;32m----> 1\u001b[0m single_item_model \u001b[38;5;241m=\u001b[39m \u001b[43mcreate_model\u001b[49m(batch_size\u001b[38;5;241m=\u001b[39m\u001b[38;5;241m1\u001b[39m)\n\u001b[1;32m      2\u001b[0m single_item_model\u001b[38;5;241m.\u001b[39mset_weights(weights)\n\u001b[1;32m      3\u001b[0m single_item_model\u001b[38;5;241m.\u001b[39mcompile(compile_params)\n",
      "\u001b[0;31mNameError\u001b[0m: name 'create_model' is not defined"
     ]
    }
   ],
   "source": [
    "single_item_model = create_model(batch_size=1)\n",
    "single_item_model.set_weights(weights)\n",
    "single_item_model.compile(compile_params)"
   ]
  },
  {
   "cell_type": "code",
   "execution_count": 20,
   "id": "0a487a9a",
   "metadata": {},
   "outputs": [
    {
     "name": "stderr",
     "output_type": "stream",
     "text": [
      "/var/folders/9q/lpwrq5l50g30h13lqz5lfr3m0000gn/T/ipykernel_44414/1732433283.py:1: DeprecationWarning: KerasClassifier is deprecated, use Sci-Keras (https://github.com/adriangb/scikeras) instead. See https://www.adriangb.com/scikeras/stable/migration.html for help migrating.\n",
      "  estimator = KerasClassifier(build_fn=baseline_model, epochs=200, batch_size=5, verbose=0)\n"
     ]
    }
   ],
   "source": [
    "\n",
    "estimator = KerasClassifier(build_fn=baseline_model, epochs=200, batch_size=5, verbose=1)"
   ]
  },
  {
   "cell_type": "code",
   "execution_count": 21,
   "id": "ebaecf35",
   "metadata": {},
   "outputs": [],
   "source": [
    "kfold = KFold(n_splits=10, shuffle=True)"
   ]
  },
  {
   "cell_type": "code",
   "execution_count": 22,
   "id": "208fadd9",
   "metadata": {},
   "outputs": [
    {
     "name": "stdout",
     "output_type": "stream",
     "text": [
      "Baseline: 18.67% (4.99%)\n"
     ]
    }
   ],
   "source": [
    "\n",
    "results = cross_val_score(estimator, X, Y, cv=kfold)\n",
    "print(\"Baseline: %.2f%% (%.2f%%)\" % (results.mean()*100, results.std()*100))"
   ]
  },
  {
   "cell_type": "code",
   "execution_count": null,
   "id": "52df372e",
   "metadata": {},
   "outputs": [],
   "source": []
  }
 ],
 "metadata": {
  "kernelspec": {
   "display_name": "Python 3 (ipykernel)",
   "language": "python",
   "name": "python3"
  },
  "language_info": {
   "codemirror_mode": {
    "name": "ipython",
    "version": 3
   },
   "file_extension": ".py",
   "mimetype": "text/x-python",
   "name": "python",
   "nbconvert_exporter": "python",
   "pygments_lexer": "ipython3",
   "version": "3.8.10"
  }
 },
 "nbformat": 4,
 "nbformat_minor": 5
}
