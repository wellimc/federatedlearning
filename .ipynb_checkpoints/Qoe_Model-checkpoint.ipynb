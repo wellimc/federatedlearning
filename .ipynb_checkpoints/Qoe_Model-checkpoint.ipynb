{
 "cells": [
  {
   "cell_type": "code",
   "execution_count": null,
   "id": "20c37ed3",
   "metadata": {},
   "outputs": [],
   "source": [
    "\n",
    "\n",
    "!pip uninstall --yes tensorboard tb-nightly\n",
    "\n",
    "!pip install --quiet --upgrade tensorflow_federated_nightly\n",
    "!pip install --quiet --upgrade nest_asyncio\n",
    "!pip install --quiet tb-nightly  # or tensorboard, but not both\n",
    "\n",
    "\n"
   ]
  },
  {
   "cell_type": "code",
   "execution_count": 1,
   "id": "36f15620",
   "metadata": {},
   "outputs": [],
   "source": [
    "import nest_asyncio\n",
    "nest_asyncio.apply()\n",
    "import collections\n",
    "import functools\n",
    "import io\n",
    "import os\n",
    "import requests\n",
    "import zipfile\n",
    "from typing import List, Optional, Tuple\n",
    "\n",
    "import matplotlib.pyplot as plt\n",
    "import numpy as np\n",
    "import pandas as pd\n",
    "import tensorflow as tf\n",
    "#import tensorflow.compat.v1 as tf\n",
    "import tensorflow_federated as tff\n",
    "\n",
    "np.random.seed(42)"
   ]
  },
  {
   "cell_type": "code",
   "execution_count": 2,
   "id": "93869ef6",
   "metadata": {},
   "outputs": [
    {
     "data": {
      "text/plain": [
       "'Hello, World!'"
      ]
     },
     "execution_count": 2,
     "metadata": {},
     "output_type": "execute_result"
    }
   ],
   "source": [
    "\n",
    "@tf.autograph.experimental.do_not_convert\n",
    "def hello_world():\n",
    "  return 'Hello, World!'\n",
    "\n",
    "hello_world()"
   ]
  },
  {
   "cell_type": "code",
   "execution_count": 114,
   "id": "09c30561",
   "metadata": {
    "scrolled": true
   },
   "outputs": [
    {
     "data": {
      "text/plain": [
       "(9574, 4)"
      ]
     },
     "execution_count": 114,
     "metadata": {},
     "output_type": "execute_result"
    }
   ],
   "source": [
    "file_name = \"./data/QoE_Linear_TrainingSet.csv\"\n",
    "df = pd.read_csv (file_name)\n",
    "\n",
    "\n",
    "df.pop('download_throughput')\n",
    "df.pop('Stalling_number')\n",
    "df.pop('Stalling_length')\n",
    "df.pop('join_time')\n",
    "\n",
    "df.shape\n"
   ]
  },
  {
   "cell_type": "code",
   "execution_count": 115,
   "id": "61ff146a",
   "metadata": {},
   "outputs": [
    {
     "data": {
      "text/html": [
       "<div>\n",
       "<style scoped>\n",
       "    .dataframe tbody tr th:only-of-type {\n",
       "        vertical-align: middle;\n",
       "    }\n",
       "\n",
       "    .dataframe tbody tr th {\n",
       "        vertical-align: top;\n",
       "    }\n",
       "\n",
       "    .dataframe thead th {\n",
       "        text-align: right;\n",
       "    }\n",
       "</style>\n",
       "<table border=\"1\" class=\"dataframe\">\n",
       "  <thead>\n",
       "    <tr style=\"text-align: right;\">\n",
       "      <th></th>\n",
       "      <th>session</th>\n",
       "      <th>User</th>\n",
       "    </tr>\n",
       "  </thead>\n",
       "  <tbody>\n",
       "    <tr>\n",
       "      <th>0</th>\n",
       "      <td>1</td>\n",
       "      <td>Android</td>\n",
       "    </tr>\n",
       "    <tr>\n",
       "      <th>1</th>\n",
       "      <td>2</td>\n",
       "      <td>iphone</td>\n",
       "    </tr>\n",
       "    <tr>\n",
       "      <th>2</th>\n",
       "      <td>3</td>\n",
       "      <td>Galaxy</td>\n",
       "    </tr>\n",
       "    <tr>\n",
       "      <th>3</th>\n",
       "      <td>4</td>\n",
       "      <td>Sansumg</td>\n",
       "    </tr>\n",
       "    <tr>\n",
       "      <th>4</th>\n",
       "      <td>5</td>\n",
       "      <td>J5</td>\n",
       "    </tr>\n",
       "  </tbody>\n",
       "</table>\n",
       "</div>"
      ],
      "text/plain": [
       "   session     User\n",
       "0        1  Android\n",
       "1        2   iphone\n",
       "2        3   Galaxy\n",
       "3        4  Sansumg\n",
       "4        5       J5"
      ]
     },
     "execution_count": 115,
     "metadata": {},
     "output_type": "execute_result"
    }
   ],
   "source": [
    "file_name = \"./data/UE.csv\"\n",
    "df_user = pd.read_csv(file_name)\n",
    "df_user.head(6)\n"
   ]
  },
  {
   "cell_type": "code",
   "execution_count": 116,
   "id": "308305c5",
   "metadata": {},
   "outputs": [
    {
     "data": {
      "text/plain": [
       "(9574, 4)"
      ]
     },
     "execution_count": 116,
     "metadata": {},
     "output_type": "execute_result"
    }
   ],
   "source": [
    "df.shape\n"
   ]
  },
  {
   "cell_type": "markdown",
   "id": "db031f92",
   "metadata": {},
   "source": [
    "\n",
    "#df.Quaity = df.Quality.map(ser)\n",
    "    "
   ]
  },
  {
   "cell_type": "code",
   "execution_count": 117,
   "id": "5d95559c",
   "metadata": {},
   "outputs": [
    {
     "data": {
      "text/html": [
       "<div>\n",
       "<style scoped>\n",
       "    .dataframe tbody tr th:only-of-type {\n",
       "        vertical-align: middle;\n",
       "    }\n",
       "\n",
       "    .dataframe tbody tr th {\n",
       "        vertical-align: top;\n",
       "    }\n",
       "\n",
       "    .dataframe thead th {\n",
       "        text-align: right;\n",
       "    }\n",
       "</style>\n",
       "<table border=\"1\" class=\"dataframe\">\n",
       "  <thead>\n",
       "    <tr style=\"text-align: right;\">\n",
       "      <th></th>\n",
       "      <th>session</th>\n",
       "      <th>rtt</th>\n",
       "      <th>download_lossrate</th>\n",
       "      <th>QoE_linear</th>\n",
       "    </tr>\n",
       "  </thead>\n",
       "  <tbody>\n",
       "    <tr>\n",
       "      <th>0</th>\n",
       "      <td>1</td>\n",
       "      <td>993</td>\n",
       "      <td>0.07</td>\n",
       "      <td>2</td>\n",
       "    </tr>\n",
       "    <tr>\n",
       "      <th>1</th>\n",
       "      <td>1</td>\n",
       "      <td>933</td>\n",
       "      <td>0.04</td>\n",
       "      <td>3</td>\n",
       "    </tr>\n",
       "    <tr>\n",
       "      <th>2</th>\n",
       "      <td>1</td>\n",
       "      <td>873</td>\n",
       "      <td>0.00</td>\n",
       "      <td>4</td>\n",
       "    </tr>\n",
       "    <tr>\n",
       "      <th>3</th>\n",
       "      <td>1</td>\n",
       "      <td>813</td>\n",
       "      <td>0.04</td>\n",
       "      <td>4</td>\n",
       "    </tr>\n",
       "    <tr>\n",
       "      <th>4</th>\n",
       "      <td>1</td>\n",
       "      <td>753</td>\n",
       "      <td>0.07</td>\n",
       "      <td>3</td>\n",
       "    </tr>\n",
       "    <tr>\n",
       "      <th>5</th>\n",
       "      <td>1</td>\n",
       "      <td>693</td>\n",
       "      <td>0.11</td>\n",
       "      <td>1</td>\n",
       "    </tr>\n",
       "    <tr>\n",
       "      <th>6</th>\n",
       "      <td>1</td>\n",
       "      <td>633</td>\n",
       "      <td>0.15</td>\n",
       "      <td>2</td>\n",
       "    </tr>\n",
       "    <tr>\n",
       "      <th>7</th>\n",
       "      <td>1</td>\n",
       "      <td>573</td>\n",
       "      <td>0.11</td>\n",
       "      <td>3</td>\n",
       "    </tr>\n",
       "    <tr>\n",
       "      <th>8</th>\n",
       "      <td>1</td>\n",
       "      <td>513</td>\n",
       "      <td>0.08</td>\n",
       "      <td>3</td>\n",
       "    </tr>\n",
       "    <tr>\n",
       "      <th>9</th>\n",
       "      <td>1</td>\n",
       "      <td>453</td>\n",
       "      <td>0.04</td>\n",
       "      <td>4</td>\n",
       "    </tr>\n",
       "    <tr>\n",
       "      <th>10</th>\n",
       "      <td>1</td>\n",
       "      <td>393</td>\n",
       "      <td>0.00</td>\n",
       "      <td>5</td>\n",
       "    </tr>\n",
       "    <tr>\n",
       "      <th>11</th>\n",
       "      <td>1</td>\n",
       "      <td>333</td>\n",
       "      <td>0.03</td>\n",
       "      <td>4</td>\n",
       "    </tr>\n",
       "    <tr>\n",
       "      <th>12</th>\n",
       "      <td>1</td>\n",
       "      <td>273</td>\n",
       "      <td>0.07</td>\n",
       "      <td>1</td>\n",
       "    </tr>\n",
       "    <tr>\n",
       "      <th>13</th>\n",
       "      <td>1</td>\n",
       "      <td>213</td>\n",
       "      <td>0.11</td>\n",
       "      <td>4</td>\n",
       "    </tr>\n",
       "    <tr>\n",
       "      <th>14</th>\n",
       "      <td>1</td>\n",
       "      <td>153</td>\n",
       "      <td>0.15</td>\n",
       "      <td>5</td>\n",
       "    </tr>\n",
       "    <tr>\n",
       "      <th>15</th>\n",
       "      <td>1</td>\n",
       "      <td>93</td>\n",
       "      <td>0.12</td>\n",
       "      <td>4</td>\n",
       "    </tr>\n",
       "    <tr>\n",
       "      <th>16</th>\n",
       "      <td>1</td>\n",
       "      <td>33</td>\n",
       "      <td>0.08</td>\n",
       "      <td>4</td>\n",
       "    </tr>\n",
       "    <tr>\n",
       "      <th>17</th>\n",
       "      <td>1</td>\n",
       "      <td>27</td>\n",
       "      <td>0.04</td>\n",
       "      <td>5</td>\n",
       "    </tr>\n",
       "    <tr>\n",
       "      <th>18</th>\n",
       "      <td>1</td>\n",
       "      <td>87</td>\n",
       "      <td>0.00</td>\n",
       "      <td>5</td>\n",
       "    </tr>\n",
       "    <tr>\n",
       "      <th>19</th>\n",
       "      <td>1</td>\n",
       "      <td>147</td>\n",
       "      <td>0.03</td>\n",
       "      <td>5</td>\n",
       "    </tr>\n",
       "  </tbody>\n",
       "</table>\n",
       "</div>"
      ],
      "text/plain": [
       "    session  rtt  download_lossrate  QoE_linear\n",
       "0         1  993               0.07           2\n",
       "1         1  933               0.04           3\n",
       "2         1  873               0.00           4\n",
       "3         1  813               0.04           4\n",
       "4         1  753               0.07           3\n",
       "5         1  693               0.11           1\n",
       "6         1  633               0.15           2\n",
       "7         1  573               0.11           3\n",
       "8         1  513               0.08           3\n",
       "9         1  453               0.04           4\n",
       "10        1  393               0.00           5\n",
       "11        1  333               0.03           4\n",
       "12        1  273               0.07           1\n",
       "13        1  213               0.11           4\n",
       "14        1  153               0.15           5\n",
       "15        1   93               0.12           4\n",
       "16        1   33               0.08           4\n",
       "17        1   27               0.04           5\n",
       "18        1   87               0.00           5\n",
       "19        1  147               0.03           5"
      ]
     },
     "execution_count": 117,
     "metadata": {},
     "output_type": "execute_result"
    }
   ],
   "source": [
    "df.head(20) "
   ]
  },
  {
   "cell_type": "code",
   "execution_count": null,
   "id": "4b0c2c95",
   "metadata": {},
   "outputs": [],
   "source": []
  },
  {
   "cell_type": "code",
   "execution_count": null,
   "id": "11d246fe",
   "metadata": {},
   "outputs": [],
   "source": []
  },
  {
   "cell_type": "code",
   "execution_count": 118,
   "id": "f18878fa",
   "metadata": {},
   "outputs": [
    {
     "name": "stdout",
     "output_type": "stream",
     "text": [
      "Num session: 9574\n",
      "Num Qoe: 5\n"
     ]
    }
   ],
   "source": [
    "print('Num session:', len(df.session))\n",
    "print('Num Qoe:', len(set(df.QoE_linear)))"
   ]
  },
  {
   "cell_type": "code",
   "execution_count": 119,
   "id": "52ee2e0d",
   "metadata": {},
   "outputs": [
    {
     "data": {
      "text/html": [
       "<div>\n",
       "<style scoped>\n",
       "    .dataframe tbody tr th:only-of-type {\n",
       "        vertical-align: middle;\n",
       "    }\n",
       "\n",
       "    .dataframe tbody tr th {\n",
       "        vertical-align: top;\n",
       "    }\n",
       "\n",
       "    .dataframe thead th {\n",
       "        text-align: right;\n",
       "    }\n",
       "</style>\n",
       "<table border=\"1\" class=\"dataframe\">\n",
       "  <thead>\n",
       "    <tr style=\"text-align: right;\">\n",
       "      <th></th>\n",
       "      <th>session</th>\n",
       "      <th>rtt</th>\n",
       "      <th>download_lossrate</th>\n",
       "      <th>QoE_linear</th>\n",
       "    </tr>\n",
       "  </thead>\n",
       "  <tbody>\n",
       "    <tr>\n",
       "      <th>0</th>\n",
       "      <td>1</td>\n",
       "      <td>993</td>\n",
       "      <td>0.07</td>\n",
       "      <td>2</td>\n",
       "    </tr>\n",
       "    <tr>\n",
       "      <th>1</th>\n",
       "      <td>1</td>\n",
       "      <td>933</td>\n",
       "      <td>0.04</td>\n",
       "      <td>3</td>\n",
       "    </tr>\n",
       "    <tr>\n",
       "      <th>2</th>\n",
       "      <td>1</td>\n",
       "      <td>873</td>\n",
       "      <td>0.00</td>\n",
       "      <td>4</td>\n",
       "    </tr>\n",
       "    <tr>\n",
       "      <th>3</th>\n",
       "      <td>1</td>\n",
       "      <td>813</td>\n",
       "      <td>0.04</td>\n",
       "      <td>4</td>\n",
       "    </tr>\n",
       "    <tr>\n",
       "      <th>4</th>\n",
       "      <td>1</td>\n",
       "      <td>753</td>\n",
       "      <td>0.07</td>\n",
       "      <td>3</td>\n",
       "    </tr>\n",
       "    <tr>\n",
       "      <th>5</th>\n",
       "      <td>1</td>\n",
       "      <td>693</td>\n",
       "      <td>0.11</td>\n",
       "      <td>1</td>\n",
       "    </tr>\n",
       "    <tr>\n",
       "      <th>6</th>\n",
       "      <td>1</td>\n",
       "      <td>633</td>\n",
       "      <td>0.15</td>\n",
       "      <td>2</td>\n",
       "    </tr>\n",
       "    <tr>\n",
       "      <th>7</th>\n",
       "      <td>1</td>\n",
       "      <td>573</td>\n",
       "      <td>0.11</td>\n",
       "      <td>3</td>\n",
       "    </tr>\n",
       "    <tr>\n",
       "      <th>8</th>\n",
       "      <td>1</td>\n",
       "      <td>513</td>\n",
       "      <td>0.08</td>\n",
       "      <td>3</td>\n",
       "    </tr>\n",
       "    <tr>\n",
       "      <th>9</th>\n",
       "      <td>1</td>\n",
       "      <td>453</td>\n",
       "      <td>0.04</td>\n",
       "      <td>4</td>\n",
       "    </tr>\n",
       "    <tr>\n",
       "      <th>10</th>\n",
       "      <td>1</td>\n",
       "      <td>393</td>\n",
       "      <td>0.00</td>\n",
       "      <td>5</td>\n",
       "    </tr>\n",
       "    <tr>\n",
       "      <th>11</th>\n",
       "      <td>1</td>\n",
       "      <td>333</td>\n",
       "      <td>0.03</td>\n",
       "      <td>4</td>\n",
       "    </tr>\n",
       "    <tr>\n",
       "      <th>12</th>\n",
       "      <td>1</td>\n",
       "      <td>273</td>\n",
       "      <td>0.07</td>\n",
       "      <td>1</td>\n",
       "    </tr>\n",
       "    <tr>\n",
       "      <th>13</th>\n",
       "      <td>1</td>\n",
       "      <td>213</td>\n",
       "      <td>0.11</td>\n",
       "      <td>4</td>\n",
       "    </tr>\n",
       "    <tr>\n",
       "      <th>14</th>\n",
       "      <td>1</td>\n",
       "      <td>153</td>\n",
       "      <td>0.15</td>\n",
       "      <td>5</td>\n",
       "    </tr>\n",
       "    <tr>\n",
       "      <th>15</th>\n",
       "      <td>1</td>\n",
       "      <td>93</td>\n",
       "      <td>0.12</td>\n",
       "      <td>4</td>\n",
       "    </tr>\n",
       "    <tr>\n",
       "      <th>16</th>\n",
       "      <td>1</td>\n",
       "      <td>33</td>\n",
       "      <td>0.08</td>\n",
       "      <td>4</td>\n",
       "    </tr>\n",
       "    <tr>\n",
       "      <th>17</th>\n",
       "      <td>1</td>\n",
       "      <td>27</td>\n",
       "      <td>0.04</td>\n",
       "      <td>5</td>\n",
       "    </tr>\n",
       "    <tr>\n",
       "      <th>18</th>\n",
       "      <td>1</td>\n",
       "      <td>87</td>\n",
       "      <td>0.00</td>\n",
       "      <td>5</td>\n",
       "    </tr>\n",
       "    <tr>\n",
       "      <th>19</th>\n",
       "      <td>1</td>\n",
       "      <td>147</td>\n",
       "      <td>0.03</td>\n",
       "      <td>5</td>\n",
       "    </tr>\n",
       "  </tbody>\n",
       "</table>\n",
       "</div>"
      ],
      "text/plain": [
       "    session  rtt  download_lossrate  QoE_linear\n",
       "0         1  993               0.07           2\n",
       "1         1  933               0.04           3\n",
       "2         1  873               0.00           4\n",
       "3         1  813               0.04           4\n",
       "4         1  753               0.07           3\n",
       "5         1  693               0.11           1\n",
       "6         1  633               0.15           2\n",
       "7         1  573               0.11           3\n",
       "8         1  513               0.08           3\n",
       "9         1  453               0.04           4\n",
       "10        1  393               0.00           5\n",
       "11        1  333               0.03           4\n",
       "12        1  273               0.07           1\n",
       "13        1  213               0.11           4\n",
       "14        1  153               0.15           5\n",
       "15        1   93               0.12           4\n",
       "16        1   33               0.08           4\n",
       "17        1   27               0.04           5\n",
       "18        1   87               0.00           5\n",
       "19        1  147               0.03           5"
      ]
     },
     "execution_count": 119,
     "metadata": {},
     "output_type": "execute_result"
    }
   ],
   "source": [
    "df.head(20) "
   ]
  },
  {
   "cell_type": "code",
   "execution_count": 120,
   "id": "d9c1c61a",
   "metadata": {},
   "outputs": [
    {
     "data": {
      "image/png": "[encoded data removed]",
      "text/plain": [
       "<Figure size 432x288 with 1 Axes>"
      ]
     },
     "metadata": {
      "needs_background": "light"
     },
     "output_type": "display_data"
    },
    {
     "name": "stdout",
     "output_type": "stream",
     "text": [
      "Average rating: 1.5341550031334865\n",
      "Median rating: 1.0\n"
     ]
    }
   ],
   "source": [
    "sessions = df.QoE_linear.tolist()\n",
    "\n",
    "plt.hist(sessions, bins=5)\n",
    "plt.xticks([1, 2, 3, 4, 5])\n",
    "plt.ylabel('Count')\n",
    "plt.xlabel('session')\n",
    "plt.show()\n",
    "\n",
    "print('Average rating:', np.mean(sessions))\n",
    "print('Median rating:', np.median(sessions))\n"
   ]
  },
  {
   "cell_type": "code",
   "execution_count": 121,
   "id": "e85963f5",
   "metadata": {},
   "outputs": [
    {
     "data": {
      "image/png": "[encoded data removed]",
      "text/plain": [
       "<Figure size 792x792 with 1 Axes>"
      ]
     },
     "metadata": {},
     "output_type": "display_data"
    }
   ],
   "source": [
    "download_list = df.session.tolist()\n",
    "# Count the number of times each genre describes a movie.\n",
    "download_count = collections.defaultdict(int)\n",
    "for d in download_list:\n",
    "    download_count[d] += 1\n",
    "download_session_list, download_list_count = zip(*download_count.items())\n",
    "\n",
    "plt.figure(figsize=(11, 11))\n",
    "plt.pie(download_list_count, labels=download_session_list)\n",
    "plt.title('MovieLens Movie Genres')\n",
    "plt.show()"
   ]
  },
  {
   "cell_type": "code",
   "execution_count": null,
   "id": "eda364e0",
   "metadata": {},
   "outputs": [],
   "source": []
  },
  {
   "cell_type": "code",
   "execution_count": 166,
   "id": "7b84b1cf",
   "metadata": {},
   "outputs": [],
   "source": [
    "def create_tf_datasets(ratings_df: pd.DataFrame,\n",
    "                       batch_size: int = 1,\n",
    "                       max_examples_per_user: Optional[int] = None,\n",
    "                       max_clients: Optional[int] = None) -> List[tf.data.Dataset]:\n",
    "  \"\"\"Creates TF Datasets containing the movies and ratings for all users.\"\"\"\n",
    "  num_users = 5\n",
    "  # Optionally limit to `max_clients` to speed up data loading.\n",
    "  #if max_clients is not None:\n",
    "  #  num_users = min(num_users, max_clients)\n",
    "\n",
    "  def rating_batch_map_fn(rating_batch):\n",
    "    \"\"\"Maps a rating batch to an OrderedDict with tensor values.\"\"\"\n",
    "    # Each example looks like: {x: movie_id, y: rating}.\n",
    "    # We won't need the UserID since each client will only look at their own\n",
    "    # data.\n",
    "    return collections.OrderedDict([\n",
    "        (\"x\", tf.cast(rating_batch[:, 1:3], tf.int64)),\n",
    "        (\"y\", tf.cast(rating_batch[:, 3:4], tf.float32))\n",
    "    ])\n",
    "\n",
    "  tf_datasets = []\n",
    "  for user_id in range(1,6):\n",
    "    # Get subset of ratings_df belonging to a particular user.\n",
    "    user_ratings_df = ratings_df[ratings_df.session == user_id]\n",
    "\n",
    "    print(user_ratings_df.shape)\n",
    "    tf_dataset = tf.data.Dataset.from_tensor_slices(user_ratings_df)\n",
    "\n",
    "    # Define preprocessing operations.\n",
    "    tf_dataset = tf_dataset.take(max_examples_per_user).shuffle(\n",
    "        buffer_size=max_examples_per_user, seed=42).batch(batch_size).map(\n",
    "        rating_batch_map_fn,\n",
    "        num_parallel_calls=tf.data.experimental.AUTOTUNE)\n",
    "    tf_datasets.append(tf_dataset)\n",
    "\n",
    "  return tf_datasets\n",
    "\n",
    "\n",
    "def split_tf_datasets(\n",
    "    tf_datasets: List[tf.data.Dataset],\n",
    "    train_fraction: float = 0.8,\n",
    "    val_fraction: float = 0.1,\n",
    ") -> Tuple[List[tf.data.Dataset], List[tf.data.Dataset], List[tf.data.Dataset]]:\n",
    "  \"\"\"Splits a list of user TF datasets into train/val/test by user.\n",
    "  \"\"\"\n",
    "  np.random.seed(42)\n",
    "  np.random.shuffle(tf_datasets)\n",
    "\n",
    "  train_idx = int(len(tf_datasets) * train_fraction)\n",
    "  val_idx = int(len(tf_datasets) * (train_fraction + val_fraction))\n",
    "\n",
    "  # Note that the val and test data contains completely different users, not\n",
    "  # just unseen ratings from train users.\n",
    "  return (tf_datasets[:train_idx], tf_datasets[train_idx:val_idx],\n",
    "          tf_datasets[val_idx:])"
   ]
  },
  {
   "cell_type": "code",
   "execution_count": 167,
   "id": "9f4a0202",
   "metadata": {},
   "outputs": [
    {
     "name": "stdout",
     "output_type": "stream",
     "text": [
      "(1474, 4)\n",
      "(1127, 4)\n",
      "(1993, 4)\n",
      "(2597, 4)\n",
      "(2383, 4)\n"
     ]
    }
   ],
   "source": [
    "# We limit the number of clients to speed up dataset creation. Feel free to pass\n",
    "# max_clients=None to load all clients' data.\n",
    "tf_datasets = create_tf_datasets(\n",
    "    ratings_df=df,\n",
    "    batch_size=5,\n",
    "    max_examples_per_user=3000,\n",
    "    max_clients=5)\n",
    "\n"
   ]
  },
  {
   "cell_type": "code",
   "execution_count": 168,
   "id": "91f90d13",
   "metadata": {},
   "outputs": [],
   "source": [
    "# Split the ratings into training/val/test by client.\n",
    "tf_train_datasets, tf_val_datasets, tf_test_datasets = split_tf_datasets(\n",
    "    tf_datasets,\n",
    "    train_fraction=0.8,\n",
    "    val_fraction=0.1)"
   ]
  },
  {
   "cell_type": "code",
   "execution_count": 169,
   "id": "d0f73189",
   "metadata": {},
   "outputs": [
    {
     "name": "stdout",
     "output_type": "stream",
     "text": [
      "OrderedDict([('x', <tf.Tensor: shape=(5, 2), dtype=int64, numpy=\n",
      "array([[3770,    0],\n",
      "       [  70,    0],\n",
      "       [1170,    0],\n",
      "       [  30,    0],\n",
      "       [2410,    0]])>), ('y', <tf.Tensor: shape=(5, 1), dtype=float32, numpy=\n",
      "array([[1.],\n",
      "       [5.],\n",
      "       [1.],\n",
      "       [5.],\n",
      "       [1.]], dtype=float32)>)])\n"
     ]
    }
   ],
   "source": [
    "print(next(iter(tf_train_datasets[1])))"
   ]
  },
  {
   "cell_type": "code",
   "execution_count": 170,
   "id": "d0cc4dbe",
   "metadata": {},
   "outputs": [
    {
     "name": "stdout",
     "output_type": "stream",
     "text": [
      "OrderedDict([('x', <tf.Tensor: shape=(5, 2), dtype=int64, numpy=\n",
      "array([[ 897,    0],\n",
      "       [1977,    0],\n",
      "       [4165,    0],\n",
      "       [ 623,    0],\n",
      "       [1835,    0]])>), ('y', <tf.Tensor: shape=(5, 1), dtype=float32, numpy=\n",
      "array([[4.],\n",
      "       [3.],\n",
      "       [1.],\n",
      "       [1.],\n",
      "       [1.]], dtype=float32)>)])\n"
     ]
    }
   ],
   "source": [
    "print(next(iter(tf_test_datasets[0])))"
   ]
  },
  {
   "cell_type": "code",
   "execution_count": 171,
   "id": "63da9289",
   "metadata": {},
   "outputs": [
    {
     "data": {
      "image/png": "[encoded data removed]",
      "text/plain": [
       "<Figure size 432x288 with 1 Axes>"
      ]
     },
     "metadata": {
      "needs_background": "light"
     },
     "output_type": "display_data"
    }
   ],
   "source": [
    "def count_examples(curr_count, batch):\n",
    "  return curr_count + tf.size(batch['x'])\n",
    "\n",
    "num_examples_list = []\n",
    "# Compute number of examples for every other user.\n",
    "for i in range(0, len(tf_train_datasets)):\n",
    "  num_examples = tf_train_datasets[i].reduce(tf.constant(0), count_examples).numpy()\n",
    "  num_examples_list.append(num_examples)\n",
    "\n",
    "plt.hist(num_examples_list, bins=10)\n",
    "plt.ylabel('Count')\n",
    "plt.xlabel('Number of Examples')\n",
    "plt.show()"
   ]
  },
  {
   "cell_type": "code",
   "execution_count": 172,
   "id": "e5ad60e8",
   "metadata": {},
   "outputs": [],
   "source": [
    "class UserEmbedding(tf.keras.layers.Layer):\n",
    "  \"\"\"Keras layer representing an embedding for a single user, used below.\"\"\"\n",
    "\n",
    "  def __init__(self, num_latent_factors, **kwargs):\n",
    "    super().__init__(**kwargs)\n",
    "    self.num_latent_factors = num_latent_factors\n",
    "\n",
    "  def build(self, input_shape):\n",
    "    self.embedding = self.add_weight(\n",
    "        shape=(1, self.num_latent_factors),\n",
    "        initializer='uniform',\n",
    "        dtype=tf.float32,\n",
    "        name='UserEmbeddingKernel')\n",
    "    super().build(input_shape)\n",
    "\n",
    "  def call(self, inputs):\n",
    "    return self.embedding\n",
    "\n",
    "  def compute_output_shape(self):\n",
    "    return (1, self.num_latent_factors)\n",
    "\n",
    "\n",
    "def get_matrix_factorization_model(\n",
    "    num_items: int,\n",
    "    num_latent_factors: int) -> tff.learning.reconstruction.Model:\n",
    "  \"\"\"Defines a Keras matrix factorization model.\"\"\"\n",
    "  # Layers with variables will be partitioned into global and local layers.\n",
    "  # We'll pass this to `tff.learning.reconstruction.from_keras_model`.\n",
    "  global_layers = []\n",
    "  local_layers = []\n",
    "\n",
    "  # Extract the item embedding.\n",
    "  item_input = tf.keras.layers.Input(shape=[1], name='Item')\n",
    "  item_embedding_layer = tf.keras.layers.Embedding(\n",
    "      num_items,\n",
    "      num_latent_factors,\n",
    "      name='ItemEmbedding')\n",
    "  global_layers.append(item_embedding_layer)\n",
    "  flat_item_vec = tf.keras.layers.Flatten(name='FlattenItems')(\n",
    "      item_embedding_layer(item_input))\n",
    "\n",
    "  # Extract the user embedding.\n",
    "  user_embedding_layer = UserEmbedding(\n",
    "      num_latent_factors,\n",
    "      name='UserEmbedding')\n",
    "  local_layers.append(user_embedding_layer)\n",
    "\n",
    "  # The item_input never gets used by the user embedding layer,\n",
    "  # but this allows the model to directly use the user embedding.\n",
    "  flat_user_vec = user_embedding_layer(item_input)\n",
    "\n",
    "  # Compute the dot product between the user embedding, and the item one.\n",
    "  pred = tf.keras.layers.Dot(\n",
    "      1, normalize=False, name='Dot')([flat_user_vec, flat_item_vec])\n",
    "\n",
    "  input_spec = collections.OrderedDict(\n",
    "      x=tf.TensorSpec(shape=[None, 1], dtype=tf.int64),\n",
    "      y=tf.TensorSpec(shape=[None, 1], dtype=tf.float32))\n",
    "\n",
    "  model = tf.keras.Model(inputs=item_input, outputs=pred)\n",
    "\n",
    "  return tff.learning.reconstruction.from_keras_model(\n",
    "      keras_model=model,\n",
    "      global_layers=global_layers,\n",
    "      local_layers=local_layers,\n",
    "      input_spec=input_spec)"
   ]
  },
  {
   "cell_type": "code",
   "execution_count": 173,
   "id": "d2c2bdef",
   "metadata": {},
   "outputs": [
    {
     "data": {
      "text/plain": [
       "(9574, 4)"
      ]
     },
     "execution_count": 173,
     "metadata": {},
     "output_type": "execute_result"
    }
   ],
   "source": [
    "df.shape"
   ]
  },
  {
   "cell_type": "code",
   "execution_count": 174,
   "id": "2ae5c5f5",
   "metadata": {},
   "outputs": [],
   "source": [
    "# This will be used to produce our training process.\n",
    "# User and item embeddings will be 50-dimensional.\n",
    "model_fn = functools.partial(\n",
    "    get_matrix_factorization_model,\n",
    "    num_items=9574,\n",
    "    num_latent_factors=10)"
   ]
  },
  {
   "cell_type": "code",
   "execution_count": 175,
   "id": "5d39c255",
   "metadata": {},
   "outputs": [],
   "source": [
    "class RatingAccuracy(tf.keras.metrics.Mean):\n",
    "  \"\"\"Keras metric computing accuracy of reconstructed ratings.\"\"\"\n",
    "\n",
    "  def __init__(self,\n",
    "               name: str = 'rating_accuracy',\n",
    "               **kwargs):\n",
    "    super().__init__(name=name, **kwargs)\n",
    "\n",
    "  def update_state(self,\n",
    "                   y_true: tf.Tensor,\n",
    "                   y_pred: tf.Tensor,\n",
    "                   sample_weight: Optional[tf.Tensor] = None):\n",
    "    absolute_diffs = tf.abs(y_true - y_pred)\n",
    "    # A [batch_size, 1] tf.bool tensor indicating correctness within the\n",
    "    # threshold for each example in a batch. A 0.5 threshold corresponds\n",
    "    # to correctness when predictions are rounded to the nearest whole\n",
    "    # number.\n",
    "    example_accuracies = tf.less_equal(absolute_diffs, 0.8)\n",
    "    super().update_state(example_accuracies, sample_weight=sample_weight)\n",
    "\n",
    "\n",
    "loss_fn = lambda: tf.keras.losses.MeanSquaredError()\n",
    "metrics_fn = lambda: [RatingAccuracy()]"
   ]
  },
  {
   "cell_type": "code",
   "execution_count": 176,
   "id": "881500ef",
   "metadata": {},
   "outputs": [],
   "source": [
    "# We'll use this by doing:\n",
    "# state = training_process.initialize()\n",
    "# state, metrics = training_process.next(state, federated_train_data)\n",
    "training_process = tff.learning.reconstruction.build_training_process(\n",
    "    model_fn=model_fn,\n",
    "    loss_fn=loss_fn,\n",
    "    metrics_fn=metrics_fn,\n",
    "    server_optimizer_fn=lambda: tf.keras.optimizers.SGD(0.5),\n",
    "    client_optimizer_fn=lambda: tf.keras.optimizers.SGD(0.8),\n",
    "    reconstruction_optimizer_fn=lambda: tf.keras.optimizers.SGD(1.0))"
   ]
  },
  {
   "cell_type": "code",
   "execution_count": 177,
   "id": "96a582d2",
   "metadata": {},
   "outputs": [],
   "source": [
    "# We'll use this by doing:\n",
    "# eval_metrics = evaluation_computation(state.model, tf_val_datasets)\n",
    "# where `state` is the state from the training process above.\n",
    "evaluation_computation = tff.learning.reconstruction.build_federated_evaluation(\n",
    "    model_fn,\n",
    "    loss_fn=loss_fn,\n",
    "    metrics_fn=metrics_fn,\n",
    "    reconstruction_optimizer_fn=functools.partial(\n",
    "            tf.keras.optimizers.SGD, 0.9))"
   ]
  },
  {
   "cell_type": "code",
   "execution_count": 178,
   "id": "eac122d0",
   "metadata": {},
   "outputs": [
    {
     "name": "stdout",
     "output_type": "stream",
     "text": [
      "ModelWeights(trainable=[array([[-2.80423649e-02,  4.18107584e-03,  4.30145301e-02, ...,\n",
      "        -3.93334255e-02,  2.75805034e-02, -4.79192510e-02],\n",
      "       [ 1.54171325e-02,  1.06821209e-03, -4.33741920e-02, ...,\n",
      "         2.72128917e-02, -1.27049908e-02, -1.60904899e-02],\n",
      "       [ 2.48768181e-03, -7.95332342e-03, -5.01700491e-03, ...,\n",
      "        -1.11704357e-02, -8.03098083e-05,  2.33472921e-02],\n",
      "       ...,\n",
      "       [ 1.50328390e-02, -2.35108864e-02,  3.68050970e-02, ...,\n",
      "         2.73154043e-02,  3.56252678e-02,  6.14468008e-03],\n",
      "       [ 2.33130194e-02,  3.83849181e-02, -4.64067124e-02, ...,\n",
      "        -6.71780109e-03,  2.75563337e-02,  4.31954153e-02],\n",
      "       [ 3.74890678e-02,  2.10936330e-02, -4.19722907e-02, ...,\n",
      "        -3.81071344e-02, -3.69107239e-02,  3.84681560e-02]], dtype=float32)], non_trainable=[])\n",
      "Item variables shape: (9574, 10)\n"
     ]
    }
   ],
   "source": [
    "state = training_process.initialize()\n",
    "print(state.model)\n",
    "print('Item variables shape:', state.model.trainable[0].shape)"
   ]
  },
  {
   "cell_type": "code",
   "execution_count": 179,
   "id": "7dc9c78e",
   "metadata": {},
   "outputs": [
    {
     "name": "stdout",
     "output_type": "stream",
     "text": [
      "Initial Eval: OrderedDict([('loss', 0.0), ('rating_accuracy', 0.0)])\n"
     ]
    }
   ],
   "source": [
    "# We shouldn't expect good evaluation results here, since we haven't trained\n",
    "# yet!\n",
    "eval_metrics = evaluation_computation(state.model, tf_val_datasets)\n",
    "print('Initial Eval:', eval_metrics['eval'])"
   ]
  },
  {
   "cell_type": "code",
   "execution_count": 180,
   "id": "1c912dfe",
   "metadata": {},
   "outputs": [
    {
     "ename": "TypeNotAssignableError",
     "evalue": "Type `<x=int64[?,2],y=float32[?,1]>*` is not assignable to type `<x=int64[?,1],y=float32[?,1]>*`",
     "output_type": "error",
     "traceback": [
      "\u001b[0;31m---------------------------------------------------------------------------\u001b[0m",
      "\u001b[0;31mTypeNotAssignableError\u001b[0m                    Traceback (most recent call last)",
      "Input \u001b[0;32mIn [180]\u001b[0m, in \u001b[0;36m<cell line: 2>\u001b[0;34m()\u001b[0m\n\u001b[1;32m      1\u001b[0m federated_train_data \u001b[38;5;241m=\u001b[39m np\u001b[38;5;241m.\u001b[39mrandom\u001b[38;5;241m.\u001b[39mchoice(tf_train_datasets, size\u001b[38;5;241m=\u001b[39m\u001b[38;5;241m1\u001b[39m, replace\u001b[38;5;241m=\u001b[39m\u001b[38;5;28;01mFalse\u001b[39;00m)\u001b[38;5;241m.\u001b[39mtolist()\n\u001b[0;32m----> 2\u001b[0m state, metrics \u001b[38;5;241m=\u001b[39m \u001b[43mtraining_process\u001b[49m\u001b[38;5;241;43m.\u001b[39;49m\u001b[43mnext\u001b[49m\u001b[43m(\u001b[49m\u001b[43mstate\u001b[49m\u001b[43m,\u001b[49m\u001b[43m \u001b[49m\u001b[43mfederated_train_data\u001b[49m\u001b[43m)\u001b[49m\n\u001b[1;32m      3\u001b[0m \u001b[38;5;28mprint\u001b[39m(\u001b[38;5;124mf\u001b[39m\u001b[38;5;124m'\u001b[39m\u001b[38;5;124mTrain metrics:\u001b[39m\u001b[38;5;124m'\u001b[39m, metrics[\u001b[38;5;124m'\u001b[39m\u001b[38;5;124mtrain\u001b[39m\u001b[38;5;124m'\u001b[39m])\n",
      "File \u001b[0;32m/Library/Frameworks/Python.framework/Versions/3.8/lib/python3.8/site-packages/tensorflow_federated/python/core/impl/computation/computation_impl.py:119\u001b[0m, in \u001b[0;36mConcreteComputation.__call__\u001b[0;34m(self, *args, **kwargs)\u001b[0m\n\u001b[1;32m    116\u001b[0m context \u001b[38;5;241m=\u001b[39m \u001b[38;5;28mself\u001b[39m\u001b[38;5;241m.\u001b[39m_context_stack\u001b[38;5;241m.\u001b[39mcurrent\n\u001b[1;32m    117\u001b[0m arg \u001b[38;5;241m=\u001b[39m function_utils\u001b[38;5;241m.\u001b[39mpack_args(\u001b[38;5;28mself\u001b[39m\u001b[38;5;241m.\u001b[39m_type_signature\u001b[38;5;241m.\u001b[39mparameter, args, kwargs,\n\u001b[1;32m    118\u001b[0m                                context)\n\u001b[0;32m--> 119\u001b[0m \u001b[38;5;28;01mreturn\u001b[39;00m \u001b[43mcontext\u001b[49m\u001b[38;5;241;43m.\u001b[39;49m\u001b[43minvoke\u001b[49m\u001b[43m(\u001b[49m\u001b[38;5;28;43mself\u001b[39;49m\u001b[43m,\u001b[49m\u001b[43m \u001b[49m\u001b[43marg\u001b[49m\u001b[43m)\u001b[49m\n",
      "File \u001b[0;32m/Library/Frameworks/Python.framework/Versions/3.8/lib/python3.8/site-packages/tensorflow_federated/python/core/impl/execution_contexts/sync_execution_context.py:65\u001b[0m, in \u001b[0;36mExecutionContext.invoke\u001b[0;34m(self, comp, arg)\u001b[0m\n\u001b[1;32m     64\u001b[0m \u001b[38;5;28;01mdef\u001b[39;00m \u001b[38;5;21minvoke\u001b[39m(\u001b[38;5;28mself\u001b[39m, comp, arg):\n\u001b[0;32m---> 65\u001b[0m   \u001b[38;5;28;01mreturn\u001b[39;00m \u001b[38;5;28;43mself\u001b[39;49m\u001b[38;5;241;43m.\u001b[39;49m\u001b[43m_event_loop\u001b[49m\u001b[38;5;241;43m.\u001b[39;49m\u001b[43mrun_until_complete\u001b[49m\u001b[43m(\u001b[49m\n\u001b[1;32m     66\u001b[0m \u001b[43m      \u001b[49m\u001b[38;5;28;43mself\u001b[39;49m\u001b[38;5;241;43m.\u001b[39;49m\u001b[43m_async_context\u001b[49m\u001b[38;5;241;43m.\u001b[39;49m\u001b[43minvoke\u001b[49m\u001b[43m(\u001b[49m\u001b[43mcomp\u001b[49m\u001b[43m,\u001b[49m\u001b[43m \u001b[49m\u001b[43marg\u001b[49m\u001b[43m)\u001b[49m\u001b[43m)\u001b[49m\n",
      "File \u001b[0;32m/Library/Frameworks/Python.framework/Versions/3.8/lib/python3.8/site-packages/nest_asyncio.py:89\u001b[0m, in \u001b[0;36m_patch_loop.<locals>.run_until_complete\u001b[0;34m(self, future)\u001b[0m\n\u001b[1;32m     86\u001b[0m \u001b[38;5;28;01mif\u001b[39;00m \u001b[38;5;129;01mnot\u001b[39;00m f\u001b[38;5;241m.\u001b[39mdone():\n\u001b[1;32m     87\u001b[0m     \u001b[38;5;28;01mraise\u001b[39;00m \u001b[38;5;167;01mRuntimeError\u001b[39;00m(\n\u001b[1;32m     88\u001b[0m         \u001b[38;5;124m'\u001b[39m\u001b[38;5;124mEvent loop stopped before Future completed.\u001b[39m\u001b[38;5;124m'\u001b[39m)\n\u001b[0;32m---> 89\u001b[0m \u001b[38;5;28;01mreturn\u001b[39;00m \u001b[43mf\u001b[49m\u001b[38;5;241;43m.\u001b[39;49m\u001b[43mresult\u001b[49m\u001b[43m(\u001b[49m\u001b[43m)\u001b[49m\n",
      "File \u001b[0;32m/Library/Frameworks/Python.framework/Versions/3.8/lib/python3.8/asyncio/futures.py:178\u001b[0m, in \u001b[0;36mFuture.result\u001b[0;34m(self)\u001b[0m\n\u001b[1;32m    176\u001b[0m \u001b[38;5;28mself\u001b[39m\u001b[38;5;241m.\u001b[39m__log_traceback \u001b[38;5;241m=\u001b[39m \u001b[38;5;28;01mFalse\u001b[39;00m\n\u001b[1;32m    177\u001b[0m \u001b[38;5;28;01mif\u001b[39;00m \u001b[38;5;28mself\u001b[39m\u001b[38;5;241m.\u001b[39m_exception \u001b[38;5;129;01mis\u001b[39;00m \u001b[38;5;129;01mnot\u001b[39;00m \u001b[38;5;28;01mNone\u001b[39;00m:\n\u001b[0;32m--> 178\u001b[0m     \u001b[38;5;28;01mraise\u001b[39;00m \u001b[38;5;28mself\u001b[39m\u001b[38;5;241m.\u001b[39m_exception\n\u001b[1;32m    179\u001b[0m \u001b[38;5;28;01mreturn\u001b[39;00m \u001b[38;5;28mself\u001b[39m\u001b[38;5;241m.\u001b[39m_result\n",
      "File \u001b[0;32m/Library/Frameworks/Python.framework/Versions/3.8/lib/python3.8/asyncio/tasks.py:282\u001b[0m, in \u001b[0;36mTask.__step\u001b[0;34m(***failed resolving arguments***)\u001b[0m\n\u001b[1;32m    280\u001b[0m         result \u001b[38;5;241m=\u001b[39m coro\u001b[38;5;241m.\u001b[39msend(\u001b[38;5;28;01mNone\u001b[39;00m)\n\u001b[1;32m    281\u001b[0m     \u001b[38;5;28;01melse\u001b[39;00m:\n\u001b[0;32m--> 282\u001b[0m         result \u001b[38;5;241m=\u001b[39m \u001b[43mcoro\u001b[49m\u001b[38;5;241;43m.\u001b[39;49m\u001b[43mthrow\u001b[49m\u001b[43m(\u001b[49m\u001b[43mexc\u001b[49m\u001b[43m)\u001b[49m\n\u001b[1;32m    283\u001b[0m \u001b[38;5;28;01mexcept\u001b[39;00m \u001b[38;5;167;01mStopIteration\u001b[39;00m \u001b[38;5;28;01mas\u001b[39;00m exc:\n\u001b[1;32m    284\u001b[0m     \u001b[38;5;28;01mif\u001b[39;00m \u001b[38;5;28mself\u001b[39m\u001b[38;5;241m.\u001b[39m_must_cancel:\n\u001b[1;32m    285\u001b[0m         \u001b[38;5;66;03m# Task is cancelled right before coro stops.\u001b[39;00m\n",
      "File \u001b[0;32m/Library/Frameworks/Python.framework/Versions/3.8/lib/python3.8/site-packages/tensorflow_federated/python/common_libs/retrying.py:91\u001b[0m, in \u001b[0;36mretry.<locals>.retry_coro_fn\u001b[0;34m(*args, **kwargs)\u001b[0m\n\u001b[1;32m     89\u001b[0m \u001b[38;5;28;01mexcept\u001b[39;00m \u001b[38;5;167;01mException\u001b[39;00m \u001b[38;5;28;01mas\u001b[39;00m e:  \u001b[38;5;66;03m# pylint: disable=broad-except\u001b[39;00m\n\u001b[1;32m     90\u001b[0m   \u001b[38;5;28;01mif\u001b[39;00m \u001b[38;5;129;01mnot\u001b[39;00m retry_on_exception_filter(e):\n\u001b[0;32m---> 91\u001b[0m     \u001b[38;5;28;01mraise\u001b[39;00m e\n\u001b[1;32m     92\u001b[0m   retry_wait_ms \u001b[38;5;241m=\u001b[39m \u001b[38;5;28mmin\u001b[39m(wait_max_ms, retry_wait_ms \u001b[38;5;241m*\u001b[39m wait_multiplier)\n\u001b[1;32m     93\u001b[0m   \u001b[38;5;66;03m# asyncio.sleep takes arguments in seconds.\u001b[39;00m\n",
      "File \u001b[0;32m/Library/Frameworks/Python.framework/Versions/3.8/lib/python3.8/site-packages/tensorflow_federated/python/common_libs/retrying.py:88\u001b[0m, in \u001b[0;36mretry.<locals>.retry_coro_fn\u001b[0;34m(*args, **kwargs)\u001b[0m\n\u001b[1;32m     86\u001b[0m \u001b[38;5;28;01mwhile\u001b[39;00m \u001b[38;5;28;01mTrue\u001b[39;00m:\n\u001b[1;32m     87\u001b[0m   \u001b[38;5;28;01mtry\u001b[39;00m:\n\u001b[0;32m---> 88\u001b[0m     \u001b[38;5;28;01mreturn\u001b[39;00m \u001b[38;5;28;01mawait\u001b[39;00m fn(\u001b[38;5;241m*\u001b[39margs, \u001b[38;5;241m*\u001b[39m\u001b[38;5;241m*\u001b[39mkwargs)\n\u001b[1;32m     89\u001b[0m   \u001b[38;5;28;01mexcept\u001b[39;00m \u001b[38;5;167;01mException\u001b[39;00m \u001b[38;5;28;01mas\u001b[39;00m e:  \u001b[38;5;66;03m# pylint: disable=broad-except\u001b[39;00m\n\u001b[1;32m     90\u001b[0m     \u001b[38;5;28;01mif\u001b[39;00m \u001b[38;5;129;01mnot\u001b[39;00m retry_on_exception_filter(e):\n",
      "File \u001b[0;32m/Library/Frameworks/Python.framework/Versions/3.8/lib/python3.8/site-packages/tensorflow_federated/python/core/impl/execution_contexts/async_execution_context.py:297\u001b[0m, in \u001b[0;36mAsyncExecutionContext.invoke\u001b[0;34m(self, comp, arg)\u001b[0m\n\u001b[1;32m    294\u001b[0m py_typecheck\u001b[38;5;241m.\u001b[39mcheck_type(executor, executor_base\u001b[38;5;241m.\u001b[39mExecutor)\n\u001b[1;32m    296\u001b[0m \u001b[38;5;28;01mif\u001b[39;00m arg \u001b[38;5;129;01mis\u001b[39;00m \u001b[38;5;129;01mnot\u001b[39;00m \u001b[38;5;28;01mNone\u001b[39;00m:\n\u001b[0;32m--> 297\u001b[0m   arg \u001b[38;5;241m=\u001b[39m \u001b[38;5;28;01mawait\u001b[39;00m tracing\u001b[38;5;241m.\u001b[39mwrap_coroutine_in_current_trace_context(\n\u001b[1;32m    298\u001b[0m       _ingest(executor, unwrapped_arg, arg\u001b[38;5;241m.\u001b[39mtype_signature))\n\u001b[1;32m    300\u001b[0m \u001b[38;5;28;01mreturn\u001b[39;00m \u001b[38;5;28;01mawait\u001b[39;00m tracing\u001b[38;5;241m.\u001b[39mwrap_coroutine_in_current_trace_context(\n\u001b[1;32m    301\u001b[0m     _invoke(executor, comp, arg, result_type))\n",
      "File \u001b[0;32m/Library/Frameworks/Python.framework/Versions/3.8/lib/python3.8/site-packages/tensorflow_federated/python/common_libs/tracing.py:391\u001b[0m, in \u001b[0;36mwrap_coroutine_in_current_trace_context.<locals>._wrapped\u001b[0;34m()\u001b[0m\n\u001b[1;32m    389\u001b[0m \u001b[38;5;28;01masync\u001b[39;00m \u001b[38;5;28;01mdef\u001b[39;00m \u001b[38;5;21m_wrapped\u001b[39m():\n\u001b[1;32m    390\u001b[0m   \u001b[38;5;28;01mwith\u001b[39;00m _with_span_yields(trace_span_yields):\n\u001b[0;32m--> 391\u001b[0m     \u001b[38;5;28;01mreturn\u001b[39;00m \u001b[38;5;28;01mawait\u001b[39;00m coro\n",
      "File \u001b[0;32m/Library/Frameworks/Python.framework/Versions/3.8/lib/python3.8/site-packages/tensorflow_federated/python/core/impl/execution_contexts/async_execution_context.py:117\u001b[0m, in \u001b[0;36m_ingest\u001b[0;34m(executor, val, type_spec)\u001b[0m\n\u001b[1;32m    115\u001b[0m   \u001b[38;5;28;01mfor\u001b[39;00m (_, v), (_, t) \u001b[38;5;129;01min\u001b[39;00m \u001b[38;5;28mzip\u001b[39m(v_elem, t_elem):\n\u001b[1;32m    116\u001b[0m     ingested\u001b[38;5;241m.\u001b[39mappend(_ingest(executor, v, t))\n\u001b[0;32m--> 117\u001b[0m   ingested \u001b[38;5;241m=\u001b[39m \u001b[38;5;28;01mawait\u001b[39;00m asyncio\u001b[38;5;241m.\u001b[39mgather(\u001b[38;5;241m*\u001b[39mingested)\n\u001b[1;32m    118\u001b[0m   \u001b[38;5;28;01mreturn\u001b[39;00m \u001b[38;5;28;01mawait\u001b[39;00m executor\u001b[38;5;241m.\u001b[39mcreate_struct(\n\u001b[1;32m    119\u001b[0m       structure\u001b[38;5;241m.\u001b[39mStruct(\n\u001b[1;32m    120\u001b[0m           (name, val) \u001b[38;5;28;01mfor\u001b[39;00m (name, _), val \u001b[38;5;129;01min\u001b[39;00m \u001b[38;5;28mzip\u001b[39m(t_elem, ingested)))\n\u001b[1;32m    121\u001b[0m \u001b[38;5;28;01melse\u001b[39;00m:\n",
      "File \u001b[0;32m/Library/Frameworks/Python.framework/Versions/3.8/lib/python3.8/asyncio/tasks.py:349\u001b[0m, in \u001b[0;36mTask.__wakeup\u001b[0;34m(self, future)\u001b[0m\n\u001b[1;32m    347\u001b[0m \u001b[38;5;28;01mdef\u001b[39;00m \u001b[38;5;21m__wakeup\u001b[39m(\u001b[38;5;28mself\u001b[39m, future):\n\u001b[1;32m    348\u001b[0m     \u001b[38;5;28;01mtry\u001b[39;00m:\n\u001b[0;32m--> 349\u001b[0m         \u001b[43mfuture\u001b[49m\u001b[38;5;241;43m.\u001b[39;49m\u001b[43mresult\u001b[49m\u001b[43m(\u001b[49m\u001b[43m)\u001b[49m\n\u001b[1;32m    350\u001b[0m     \u001b[38;5;28;01mexcept\u001b[39;00m \u001b[38;5;167;01mBaseException\u001b[39;00m \u001b[38;5;28;01mas\u001b[39;00m exc:\n\u001b[1;32m    351\u001b[0m         \u001b[38;5;66;03m# This may also be a cancellation.\u001b[39;00m\n\u001b[1;32m    352\u001b[0m         \u001b[38;5;28mself\u001b[39m\u001b[38;5;241m.\u001b[39m__step(exc)\n",
      "File \u001b[0;32m/Library/Frameworks/Python.framework/Versions/3.8/lib/python3.8/asyncio/tasks.py:282\u001b[0m, in \u001b[0;36mTask.__step\u001b[0;34m(***failed resolving arguments***)\u001b[0m\n\u001b[1;32m    280\u001b[0m         result \u001b[38;5;241m=\u001b[39m coro\u001b[38;5;241m.\u001b[39msend(\u001b[38;5;28;01mNone\u001b[39;00m)\n\u001b[1;32m    281\u001b[0m     \u001b[38;5;28;01melse\u001b[39;00m:\n\u001b[0;32m--> 282\u001b[0m         result \u001b[38;5;241m=\u001b[39m \u001b[43mcoro\u001b[49m\u001b[38;5;241;43m.\u001b[39;49m\u001b[43mthrow\u001b[49m\u001b[43m(\u001b[49m\u001b[43mexc\u001b[49m\u001b[43m)\u001b[49m\n\u001b[1;32m    283\u001b[0m \u001b[38;5;28;01mexcept\u001b[39;00m \u001b[38;5;167;01mStopIteration\u001b[39;00m \u001b[38;5;28;01mas\u001b[39;00m exc:\n\u001b[1;32m    284\u001b[0m     \u001b[38;5;28;01mif\u001b[39;00m \u001b[38;5;28mself\u001b[39m\u001b[38;5;241m.\u001b[39m_must_cancel:\n\u001b[1;32m    285\u001b[0m         \u001b[38;5;66;03m# Task is cancelled right before coro stops.\u001b[39;00m\n",
      "File \u001b[0;32m/Library/Frameworks/Python.framework/Versions/3.8/lib/python3.8/site-packages/tensorflow_federated/python/core/impl/execution_contexts/async_execution_context.py:122\u001b[0m, in \u001b[0;36m_ingest\u001b[0;34m(executor, val, type_spec)\u001b[0m\n\u001b[1;32m    118\u001b[0m   \u001b[38;5;28;01mreturn\u001b[39;00m \u001b[38;5;28;01mawait\u001b[39;00m executor\u001b[38;5;241m.\u001b[39mcreate_struct(\n\u001b[1;32m    119\u001b[0m       structure\u001b[38;5;241m.\u001b[39mStruct(\n\u001b[1;32m    120\u001b[0m           (name, val) \u001b[38;5;28;01mfor\u001b[39;00m (name, _), val \u001b[38;5;129;01min\u001b[39;00m \u001b[38;5;28mzip\u001b[39m(t_elem, ingested)))\n\u001b[1;32m    121\u001b[0m \u001b[38;5;28;01melse\u001b[39;00m:\n\u001b[0;32m--> 122\u001b[0m   \u001b[38;5;28;01mreturn\u001b[39;00m \u001b[38;5;28;01mawait\u001b[39;00m executor\u001b[38;5;241m.\u001b[39mcreate_value(val, type_spec)\n",
      "File \u001b[0;32m/Library/Frameworks/Python.framework/Versions/3.8/lib/python3.8/site-packages/tensorflow_federated/python/common_libs/tracing.py:201\u001b[0m, in \u001b[0;36mtrace.<locals>.async_trace\u001b[0;34m(*fn_args, **fn_kwargs)\u001b[0m\n\u001b[1;32m    198\u001b[0m \u001b[38;5;66;03m# Run the underlying function, recording the resulting value or exception\u001b[39;00m\n\u001b[1;32m    199\u001b[0m \u001b[38;5;66;03m# and passing it back to the span generator\u001b[39;00m\n\u001b[1;32m    200\u001b[0m \u001b[38;5;28;01mtry\u001b[39;00m:\n\u001b[0;32m--> 201\u001b[0m   result \u001b[38;5;241m=\u001b[39m \u001b[38;5;28;01mawait\u001b[39;00m fn(\u001b[38;5;241m*\u001b[39mfn_args, \u001b[38;5;241m*\u001b[39m\u001b[38;5;241m*\u001b[39mfn_kwargs)\n\u001b[1;32m    202\u001b[0m   completed \u001b[38;5;241m=\u001b[39m \u001b[38;5;28;01mTrue\u001b[39;00m\n\u001b[1;32m    203\u001b[0m   \u001b[38;5;28;01mtry\u001b[39;00m:\n",
      "File \u001b[0;32m/Library/Frameworks/Python.framework/Versions/3.8/lib/python3.8/site-packages/tensorflow_federated/python/core/impl/executors/reference_resolving_executor.py:297\u001b[0m, in \u001b[0;36mReferenceResolvingExecutor.create_value\u001b[0;34m(self, value, type_spec)\u001b[0m\n\u001b[1;32m    294\u001b[0m   \u001b[38;5;28;01mreturn\u001b[39;00m ReferenceResolvingExecutorValue(\n\u001b[1;32m    295\u001b[0m       structure\u001b[38;5;241m.\u001b[39mStruct((name, val) \u001b[38;5;28;01mfor\u001b[39;00m (name, _), val \u001b[38;5;129;01min\u001b[39;00m \u001b[38;5;28mzip\u001b[39m(v_el, vals)))\n\u001b[1;32m    296\u001b[0m \u001b[38;5;28;01melse\u001b[39;00m:\n\u001b[0;32m--> 297\u001b[0m   \u001b[38;5;28;01mreturn\u001b[39;00m ReferenceResolvingExecutorValue(\u001b[38;5;28;01mawait\u001b[39;00m\n\u001b[1;32m    298\u001b[0m                                          \u001b[38;5;28mself\u001b[39m\u001b[38;5;241m.\u001b[39m_target_executor\u001b[38;5;241m.\u001b[39mcreate_value(\n\u001b[1;32m    299\u001b[0m                                              value, type_spec))\n",
      "File \u001b[0;32m/Library/Frameworks/Python.framework/Versions/3.8/lib/python3.8/site-packages/tensorflow_federated/python/common_libs/tracing.py:201\u001b[0m, in \u001b[0;36mtrace.<locals>.async_trace\u001b[0;34m(*fn_args, **fn_kwargs)\u001b[0m\n\u001b[1;32m    198\u001b[0m \u001b[38;5;66;03m# Run the underlying function, recording the resulting value or exception\u001b[39;00m\n\u001b[1;32m    199\u001b[0m \u001b[38;5;66;03m# and passing it back to the span generator\u001b[39;00m\n\u001b[1;32m    200\u001b[0m \u001b[38;5;28;01mtry\u001b[39;00m:\n\u001b[0;32m--> 201\u001b[0m   result \u001b[38;5;241m=\u001b[39m \u001b[38;5;28;01mawait\u001b[39;00m fn(\u001b[38;5;241m*\u001b[39mfn_args, \u001b[38;5;241m*\u001b[39m\u001b[38;5;241m*\u001b[39mfn_kwargs)\n\u001b[1;32m    202\u001b[0m   completed \u001b[38;5;241m=\u001b[39m \u001b[38;5;28;01mTrue\u001b[39;00m\n\u001b[1;32m    203\u001b[0m   \u001b[38;5;28;01mtry\u001b[39;00m:\n",
      "File \u001b[0;32m/Library/Frameworks/Python.framework/Versions/3.8/lib/python3.8/site-packages/tensorflow_federated/python/core/impl/executors/thread_delegating_executor.py:115\u001b[0m, in \u001b[0;36mThreadDelegatingExecutor.create_value\u001b[0;34m(self, value, type_spec)\u001b[0m\n\u001b[1;32m    113\u001b[0m \u001b[38;5;129m@tracing\u001b[39m\u001b[38;5;241m.\u001b[39mtrace\n\u001b[1;32m    114\u001b[0m \u001b[38;5;28;01masync\u001b[39;00m \u001b[38;5;28;01mdef\u001b[39;00m \u001b[38;5;21mcreate_value\u001b[39m(\u001b[38;5;28mself\u001b[39m, value, type_spec\u001b[38;5;241m=\u001b[39m\u001b[38;5;28;01mNone\u001b[39;00m) \u001b[38;5;241m-\u001b[39m\u001b[38;5;241m>\u001b[39m evb\u001b[38;5;241m.\u001b[39mExecutorValue:\n\u001b[0;32m--> 115\u001b[0m   \u001b[38;5;28;01mreturn\u001b[39;00m \u001b[38;5;28;01mawait\u001b[39;00m \u001b[38;5;28mself\u001b[39m\u001b[38;5;241m.\u001b[39m_delegate(\n\u001b[1;32m    116\u001b[0m       \u001b[38;5;28mself\u001b[39m\u001b[38;5;241m.\u001b[39m_target_executor\u001b[38;5;241m.\u001b[39mcreate_value(value, type_spec))\n",
      "File \u001b[0;32m/Library/Frameworks/Python.framework/Versions/3.8/lib/python3.8/site-packages/tensorflow_federated/python/core/impl/executors/thread_delegating_executor.py:110\u001b[0m, in \u001b[0;36mThreadDelegatingExecutor._delegate\u001b[0;34m(self, coro)\u001b[0m\n\u001b[1;32m    108\u001b[0m \u001b[38;5;28;01masync\u001b[39;00m \u001b[38;5;28;01mdef\u001b[39;00m \u001b[38;5;21m_delegate\u001b[39m(\u001b[38;5;28mself\u001b[39m, coro):\n\u001b[1;32m    109\u001b[0m   \u001b[38;5;124;03m\"\"\"Runs a coroutine which returns an executor value on the event loop.\"\"\"\u001b[39;00m\n\u001b[0;32m--> 110\u001b[0m   result_value \u001b[38;5;241m=\u001b[39m \u001b[38;5;28;01mawait\u001b[39;00m _delegate_with_trace_ctx(coro, \u001b[38;5;28mself\u001b[39m\u001b[38;5;241m.\u001b[39m_event_loop)\n\u001b[1;32m    111\u001b[0m   \u001b[38;5;28;01mreturn\u001b[39;00m ThreadDelegatingExecutorValue(result_value, \u001b[38;5;28mself\u001b[39m\u001b[38;5;241m.\u001b[39m_event_loop)\n",
      "File \u001b[0;32m/Library/Frameworks/Python.framework/Versions/3.8/lib/python3.8/asyncio/futures.py:260\u001b[0m, in \u001b[0;36mFuture.__await__\u001b[0;34m(self)\u001b[0m\n\u001b[1;32m    258\u001b[0m \u001b[38;5;28;01mif\u001b[39;00m \u001b[38;5;129;01mnot\u001b[39;00m \u001b[38;5;28mself\u001b[39m\u001b[38;5;241m.\u001b[39mdone():\n\u001b[1;32m    259\u001b[0m     \u001b[38;5;28mself\u001b[39m\u001b[38;5;241m.\u001b[39m_asyncio_future_blocking \u001b[38;5;241m=\u001b[39m \u001b[38;5;28;01mTrue\u001b[39;00m\n\u001b[0;32m--> 260\u001b[0m     \u001b[38;5;28;01myield\u001b[39;00m \u001b[38;5;28mself\u001b[39m  \u001b[38;5;66;03m# This tells Task to wait for completion.\u001b[39;00m\n\u001b[1;32m    261\u001b[0m \u001b[38;5;28;01mif\u001b[39;00m \u001b[38;5;129;01mnot\u001b[39;00m \u001b[38;5;28mself\u001b[39m\u001b[38;5;241m.\u001b[39mdone():\n\u001b[1;32m    262\u001b[0m     \u001b[38;5;28;01mraise\u001b[39;00m \u001b[38;5;167;01mRuntimeError\u001b[39;00m(\u001b[38;5;124m\"\u001b[39m\u001b[38;5;124mawait wasn\u001b[39m\u001b[38;5;124m'\u001b[39m\u001b[38;5;124mt used with future\u001b[39m\u001b[38;5;124m\"\u001b[39m)\n",
      "File \u001b[0;32m/Library/Frameworks/Python.framework/Versions/3.8/lib/python3.8/asyncio/tasks.py:349\u001b[0m, in \u001b[0;36mTask.__wakeup\u001b[0;34m(self, future)\u001b[0m\n\u001b[1;32m    347\u001b[0m \u001b[38;5;28;01mdef\u001b[39;00m \u001b[38;5;21m__wakeup\u001b[39m(\u001b[38;5;28mself\u001b[39m, future):\n\u001b[1;32m    348\u001b[0m     \u001b[38;5;28;01mtry\u001b[39;00m:\n\u001b[0;32m--> 349\u001b[0m         \u001b[43mfuture\u001b[49m\u001b[38;5;241;43m.\u001b[39;49m\u001b[43mresult\u001b[49m\u001b[43m(\u001b[49m\u001b[43m)\u001b[49m\n\u001b[1;32m    350\u001b[0m     \u001b[38;5;28;01mexcept\u001b[39;00m \u001b[38;5;167;01mBaseException\u001b[39;00m \u001b[38;5;28;01mas\u001b[39;00m exc:\n\u001b[1;32m    351\u001b[0m         \u001b[38;5;66;03m# This may also be a cancellation.\u001b[39;00m\n\u001b[1;32m    352\u001b[0m         \u001b[38;5;28mself\u001b[39m\u001b[38;5;241m.\u001b[39m__step(exc)\n",
      "File \u001b[0;32m/Library/Frameworks/Python.framework/Versions/3.8/lib/python3.8/asyncio/futures.py:178\u001b[0m, in \u001b[0;36mFuture.result\u001b[0;34m(self)\u001b[0m\n\u001b[1;32m    176\u001b[0m \u001b[38;5;28mself\u001b[39m\u001b[38;5;241m.\u001b[39m__log_traceback \u001b[38;5;241m=\u001b[39m \u001b[38;5;28;01mFalse\u001b[39;00m\n\u001b[1;32m    177\u001b[0m \u001b[38;5;28;01mif\u001b[39;00m \u001b[38;5;28mself\u001b[39m\u001b[38;5;241m.\u001b[39m_exception \u001b[38;5;129;01mis\u001b[39;00m \u001b[38;5;129;01mnot\u001b[39;00m \u001b[38;5;28;01mNone\u001b[39;00m:\n\u001b[0;32m--> 178\u001b[0m     \u001b[38;5;28;01mraise\u001b[39;00m \u001b[38;5;28mself\u001b[39m\u001b[38;5;241m.\u001b[39m_exception\n\u001b[1;32m    179\u001b[0m \u001b[38;5;28;01mreturn\u001b[39;00m \u001b[38;5;28mself\u001b[39m\u001b[38;5;241m.\u001b[39m_result\n",
      "File \u001b[0;32m/Library/Frameworks/Python.framework/Versions/3.8/lib/python3.8/asyncio/tasks.py:282\u001b[0m, in \u001b[0;36mTask.__step\u001b[0;34m(***failed resolving arguments***)\u001b[0m\n\u001b[1;32m    280\u001b[0m         result \u001b[38;5;241m=\u001b[39m coro\u001b[38;5;241m.\u001b[39msend(\u001b[38;5;28;01mNone\u001b[39;00m)\n\u001b[1;32m    281\u001b[0m     \u001b[38;5;28;01melse\u001b[39;00m:\n\u001b[0;32m--> 282\u001b[0m         result \u001b[38;5;241m=\u001b[39m \u001b[43mcoro\u001b[49m\u001b[38;5;241;43m.\u001b[39;49m\u001b[43mthrow\u001b[49m\u001b[43m(\u001b[49m\u001b[43mexc\u001b[49m\u001b[43m)\u001b[49m\n\u001b[1;32m    283\u001b[0m \u001b[38;5;28;01mexcept\u001b[39;00m \u001b[38;5;167;01mStopIteration\u001b[39;00m \u001b[38;5;28;01mas\u001b[39;00m exc:\n\u001b[1;32m    284\u001b[0m     \u001b[38;5;28;01mif\u001b[39;00m \u001b[38;5;28mself\u001b[39m\u001b[38;5;241m.\u001b[39m_must_cancel:\n\u001b[1;32m    285\u001b[0m         \u001b[38;5;66;03m# Task is cancelled right before coro stops.\u001b[39;00m\n",
      "File \u001b[0;32m/Library/Frameworks/Python.framework/Versions/3.8/lib/python3.8/site-packages/tensorflow_federated/python/common_libs/tracing.py:391\u001b[0m, in \u001b[0;36mwrap_coroutine_in_current_trace_context.<locals>._wrapped\u001b[0;34m()\u001b[0m\n\u001b[1;32m    389\u001b[0m \u001b[38;5;28;01masync\u001b[39;00m \u001b[38;5;28;01mdef\u001b[39;00m \u001b[38;5;21m_wrapped\u001b[39m():\n\u001b[1;32m    390\u001b[0m   \u001b[38;5;28;01mwith\u001b[39;00m _with_span_yields(trace_span_yields):\n\u001b[0;32m--> 391\u001b[0m     \u001b[38;5;28;01mreturn\u001b[39;00m \u001b[38;5;28;01mawait\u001b[39;00m coro\n",
      "File \u001b[0;32m/Library/Frameworks/Python.framework/Versions/3.8/lib/python3.8/site-packages/tensorflow_federated/python/common_libs/tracing.py:201\u001b[0m, in \u001b[0;36mtrace.<locals>.async_trace\u001b[0;34m(*fn_args, **fn_kwargs)\u001b[0m\n\u001b[1;32m    198\u001b[0m \u001b[38;5;66;03m# Run the underlying function, recording the resulting value or exception\u001b[39;00m\n\u001b[1;32m    199\u001b[0m \u001b[38;5;66;03m# and passing it back to the span generator\u001b[39;00m\n\u001b[1;32m    200\u001b[0m \u001b[38;5;28;01mtry\u001b[39;00m:\n\u001b[0;32m--> 201\u001b[0m   result \u001b[38;5;241m=\u001b[39m \u001b[38;5;28;01mawait\u001b[39;00m fn(\u001b[38;5;241m*\u001b[39mfn_args, \u001b[38;5;241m*\u001b[39m\u001b[38;5;241m*\u001b[39mfn_kwargs)\n\u001b[1;32m    202\u001b[0m   completed \u001b[38;5;241m=\u001b[39m \u001b[38;5;28;01mTrue\u001b[39;00m\n\u001b[1;32m    203\u001b[0m   \u001b[38;5;28;01mtry\u001b[39;00m:\n",
      "File \u001b[0;32m/Library/Frameworks/Python.framework/Versions/3.8/lib/python3.8/site-packages/tensorflow_federated/python/core/impl/executors/federating_executor.py:392\u001b[0m, in \u001b[0;36mFederatingExecutor.create_value\u001b[0;34m(self, value, type_spec)\u001b[0m\n\u001b[1;32m    388\u001b[0m     \u001b[38;5;28;01mraise\u001b[39;00m \u001b[38;5;167;01mValueError\u001b[39;00m(\n\u001b[1;32m    389\u001b[0m         \u001b[38;5;124m'\u001b[39m\u001b[38;5;124mUnsupported computation building block of type \u001b[39m\u001b[38;5;124m\"\u001b[39m\u001b[38;5;132;01m{}\u001b[39;00m\u001b[38;5;124m\"\u001b[39m\u001b[38;5;124m.\u001b[39m\u001b[38;5;124m'\u001b[39m\u001b[38;5;241m.\u001b[39mformat(\n\u001b[1;32m    390\u001b[0m             which_computation))\n\u001b[1;32m    391\u001b[0m \u001b[38;5;28;01melif\u001b[39;00m type_spec \u001b[38;5;129;01mis\u001b[39;00m \u001b[38;5;129;01mnot\u001b[39;00m \u001b[38;5;28;01mNone\u001b[39;00m \u001b[38;5;129;01mand\u001b[39;00m type_spec\u001b[38;5;241m.\u001b[39mis_federated():\n\u001b[0;32m--> 392\u001b[0m   \u001b[38;5;28;01mreturn\u001b[39;00m \u001b[38;5;28;01mawait\u001b[39;00m \u001b[38;5;28mself\u001b[39m\u001b[38;5;241m.\u001b[39m_strategy\u001b[38;5;241m.\u001b[39mcompute_federated_value(value, type_spec)\n\u001b[1;32m    393\u001b[0m \u001b[38;5;28;01melse\u001b[39;00m:\n\u001b[1;32m    394\u001b[0m   result \u001b[38;5;241m=\u001b[39m \u001b[38;5;28;01mawait\u001b[39;00m \u001b[38;5;28mself\u001b[39m\u001b[38;5;241m.\u001b[39m_unplaced_executor\u001b[38;5;241m.\u001b[39mcreate_value(value, type_spec)\n",
      "File \u001b[0;32m/Library/Frameworks/Python.framework/Versions/3.8/lib/python3.8/site-packages/tensorflow_federated/python/core/impl/executors/federated_resolving_strategy.py:287\u001b[0m, in \u001b[0;36mFederatedResolvingStrategy.compute_federated_value\u001b[0;34m(self, value, type_signature)\u001b[0m\n\u001b[1;32m    285\u001b[0m \u001b[38;5;28;01mif\u001b[39;00m type_signature\u001b[38;5;241m.\u001b[39mall_equal:\n\u001b[1;32m    286\u001b[0m   value \u001b[38;5;241m=\u001b[39m [value \u001b[38;5;28;01mfor\u001b[39;00m _ \u001b[38;5;129;01min\u001b[39;00m children]\n\u001b[0;32m--> 287\u001b[0m result \u001b[38;5;241m=\u001b[39m \u001b[38;5;28;01mawait\u001b[39;00m asyncio\u001b[38;5;241m.\u001b[39mgather(\u001b[38;5;241m*\u001b[39m[\n\u001b[1;32m    288\u001b[0m     c\u001b[38;5;241m.\u001b[39mcreate_value(v, type_signature\u001b[38;5;241m.\u001b[39mmember)\n\u001b[1;32m    289\u001b[0m     \u001b[38;5;28;01mfor\u001b[39;00m v, c \u001b[38;5;129;01min\u001b[39;00m \u001b[38;5;28mzip\u001b[39m(value, children)\n\u001b[1;32m    290\u001b[0m ])\n\u001b[1;32m    291\u001b[0m \u001b[38;5;28;01mreturn\u001b[39;00m FederatedResolvingStrategyValue(result, type_signature)\n",
      "File \u001b[0;32m/Library/Frameworks/Python.framework/Versions/3.8/lib/python3.8/asyncio/tasks.py:349\u001b[0m, in \u001b[0;36mTask.__wakeup\u001b[0;34m(self, future)\u001b[0m\n\u001b[1;32m    347\u001b[0m \u001b[38;5;28;01mdef\u001b[39;00m \u001b[38;5;21m__wakeup\u001b[39m(\u001b[38;5;28mself\u001b[39m, future):\n\u001b[1;32m    348\u001b[0m     \u001b[38;5;28;01mtry\u001b[39;00m:\n\u001b[0;32m--> 349\u001b[0m         \u001b[43mfuture\u001b[49m\u001b[38;5;241;43m.\u001b[39;49m\u001b[43mresult\u001b[49m\u001b[43m(\u001b[49m\u001b[43m)\u001b[49m\n\u001b[1;32m    350\u001b[0m     \u001b[38;5;28;01mexcept\u001b[39;00m \u001b[38;5;167;01mBaseException\u001b[39;00m \u001b[38;5;28;01mas\u001b[39;00m exc:\n\u001b[1;32m    351\u001b[0m         \u001b[38;5;66;03m# This may also be a cancellation.\u001b[39;00m\n\u001b[1;32m    352\u001b[0m         \u001b[38;5;28mself\u001b[39m\u001b[38;5;241m.\u001b[39m__step(exc)\n",
      "File \u001b[0;32m/Library/Frameworks/Python.framework/Versions/3.8/lib/python3.8/asyncio/tasks.py:282\u001b[0m, in \u001b[0;36mTask.__step\u001b[0;34m(***failed resolving arguments***)\u001b[0m\n\u001b[1;32m    280\u001b[0m         result \u001b[38;5;241m=\u001b[39m coro\u001b[38;5;241m.\u001b[39msend(\u001b[38;5;28;01mNone\u001b[39;00m)\n\u001b[1;32m    281\u001b[0m     \u001b[38;5;28;01melse\u001b[39;00m:\n\u001b[0;32m--> 282\u001b[0m         result \u001b[38;5;241m=\u001b[39m \u001b[43mcoro\u001b[49m\u001b[38;5;241;43m.\u001b[39;49m\u001b[43mthrow\u001b[49m\u001b[43m(\u001b[49m\u001b[43mexc\u001b[49m\u001b[43m)\u001b[49m\n\u001b[1;32m    283\u001b[0m \u001b[38;5;28;01mexcept\u001b[39;00m \u001b[38;5;167;01mStopIteration\u001b[39;00m \u001b[38;5;28;01mas\u001b[39;00m exc:\n\u001b[1;32m    284\u001b[0m     \u001b[38;5;28;01mif\u001b[39;00m \u001b[38;5;28mself\u001b[39m\u001b[38;5;241m.\u001b[39m_must_cancel:\n\u001b[1;32m    285\u001b[0m         \u001b[38;5;66;03m# Task is cancelled right before coro stops.\u001b[39;00m\n",
      "File \u001b[0;32m/Library/Frameworks/Python.framework/Versions/3.8/lib/python3.8/site-packages/tensorflow_federated/python/common_libs/tracing.py:201\u001b[0m, in \u001b[0;36mtrace.<locals>.async_trace\u001b[0;34m(*fn_args, **fn_kwargs)\u001b[0m\n\u001b[1;32m    198\u001b[0m \u001b[38;5;66;03m# Run the underlying function, recording the resulting value or exception\u001b[39;00m\n\u001b[1;32m    199\u001b[0m \u001b[38;5;66;03m# and passing it back to the span generator\u001b[39;00m\n\u001b[1;32m    200\u001b[0m \u001b[38;5;28;01mtry\u001b[39;00m:\n\u001b[0;32m--> 201\u001b[0m   result \u001b[38;5;241m=\u001b[39m \u001b[38;5;28;01mawait\u001b[39;00m fn(\u001b[38;5;241m*\u001b[39mfn_args, \u001b[38;5;241m*\u001b[39m\u001b[38;5;241m*\u001b[39mfn_kwargs)\n\u001b[1;32m    202\u001b[0m   completed \u001b[38;5;241m=\u001b[39m \u001b[38;5;28;01mTrue\u001b[39;00m\n\u001b[1;32m    203\u001b[0m   \u001b[38;5;28;01mtry\u001b[39;00m:\n",
      "File \u001b[0;32m/Library/Frameworks/Python.framework/Versions/3.8/lib/python3.8/site-packages/tensorflow_federated/python/core/impl/executors/thread_delegating_executor.py:115\u001b[0m, in \u001b[0;36mThreadDelegatingExecutor.create_value\u001b[0;34m(self, value, type_spec)\u001b[0m\n\u001b[1;32m    113\u001b[0m \u001b[38;5;129m@tracing\u001b[39m\u001b[38;5;241m.\u001b[39mtrace\n\u001b[1;32m    114\u001b[0m \u001b[38;5;28;01masync\u001b[39;00m \u001b[38;5;28;01mdef\u001b[39;00m \u001b[38;5;21mcreate_value\u001b[39m(\u001b[38;5;28mself\u001b[39m, value, type_spec\u001b[38;5;241m=\u001b[39m\u001b[38;5;28;01mNone\u001b[39;00m) \u001b[38;5;241m-\u001b[39m\u001b[38;5;241m>\u001b[39m evb\u001b[38;5;241m.\u001b[39mExecutorValue:\n\u001b[0;32m--> 115\u001b[0m   \u001b[38;5;28;01mreturn\u001b[39;00m \u001b[38;5;28;01mawait\u001b[39;00m \u001b[38;5;28mself\u001b[39m\u001b[38;5;241m.\u001b[39m_delegate(\n\u001b[1;32m    116\u001b[0m       \u001b[38;5;28mself\u001b[39m\u001b[38;5;241m.\u001b[39m_target_executor\u001b[38;5;241m.\u001b[39mcreate_value(value, type_spec))\n",
      "File \u001b[0;32m/Library/Frameworks/Python.framework/Versions/3.8/lib/python3.8/site-packages/tensorflow_federated/python/core/impl/executors/thread_delegating_executor.py:110\u001b[0m, in \u001b[0;36mThreadDelegatingExecutor._delegate\u001b[0;34m(self, coro)\u001b[0m\n\u001b[1;32m    108\u001b[0m \u001b[38;5;28;01masync\u001b[39;00m \u001b[38;5;28;01mdef\u001b[39;00m \u001b[38;5;21m_delegate\u001b[39m(\u001b[38;5;28mself\u001b[39m, coro):\n\u001b[1;32m    109\u001b[0m   \u001b[38;5;124;03m\"\"\"Runs a coroutine which returns an executor value on the event loop.\"\"\"\u001b[39;00m\n\u001b[0;32m--> 110\u001b[0m   result_value \u001b[38;5;241m=\u001b[39m \u001b[38;5;28;01mawait\u001b[39;00m _delegate_with_trace_ctx(coro, \u001b[38;5;28mself\u001b[39m\u001b[38;5;241m.\u001b[39m_event_loop)\n\u001b[1;32m    111\u001b[0m   \u001b[38;5;28;01mreturn\u001b[39;00m ThreadDelegatingExecutorValue(result_value, \u001b[38;5;28mself\u001b[39m\u001b[38;5;241m.\u001b[39m_event_loop)\n",
      "File \u001b[0;32m/Library/Frameworks/Python.framework/Versions/3.8/lib/python3.8/asyncio/futures.py:260\u001b[0m, in \u001b[0;36mFuture.__await__\u001b[0;34m(self)\u001b[0m\n\u001b[1;32m    258\u001b[0m \u001b[38;5;28;01mif\u001b[39;00m \u001b[38;5;129;01mnot\u001b[39;00m \u001b[38;5;28mself\u001b[39m\u001b[38;5;241m.\u001b[39mdone():\n\u001b[1;32m    259\u001b[0m     \u001b[38;5;28mself\u001b[39m\u001b[38;5;241m.\u001b[39m_asyncio_future_blocking \u001b[38;5;241m=\u001b[39m \u001b[38;5;28;01mTrue\u001b[39;00m\n\u001b[0;32m--> 260\u001b[0m     \u001b[38;5;28;01myield\u001b[39;00m \u001b[38;5;28mself\u001b[39m  \u001b[38;5;66;03m# This tells Task to wait for completion.\u001b[39;00m\n\u001b[1;32m    261\u001b[0m \u001b[38;5;28;01mif\u001b[39;00m \u001b[38;5;129;01mnot\u001b[39;00m \u001b[38;5;28mself\u001b[39m\u001b[38;5;241m.\u001b[39mdone():\n\u001b[1;32m    262\u001b[0m     \u001b[38;5;28;01mraise\u001b[39;00m \u001b[38;5;167;01mRuntimeError\u001b[39;00m(\u001b[38;5;124m\"\u001b[39m\u001b[38;5;124mawait wasn\u001b[39m\u001b[38;5;124m'\u001b[39m\u001b[38;5;124mt used with future\u001b[39m\u001b[38;5;124m\"\u001b[39m)\n",
      "File \u001b[0;32m/Library/Frameworks/Python.framework/Versions/3.8/lib/python3.8/asyncio/tasks.py:349\u001b[0m, in \u001b[0;36mTask.__wakeup\u001b[0;34m(self, future)\u001b[0m\n\u001b[1;32m    347\u001b[0m \u001b[38;5;28;01mdef\u001b[39;00m \u001b[38;5;21m__wakeup\u001b[39m(\u001b[38;5;28mself\u001b[39m, future):\n\u001b[1;32m    348\u001b[0m     \u001b[38;5;28;01mtry\u001b[39;00m:\n\u001b[0;32m--> 349\u001b[0m         \u001b[43mfuture\u001b[49m\u001b[38;5;241;43m.\u001b[39;49m\u001b[43mresult\u001b[49m\u001b[43m(\u001b[49m\u001b[43m)\u001b[49m\n\u001b[1;32m    350\u001b[0m     \u001b[38;5;28;01mexcept\u001b[39;00m \u001b[38;5;167;01mBaseException\u001b[39;00m \u001b[38;5;28;01mas\u001b[39;00m exc:\n\u001b[1;32m    351\u001b[0m         \u001b[38;5;66;03m# This may also be a cancellation.\u001b[39;00m\n\u001b[1;32m    352\u001b[0m         \u001b[38;5;28mself\u001b[39m\u001b[38;5;241m.\u001b[39m__step(exc)\n",
      "File \u001b[0;32m/Library/Frameworks/Python.framework/Versions/3.8/lib/python3.8/asyncio/futures.py:178\u001b[0m, in \u001b[0;36mFuture.result\u001b[0;34m(self)\u001b[0m\n\u001b[1;32m    176\u001b[0m \u001b[38;5;28mself\u001b[39m\u001b[38;5;241m.\u001b[39m__log_traceback \u001b[38;5;241m=\u001b[39m \u001b[38;5;28;01mFalse\u001b[39;00m\n\u001b[1;32m    177\u001b[0m \u001b[38;5;28;01mif\u001b[39;00m \u001b[38;5;28mself\u001b[39m\u001b[38;5;241m.\u001b[39m_exception \u001b[38;5;129;01mis\u001b[39;00m \u001b[38;5;129;01mnot\u001b[39;00m \u001b[38;5;28;01mNone\u001b[39;00m:\n\u001b[0;32m--> 178\u001b[0m     \u001b[38;5;28;01mraise\u001b[39;00m \u001b[38;5;28mself\u001b[39m\u001b[38;5;241m.\u001b[39m_exception\n\u001b[1;32m    179\u001b[0m \u001b[38;5;28;01mreturn\u001b[39;00m \u001b[38;5;28mself\u001b[39m\u001b[38;5;241m.\u001b[39m_result\n",
      "File \u001b[0;32m/Library/Frameworks/Python.framework/Versions/3.8/lib/python3.8/asyncio/tasks.py:280\u001b[0m, in \u001b[0;36mTask.__step\u001b[0;34m(***failed resolving arguments***)\u001b[0m\n\u001b[1;32m    276\u001b[0m \u001b[38;5;28;01mtry\u001b[39;00m:\n\u001b[1;32m    277\u001b[0m     \u001b[38;5;28;01mif\u001b[39;00m exc \u001b[38;5;129;01mis\u001b[39;00m \u001b[38;5;28;01mNone\u001b[39;00m:\n\u001b[1;32m    278\u001b[0m         \u001b[38;5;66;03m# We use the `send` method directly, because coroutines\u001b[39;00m\n\u001b[1;32m    279\u001b[0m         \u001b[38;5;66;03m# don't have `__iter__` and `__next__` methods.\u001b[39;00m\n\u001b[0;32m--> 280\u001b[0m         result \u001b[38;5;241m=\u001b[39m \u001b[43mcoro\u001b[49m\u001b[38;5;241;43m.\u001b[39;49m\u001b[43msend\u001b[49m\u001b[43m(\u001b[49m\u001b[38;5;28;43;01mNone\u001b[39;49;00m\u001b[43m)\u001b[49m\n\u001b[1;32m    281\u001b[0m     \u001b[38;5;28;01melse\u001b[39;00m:\n\u001b[1;32m    282\u001b[0m         result \u001b[38;5;241m=\u001b[39m coro\u001b[38;5;241m.\u001b[39mthrow(exc)\n",
      "File \u001b[0;32m/Library/Frameworks/Python.framework/Versions/3.8/lib/python3.8/site-packages/tensorflow_federated/python/common_libs/tracing.py:391\u001b[0m, in \u001b[0;36mwrap_coroutine_in_current_trace_context.<locals>._wrapped\u001b[0;34m()\u001b[0m\n\u001b[1;32m    389\u001b[0m \u001b[38;5;28;01masync\u001b[39;00m \u001b[38;5;28;01mdef\u001b[39;00m \u001b[38;5;21m_wrapped\u001b[39m():\n\u001b[1;32m    390\u001b[0m   \u001b[38;5;28;01mwith\u001b[39;00m _with_span_yields(trace_span_yields):\n\u001b[0;32m--> 391\u001b[0m     \u001b[38;5;28;01mreturn\u001b[39;00m \u001b[38;5;28;01mawait\u001b[39;00m coro\n",
      "File \u001b[0;32m/Library/Frameworks/Python.framework/Versions/3.8/lib/python3.8/site-packages/tensorflow_federated/python/common_libs/tracing.py:201\u001b[0m, in \u001b[0;36mtrace.<locals>.async_trace\u001b[0;34m(*fn_args, **fn_kwargs)\u001b[0m\n\u001b[1;32m    198\u001b[0m \u001b[38;5;66;03m# Run the underlying function, recording the resulting value or exception\u001b[39;00m\n\u001b[1;32m    199\u001b[0m \u001b[38;5;66;03m# and passing it back to the span generator\u001b[39;00m\n\u001b[1;32m    200\u001b[0m \u001b[38;5;28;01mtry\u001b[39;00m:\n\u001b[0;32m--> 201\u001b[0m   result \u001b[38;5;241m=\u001b[39m \u001b[38;5;28;01mawait\u001b[39;00m fn(\u001b[38;5;241m*\u001b[39mfn_args, \u001b[38;5;241m*\u001b[39m\u001b[38;5;241m*\u001b[39mfn_kwargs)\n\u001b[1;32m    202\u001b[0m   completed \u001b[38;5;241m=\u001b[39m \u001b[38;5;28;01mTrue\u001b[39;00m\n\u001b[1;32m    203\u001b[0m   \u001b[38;5;28;01mtry\u001b[39;00m:\n",
      "File \u001b[0;32m/Library/Frameworks/Python.framework/Versions/3.8/lib/python3.8/site-packages/tensorflow_federated/python/core/impl/executors/eager_tf_executor.py:683\u001b[0m, in \u001b[0;36mEagerTFExecutor.create_value\u001b[0;34m(self, value, type_spec)\u001b[0m\n\u001b[1;32m    681\u001b[0m   type_spec \u001b[38;5;241m=\u001b[39m computation_types\u001b[38;5;241m.\u001b[39mto_type(type_spec)\n\u001b[1;32m    682\u001b[0m   py_typecheck\u001b[38;5;241m.\u001b[39mcheck_type(type_spec, computation_types\u001b[38;5;241m.\u001b[39mType)\n\u001b[0;32m--> 683\u001b[0m normalized_value \u001b[38;5;241m=\u001b[39m \u001b[43mto_representation_for_type\u001b[49m\u001b[43m(\u001b[49m\u001b[43mvalue\u001b[49m\u001b[43m,\u001b[49m\n\u001b[1;32m    684\u001b[0m \u001b[43m                                              \u001b[49m\u001b[38;5;28;43mself\u001b[39;49m\u001b[38;5;241;43m.\u001b[39;49m\u001b[43m_tf_function_cache\u001b[49m\u001b[43m,\u001b[49m\n\u001b[1;32m    685\u001b[0m \u001b[43m                                              \u001b[49m\u001b[43mtype_spec\u001b[49m\u001b[43m,\u001b[49m\u001b[43m \u001b[49m\u001b[38;5;28;43mself\u001b[39;49m\u001b[38;5;241;43m.\u001b[39;49m\u001b[43m_device\u001b[49m\u001b[43m)\u001b[49m\n\u001b[1;32m    686\u001b[0m \u001b[38;5;28;01mreturn\u001b[39;00m EagerValue(normalized_value, type_spec)\n",
      "File \u001b[0;32m/Library/Frameworks/Python.framework/Versions/3.8/lib/python3.8/site-packages/tensorflow_federated/python/common_libs/tracing.py:228\u001b[0m, in \u001b[0;36mtrace.<locals>.sync_trace\u001b[0;34m(*fn_args, **fn_kwargs)\u001b[0m\n\u001b[1;32m    226\u001b[0m completed \u001b[38;5;241m=\u001b[39m \u001b[38;5;28;01mFalse\u001b[39;00m\n\u001b[1;32m    227\u001b[0m \u001b[38;5;28;01mtry\u001b[39;00m:\n\u001b[0;32m--> 228\u001b[0m   result \u001b[38;5;241m=\u001b[39m \u001b[43mfn\u001b[49m\u001b[43m(\u001b[49m\u001b[38;5;241;43m*\u001b[39;49m\u001b[43mfn_args\u001b[49m\u001b[43m,\u001b[49m\u001b[43m \u001b[49m\u001b[38;5;241;43m*\u001b[39;49m\u001b[38;5;241;43m*\u001b[39;49m\u001b[43mfn_kwargs\u001b[49m\u001b[43m)\u001b[49m\n\u001b[1;32m    229\u001b[0m   completed \u001b[38;5;241m=\u001b[39m \u001b[38;5;28;01mTrue\u001b[39;00m\n\u001b[1;32m    230\u001b[0m   \u001b[38;5;28;01mtry\u001b[39;00m:\n",
      "File \u001b[0;32m/Library/Frameworks/Python.framework/Versions/3.8/lib/python3.8/site-packages/tensorflow_federated/python/core/impl/executors/eager_tf_executor.py:543\u001b[0m, in \u001b[0;36mto_representation_for_type\u001b[0;34m(value, tf_function_cache, type_spec, device)\u001b[0m\n\u001b[1;32m    541\u001b[0m   \u001b[38;5;28;01mreturn\u001b[39;00m _to_tensor_internal_rep(value\u001b[38;5;241m=\u001b[39mvalue, type_spec\u001b[38;5;241m=\u001b[39mtype_spec)\n\u001b[1;32m    542\u001b[0m \u001b[38;5;28;01melif\u001b[39;00m type_spec\u001b[38;5;241m.\u001b[39mis_sequence():\n\u001b[0;32m--> 543\u001b[0m   \u001b[38;5;28;01mreturn\u001b[39;00m \u001b[43m_to_sequence_internal_rep\u001b[49m\u001b[43m(\u001b[49m\u001b[43mvalue\u001b[49m\u001b[38;5;241;43m=\u001b[39;49m\u001b[43mvalue\u001b[49m\u001b[43m,\u001b[49m\u001b[43m \u001b[49m\u001b[43mtype_spec\u001b[49m\u001b[38;5;241;43m=\u001b[39;49m\u001b[43mtype_spec\u001b[49m\u001b[43m)\u001b[49m\n\u001b[1;32m    544\u001b[0m \u001b[38;5;28;01melse\u001b[39;00m:\n\u001b[1;32m    545\u001b[0m   \u001b[38;5;28;01mraise\u001b[39;00m \u001b[38;5;167;01mTypeError\u001b[39;00m(\n\u001b[1;32m    546\u001b[0m       \u001b[38;5;124mf\u001b[39m\u001b[38;5;124m'\u001b[39m\u001b[38;5;124mUnexpected type \u001b[39m\u001b[38;5;132;01m{\u001b[39;00mtype_spec\u001b[38;5;132;01m}\u001b[39;00m\u001b[38;5;124m for value of type \u001b[39m\u001b[38;5;132;01m{\u001b[39;00m\u001b[38;5;28mtype\u001b[39m(value)\u001b[38;5;132;01m}\u001b[39;00m\u001b[38;5;124m: \u001b[39m\u001b[38;5;132;01m{\u001b[39;00mvalue\u001b[38;5;132;01m}\u001b[39;00m\u001b[38;5;124m'\u001b[39m)\n",
      "File \u001b[0;32m/Library/Frameworks/Python.framework/Versions/3.8/lib/python3.8/site-packages/tensorflow_federated/python/common_libs/tracing.py:228\u001b[0m, in \u001b[0;36mtrace.<locals>.sync_trace\u001b[0;34m(*fn_args, **fn_kwargs)\u001b[0m\n\u001b[1;32m    226\u001b[0m completed \u001b[38;5;241m=\u001b[39m \u001b[38;5;28;01mFalse\u001b[39;00m\n\u001b[1;32m    227\u001b[0m \u001b[38;5;28;01mtry\u001b[39;00m:\n\u001b[0;32m--> 228\u001b[0m   result \u001b[38;5;241m=\u001b[39m \u001b[43mfn\u001b[49m\u001b[43m(\u001b[49m\u001b[38;5;241;43m*\u001b[39;49m\u001b[43mfn_args\u001b[49m\u001b[43m,\u001b[49m\u001b[43m \u001b[49m\u001b[38;5;241;43m*\u001b[39;49m\u001b[38;5;241;43m*\u001b[39;49m\u001b[43mfn_kwargs\u001b[49m\u001b[43m)\u001b[49m\n\u001b[1;32m    229\u001b[0m   completed \u001b[38;5;241m=\u001b[39m \u001b[38;5;28;01mTrue\u001b[39;00m\n\u001b[1;32m    230\u001b[0m   \u001b[38;5;28;01mtry\u001b[39;00m:\n",
      "File \u001b[0;32m/Library/Frameworks/Python.framework/Versions/3.8/lib/python3.8/site-packages/tensorflow_federated/python/core/impl/executors/eager_tf_executor.py:466\u001b[0m, in \u001b[0;36m_to_sequence_internal_rep\u001b[0;34m(value, type_spec)\u001b[0m\n\u001b[1;32m    464\u001b[0m   element_type \u001b[38;5;241m=\u001b[39m computation_types\u001b[38;5;241m.\u001b[39mto_type(value\u001b[38;5;241m.\u001b[39melement_spec)\n\u001b[1;32m    465\u001b[0m   value_type \u001b[38;5;241m=\u001b[39m computation_types\u001b[38;5;241m.\u001b[39mSequenceType(element_type)\n\u001b[0;32m--> 466\u001b[0m   \u001b[43mtype_spec\u001b[49m\u001b[38;5;241;43m.\u001b[39;49m\u001b[43mcheck_assignable_from\u001b[49m\u001b[43m(\u001b[49m\u001b[43mvalue_type\u001b[49m\u001b[43m)\u001b[49m\n\u001b[1;32m    467\u001b[0m   \u001b[38;5;28;01mreturn\u001b[39;00m value\n\u001b[1;32m    468\u001b[0m py_typecheck\u001b[38;5;241m.\u001b[39mcheck_type(type_spec, computation_types\u001b[38;5;241m.\u001b[39mSequenceType)\n",
      "File \u001b[0;32m/Library/Frameworks/Python.framework/Versions/3.8/lib/python3.8/site-packages/tensorflow_federated/python/core/impl/types/computation_types.py:261\u001b[0m, in \u001b[0;36mType.check_assignable_from\u001b[0;34m(self, source_type)\u001b[0m\n\u001b[1;32m    259\u001b[0m \u001b[38;5;124;03m\"\"\"Raises if values of `source_type` cannot be cast to this type.\"\"\"\u001b[39;00m\n\u001b[1;32m    260\u001b[0m \u001b[38;5;28;01mif\u001b[39;00m \u001b[38;5;129;01mnot\u001b[39;00m \u001b[38;5;28mself\u001b[39m\u001b[38;5;241m.\u001b[39mis_assignable_from(source_type):\n\u001b[0;32m--> 261\u001b[0m   \u001b[38;5;28;01mraise\u001b[39;00m TypeNotAssignableError(source_type\u001b[38;5;241m=\u001b[39msource_type, target_type\u001b[38;5;241m=\u001b[39m\u001b[38;5;28mself\u001b[39m)\n",
      "\u001b[0;31mTypeNotAssignableError\u001b[0m: Type `<x=int64[?,2],y=float32[?,1]>*` is not assignable to type `<x=int64[?,1],y=float32[?,1]>*`"
     ]
    }
   ],
   "source": [
    "federated_train_data = np.random.choice(tf_train_datasets, size=1, replace=False).tolist()\n",
    "state, metrics = training_process.next(state, federated_train_data)\n",
    "print(f'Train metrics:', metrics['train'])"
   ]
  },
  {
   "cell_type": "code",
   "execution_count": 113,
   "id": "5db2f0d4",
   "metadata": {},
   "outputs": [
    {
     "name": "stdout",
     "output_type": "stream",
     "text": [
      "Train round 0: OrderedDict([('rating_accuracy', 0.0), ('loss', nan)])\n",
      "Train round 1: OrderedDict([('rating_accuracy', 0.0), ('loss', nan)])\n",
      "Train round 2: OrderedDict([('rating_accuracy', 0.0030150753), ('loss', nan)])\n",
      "Train round 3: OrderedDict([('rating_accuracy', 0.004201681), ('loss', nan)])\n",
      "Train round 4: OrderedDict([('rating_accuracy', 0.0033613446), ('loss', nan)])\n",
      "Train round 5: OrderedDict([('rating_accuracy', 0.0053380784), ('loss', nan)])\n",
      "Train round 6: OrderedDict([('rating_accuracy', 0.0071174377), ('loss', nan)])\n",
      "Train round 7: OrderedDict([('rating_accuracy', 0.004201681), ('loss', nan)])\n",
      "Train round 8: OrderedDict([('rating_accuracy', 0.0035587188), ('loss', nan)])\n",
      "Train round 9: OrderedDict([('rating_accuracy', 0.0020100502), ('loss', nan)])\n",
      "Train round 10: OrderedDict([('rating_accuracy', 0.0030150753), ('loss', nan)])\n",
      "Train round 11: OrderedDict([('rating_accuracy', 0.0033613446), ('loss', nan)])\n",
      "Train round 12: OrderedDict([('rating_accuracy', 0.0053380784), ('loss', nan)])\n",
      "Train round 13: OrderedDict([('rating_accuracy', 0.0030150753), ('loss', nan)])\n",
      "Train round 14: OrderedDict([('rating_accuracy', 0.0033613446), ('loss', nan)])\n",
      "Train round 15: OrderedDict([('rating_accuracy', 0.0), ('loss', nan)])\n",
      "Train round 16: OrderedDict([('rating_accuracy', 0.0040201005), ('loss', nan)])\n",
      "Train round 17: OrderedDict([('rating_accuracy', 0.0033613446), ('loss', nan)])\n",
      "Train round 18: OrderedDict([('rating_accuracy', 0.0010050251), ('loss', nan)])\n",
      "Train round 19: OrderedDict([('rating_accuracy', 0.004201681), ('loss', nan)])\n",
      "Final Eval: OrderedDict([('loss', 0.0), ('rating_accuracy', 0.0)])\n"
     ]
    }
   ],
   "source": [
    "NUM_ROUNDS = 20\n",
    "\n",
    "train_losses = []\n",
    "train_accs = []\n",
    "\n",
    "state = training_process.initialize()\n",
    "\n",
    "# This may take a couple minutes to run.\n",
    "for i in range(NUM_ROUNDS):\n",
    "  federated_train_data = np.random.choice(tf_train_datasets, size=1, replace=False).tolist()\n",
    "  state, metrics = training_process.next(state, federated_train_data)\n",
    "  print(f'Train round {i}:', metrics['train'])\n",
    "  train_losses.append(metrics['train']['loss'])\n",
    "  train_accs.append(metrics['train']['rating_accuracy'])\n",
    "\n",
    "\n",
    "eval_metrics = evaluation_computation(state.model, tf_val_datasets)\n",
    "print('Final Eval:', eval_metrics['eval'])"
   ]
  },
  {
   "cell_type": "code",
   "execution_count": 102,
   "id": "691cbf78",
   "metadata": {},
   "outputs": [
    {
     "data": {
      "image/png": "[encoded data removed]",
      "text/plain": [
       "<Figure size 432x288 with 1 Axes>"
      ]
     },
     "metadata": {
      "needs_background": "light"
     },
     "output_type": "display_data"
    },
    {
     "data": {
      "image/png": "[encoded data removed]",
      "text/plain": [
       "<Figure size 432x288 with 1 Axes>"
      ]
     },
     "metadata": {
      "needs_background": "light"
     },
     "output_type": "display_data"
    }
   ],
   "source": [
    "plt.plot(range(NUM_ROUNDS), train_losses)\n",
    "plt.ylabel('Train Loss')\n",
    "plt.xlabel('Round')\n",
    "plt.title('Train Loss')\n",
    "plt.show()\n",
    "\n",
    "plt.plot(range(NUM_ROUNDS), train_accs)\n",
    "plt.ylabel('Train Accuracy')\n",
    "plt.xlabel('Round')\n",
    "plt.title('Train Accuracy')\n",
    "plt.show()"
   ]
  },
  {
   "cell_type": "code",
   "execution_count": null,
   "id": "75d0e902",
   "metadata": {},
   "outputs": [],
   "source": []
  },
  {
   "cell_type": "code",
   "execution_count": null,
   "id": "ea0b1bab",
   "metadata": {},
   "outputs": [],
   "source": []
  }
 ],
 "metadata": {
  "kernelspec": {
   "display_name": "Python 3 (ipykernel)",
   "language": "python",
   "name": "python3"
  },
  "language_info": {
   "codemirror_mode": {
    "name": "ipython",
    "version": 3
   },
   "file_extension": ".py",
   "mimetype": "text/x-python",
   "name": "python",
   "nbconvert_exporter": "python",
   "pygments_lexer": "ipython3",
   "version": "3.8.10"
  }
 },
 "nbformat": 4,
 "nbformat_minor": 5
}
